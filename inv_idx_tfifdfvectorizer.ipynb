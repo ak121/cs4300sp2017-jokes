{
 "cells": [
  {
   "cell_type": "markdown",
   "metadata": {
    "deletable": true,
    "editable": true
   },
   "source": [
    "# Make a function to build an inverted index and a tfidf vectorizer given tokenized text."
   ]
  },
  {
   "cell_type": "code",
   "execution_count": 26,
   "metadata": {
    "collapsed": false,
    "deletable": true,
    "editable": true
   },
   "outputs": [],
   "source": [
    "from collections import defaultdict\n",
    "\n",
    "\n",
    "from scipy.sparse import csr_matrix"
   ]
  },
  {
   "cell_type": "code",
   "execution_count": 18,
   "metadata": {
    "collapsed": true,
    "deletable": true,
    "editable": true
   },
   "outputs": [],
   "source": [
    "# TODOS\n",
    "# Figure out how to use inverted index with tfidf vectorizer (may have to make manual tfidf vectorizer)\n",
    "# Try using n-grams parameter and see how it affects results"
   ]
  },
  {
   "cell_type": "code",
   "execution_count": 19,
   "metadata": {
    "collapsed": true,
    "deletable": true,
    "editable": true
   },
   "outputs": [],
   "source": [
    "def get_inverted_index(list_of_jokes, include_title, include_post):\n",
    "    data = [(dt['title'] + ' ' + dt['post'] if include_post else dt['title']) if include_title else \n",
    "            (dt['post'] if include_post else '') for dt in list_of_jokes]\n",
    "    tok_data = [dt.split(' ') for dt in data]\n",
    "    return build_inverted_index(tok_data)\n",
    "\n",
    "def build_inverted_index(list_of_toks_lists):\n",
    "    \"\"\" Builds an inverted index from the messages.\n",
    "    \n",
    "    Arguments\n",
    "    =========\n",
    "     \n",
    "    msgs: list of dicts.\n",
    "        Each message in this list already has a 'toks'\n",
    "        field that contains the tokenized message.\n",
    "    \n",
    "    Returns\n",
    "    =======\n",
    "    \n",
    "    index: dict\n",
    "        For each term, the index contains a list of\n",
    "        tuples (doc_id, count_of_term_in_doc):\n",
    "        index[term] = [(d1, tf1), (d2, tf2), ...]\n",
    "        \n",
    "    Example\n",
    "    =======\n",
    "    \n",
    "    >> test_idx = build_inverted_index([\n",
    "    ...    {'toks': ['to', 'be', 'or', 'not', 'to', 'be']},\n",
    "    ...    {'toks': ['do', 'be', 'do', 'be', 'do']}])\n",
    "    \n",
    "    >> test_idx['be']\n",
    "    [(0, 2), (1, 2)]\n",
    "    \n",
    "    >> test_idx['not']\n",
    "    [(0, 1)]\n",
    "    \n",
    "    \"\"\"\n",
    "    # term --> tuple\n",
    "    index = defaultdict(list)\n",
    "    #for m in msgs:\n",
    "    for doc_id in range(0, len(list_of_toks_lists)):\n",
    "        term_to_count = defaultdict(int)\n",
    "        for tok in list_of_toks_lists[doc_id]:\n",
    "            term_to_count[tok] += 1\n",
    "        for t, cnt in term_to_count.iteritems():\n",
    "            index[t].append((doc_id, cnt))\n",
    "    return index    "
   ]
  },
  {
   "cell_type": "code",
   "execution_count": 20,
   "metadata": {
    "collapsed": true,
    "deletable": true,
    "editable": true
   },
   "outputs": [],
   "source": [
    "from sklearn.feature_extraction.text import TfidfVectorizer\n",
    "\n",
    "# input: list of dictionaries, where each dict is a joke.  The dict must have 'text' as a key. \n",
    "# include_title and include_text are boolean flags -- important because need to determine whether we want to include \n",
    "# just title for the text of the joke, or just the actual post, or both. (obviously at least one of the two needs to be \n",
    "# True)\n",
    "def build_tfidf(list_of_jokes, include_title, include_post, n_feats, min_df = 10, max_df = 0.8):\n",
    "    tfidf_vec = TfidfVectorizer(input='content', decode_error=u'ignore', strip_accents=u'unicode',\n",
    "                                analyzer=u'word',max_features=n_feats,stop_words='english',\n",
    "                                norm=u'l2',min_df=min_df,max_df=max_df,lowercase=True,vocabulary=None)\n",
    "    data = [(dt['title'] + ' ' + dt['post'] if include_post else dt['title']) if include_title else \n",
    "            (dt['post'] if include_post else '') for dt in list_of_jokes]\n",
    "    doc_by_vocab_sparse = tfidf_vec.fit_transform(data)\n",
    "    # doc_by_vocab = doc_by_vocab_sparse.toarray()   # <-- Need?\n",
    "\n",
    "    # Construct a inverted map from feature index to feature value (word) for later use\n",
    "    index_to_vocab = {i:v for i, v in enumerate(tfidf_vec.get_feature_names())}\n",
    "    \n",
    "    # return sparse tfidf matrix, and mapping showing the word's index to the word itself\n",
    "    return (doc_by_vocab_sparse, index_to_vocab)"
   ]
  },
  {
   "cell_type": "code",
   "execution_count": 21,
   "metadata": {
    "collapsed": true,
    "deletable": true,
    "editable": true
   },
   "outputs": [],
   "source": [
    "# Not used yet.\n",
    "def filter_title_post(list_of_jokes):\n",
    "    return [(dt['title'] + ' ' + dt['post'] if include_post else dt['title']) if include_title else \n",
    "            (dt['post'] if include_post else '') for dt in list_of_jokes]\n"
   ]
  },
  {
   "cell_type": "code",
   "execution_count": null,
   "metadata": {
    "collapsed": true
   },
   "outputs": [],
   "source": []
  },
  {
   "cell_type": "code",
   "execution_count": 22,
   "metadata": {
    "collapsed": false,
    "deletable": true,
    "editable": true,
    "scrolled": true
   },
   "outputs": [
    {
     "name": "stdout",
     "output_type": "stream",
     "text": [
      "defaultdict(<type 'list'>, {u'punchline_d': [(1, 1)], u'punchline_e': [(0, 1)], u'punchline_a': [(4, 1)], u'punchline_b': [(3, 1)], u'punchline_c': [(2, 1)]})\n"
     ]
    }
   ],
   "source": [
    "#TESTING\n",
    "print get_inverted_index(j, False, True)"
   ]
  },
  {
   "cell_type": "code",
   "execution_count": 58,
   "metadata": {
    "collapsed": false,
    "deletable": true,
    "editable": true,
    "scrolled": true
   },
   "outputs": [
    {
     "name": "stdout",
     "output_type": "stream",
     "text": [
      "{1: 0, 2: 1, 3: 2, 4: 3, 5: 4}\n",
      "{u'this is a title5': 5, u'this is a title3': 3, u'this is a title2': 2, u'this is a title': 1, u'this is a title4': 4}\n",
      "{1: u'this is a title', 2: u'this is a title2', 3: u'this is a title3', 4: u'this is a title4', 5: u'this is a title5'}\n",
      "{u'this is a title5': 4, u'this is a title3': 2, u'this is a title2': 1, u'this is a title': 0, u'this is a title4': 3}\n",
      "{0: u'this is a title', 1: u'this is a title2', 2: u'this is a title3', 3: u'this is a title4', 4: u'this is a title5'}\n",
      "(<5x10 sparse matrix of type '<type 'numpy.float64'>'\n",
      "\twith 10 stored elements in Compressed Sparse Row format>, {0: u'punchline_a', 1: u'punchline_b', 2: u'punchline_c', 3: u'punchline_d', 4: u'punchline_e', 5: u'title', 6: u'title2', 7: u'title3', 8: u'title4', 9: u'title5'})\n",
      "(5, 10)\n",
      "(10, 5)\n"
     ]
    }
   ],
   "source": [
    "# Precompute and save all of this information\n",
    "n_feats = 5000\n",
    "j = [{'id':1, u'title': u'this is a title', u'post': u'punchline_e'},{'id':2,u'title': u'this is a title2', u'post': u'punchline_d'},\n",
    "     {'id':3, u'title': u'this is a title3', u'post': u'punchline_c'},\n",
    "     {'id':4, u'title': u'this is a title4', u'post': u'punchline_b'},{'id':5, u'title': u'this is a title5', u'post': u'punchline_a'}]\n",
    "\n",
    "#here, we will assign an index for each joke id. This index will help us access data in numpy matrices.\n",
    "joke_id_to_index = {joke_id:index for index, joke_id in enumerate([d['id'] for d in j])}\n",
    "\n",
    "#we will also need a dictionary mapping joke titles to joke ids\n",
    "joke_title_to_id = {name:jid for name, jid in zip([d['title'] for d in j],\n",
    "                                                     [d['id'] for d in j])}\n",
    "joke_id_to_title = {v:k for k,v in joke_title_to_id.iteritems()}\n",
    "\n",
    "#and because it might be useful...\n",
    "joke_title_to_index = {title:joke_id_to_index[joke_title_to_id[title]] for title in [d['title'] for d in j]}\n",
    "joke_index_to_title = {v:k for k,v in joke_title_to_index.iteritems()}\n",
    "\n",
    "\n",
    "#printing\n",
    "print joke_id_to_index\n",
    "print joke_title_to_id\n",
    "print joke_id_to_title\n",
    "print joke_title_to_index\n",
    "print joke_index_to_title\n",
    "\n",
    "# I think order of rows in tfidf is same as order of docs in the list j.\n",
    "# I think order of cols in tfidf is same as order of what get_feature_names, which I think is in alpha order.\n",
    "tfidf, feat_names = build_tfidf(j, True, True, n_feats, min_df = 0, max_df = 1)\n",
    "# List of tuples. 0th entry in tuple is the joke_id\n",
    "inv_idx = get_inverted_index(j, True, True)\n",
    "\n",
    "print(tfidf, feat_names)\n",
    "\n",
    "\n",
    "# sims, like tfidf, is a sparse (CSR) matrix\n",
    "tfidf_t = tfidf.transpose()\n",
    "print tfidf.shape\n",
    "print tfidf_t.shape\n",
    "\n",
    "row1 = tfidf.getrow(0)\n",
    "row2 =  tfidf.getrow(1)\n",
    "\n",
    "# sims is sparse\n",
    "sims = tfidf * tfidf_t\n",
    "\n",
    "\n",
    "#print a[0].toarray()\n",
    "# print a[1]\n",
    "# print '\\n'\n",
    "# b =  build_tfidf(j, True, False, n_feats, min_df = 0, max_df = 1)\n",
    "# print b[0].toarray()\n",
    "# print b[1]\n",
    "# print '\\n'\n",
    "# c = build_tfidf(j, False, True, n_feats, min_df = 0, max_df = 1)\n",
    "# print c[0].toarray()\n",
    "# print c[1]\n",
    "# print '\\n'\n",
    "# Causes runtime error b/c there is clearly no text to consider at all.\n",
    "#print build_tfidf(j, False, False, n_feats, min_df = 0, max_df = 1) "
   ]
  },
  {
   "cell_type": "code",
   "execution_count": 63,
   "metadata": {
    "collapsed": false,
    "deletable": true,
    "editable": true
   },
   "outputs": [],
   "source": [
    "\n",
    "def get_sim(title1, title2, sims_mat):\n",
    "    \"\"\"\n",
    "    Arguments:\n",
    "        title1: The title of the first joke we are looking for.\n",
    "        title2: The title of the second joke we are looking for.\n",
    "        sims_mat: calculated as XX^T, where x is doc-by-vocab sparse matrix.\n",
    "    Returns:\n",
    "        similarity: Cosine similarity of the two movie transcripts.\n",
    "    \"\"\"\n",
    "    #Code completion 1.2\n",
    "    \n",
    "    # Cannot do a simple np.dot on vectors in sparse matrix.\n",
    "    #return np.dot(doc_by_vocab[movie_name_to_index[mov1],:],\n",
    "                      #doc_by_vocab[movie_name_to_index[mov2],:])\n",
    "    \n",
    "    idx1 = joke_title_to_index[title1]\n",
    "    idx2 = joke_title_to_index[title2]\n",
    "    return sims_mat[idx1, idx2]\n",
    "\n"
   ]
  },
  {
   "cell_type": "code",
   "execution_count": null,
   "metadata": {
    "collapsed": true
   },
   "outputs": [],
   "source": []
  }
 ],
 "metadata": {
  "kernelspec": {
   "display_name": "Python 2",
   "language": "python",
   "name": "python2"
  },
  "language_info": {
   "codemirror_mode": {
    "name": "ipython",
    "version": 2
   },
   "file_extension": ".py",
   "mimetype": "text/x-python",
   "name": "python",
   "nbconvert_exporter": "python",
   "pygments_lexer": "ipython2",
   "version": "2.7.13"
  }
 },
 "nbformat": 4,
 "nbformat_minor": 2
}

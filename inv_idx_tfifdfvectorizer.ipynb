{
 "cells": [
  {
   "cell_type": "markdown",
   "metadata": {},
   "source": [
    "# Make a function to build an inverted index and a tfidf vectorizer given tokenized text."
   ]
  },
  {
   "cell_type": "code",
   "execution_count": 47,
   "metadata": {
    "collapsed": false
   },
   "outputs": [],
   "source": [
    "from collections import defaultdict"
   ]
  },
  {
   "cell_type": "code",
   "execution_count": 48,
   "metadata": {
    "collapsed": true
   },
   "outputs": [],
   "source": [
    "# TODOS\n",
    "# Figure out how to use inverted index with tfidf vectorizer (may have to make manual tfidf vectorizer)\n",
    "# Try using n-grams parameter and see how it affects results"
   ]
  },
  {
   "cell_type": "code",
   "execution_count": 65,
   "metadata": {
    "collapsed": true
   },
   "outputs": [],
   "source": [
    "def get_inverted_index(list_of_jokes, include_title, include_post):\n",
    "    data = [(dt['title'] + ' ' + dt['post'] if include_post else dt['title']) if include_title else \n",
    "            (dt['post'] if include_post else '') for dt in list_of_jokes]\n",
    "    tok_data = [dt.split(' ') for dt in data]\n",
    "    return build_inverted_index(tok_data)\n",
    "\n",
    "def build_inverted_index(list_of_toks_lists):\n",
    "    \"\"\" Builds an inverted index from the messages.\n",
    "    \n",
    "    Arguments\n",
    "    =========\n",
    "     \n",
    "    msgs: list of dicts.\n",
    "        Each message in this list already has a 'toks'\n",
    "        field that contains the tokenized message.\n",
    "    \n",
    "    Returns\n",
    "    =======\n",
    "    \n",
    "    index: dict\n",
    "        For each term, the index contains a list of\n",
    "        tuples (doc_id, count_of_term_in_doc):\n",
    "        index[term] = [(d1, tf1), (d2, tf2), ...]\n",
    "        \n",
    "    Example\n",
    "    =======\n",
    "    \n",
    "    >> test_idx = build_inverted_index([\n",
    "    ...    {'toks': ['to', 'be', 'or', 'not', 'to', 'be']},\n",
    "    ...    {'toks': ['do', 'be', 'do', 'be', 'do']}])\n",
    "    \n",
    "    >> test_idx['be']\n",
    "    [(0, 2), (1, 2)]\n",
    "    \n",
    "    >> test_idx['not']\n",
    "    [(0, 1)]\n",
    "    \n",
    "    \"\"\"\n",
    "    # term --> tuple\n",
    "    index = defaultdict(list)\n",
    "    #for m in msgs:\n",
    "    for doc_id in range(0, len(list_of_toks_lists)):\n",
    "        term_to_count = defaultdict(int)\n",
    "        for tok in list_of_toks_lists[doc_id]:\n",
    "            term_to_count[tok] += 1\n",
    "        for t, cnt in term_to_count.iteritems():\n",
    "            index[t].append((doc_id, cnt))\n",
    "    return index    "
   ]
  },
  {
   "cell_type": "code",
   "execution_count": 66,
   "metadata": {
    "collapsed": true
   },
   "outputs": [],
   "source": [
    "from sklearn.feature_extraction.text import TfidfVectorizer\n",
    "\n",
    "# input: list of dictionaries, where each dict is a joke.  The dict must have 'text' as a key. \n",
    "# include_title and include_text are boolean flags -- important because need to determine whether we want to include \n",
    "# just title for the text of the joke, or just the actual post, or both. (obviously at least one of the two needs to be \n",
    "# True)\n",
    "def build_tfidf(list_of_jokes, include_title, include_post, n_feats, min_df = 10, max_df = 0.8):\n",
    "    tfidf_vec = TfidfVectorizer(input='content', decode_error=u'ignore', strip_accents=u'unicode',\n",
    "                                analyzer=u'word',max_features=n_feats,stop_words='english',\n",
    "                                norm=u'l2',min_df=min_df,max_df=max_df,lowercase=True,vocabulary=None)\n",
    "    data = [(dt['title'] + ' ' + dt['post'] if include_post else dt['title']) if include_title else \n",
    "            (dt['post'] if include_post else '') for dt in list_of_jokes]\n",
    "    doc_by_vocab_sparse = tfidf_vec.fit_transform(data)\n",
    "    # doc_by_vocab = doc_by_vocab_sparse.toarray()   # <-- Need?\n",
    "\n",
    "    # Construct a inverted map from feature index to feature value (word) for later use\n",
    "    index_to_vocab = {i:v for i, v in enumerate(tfidf_vec.get_feature_names())}\n",
    "    \n",
    "    # return sparse tfidf matrix, and mapping showing the word's index to the word itself\n",
    "    return (doc_by_vocab_sparse, index_to_vocab)"
   ]
  },
  {
   "cell_type": "code",
   "execution_count": 67,
   "metadata": {
    "collapsed": true
   },
   "outputs": [],
   "source": [
    "def filter_title_post(list_of_jokes):\n",
    "    return [(dt['title'] + ' ' + dt['post'] if include_post else dt['title']) if include_title else \n",
    "            (dt['post'] if include_post else '') for dt in list_of_jokes]\n"
   ]
  },
  {
   "cell_type": "code",
   "execution_count": 68,
   "metadata": {
    "collapsed": false
   },
   "outputs": [
    {
     "name": "stdout",
     "output_type": "stream",
     "text": [
      "[7, 7, 7, 7, 7, 7]\n",
      "[7, 6, 7, 7, 7, 7]\n",
      "(<5x10 sparse matrix of type '<type 'numpy.float64'>'\n",
      "\twith 10 stored elements in Compressed Sparse Row format>, {0: u'punchline_a', 1: u'punchline_b', 2: u'punchline_c', 3: u'punchline_d', 4: u'punchline_e', 5: u'title', 6: u'title2', 7: u'title3', 8: u'title4', 9: u'title5'})\n",
      "\n",
      "\n",
      "(<5x5 sparse matrix of type '<type 'numpy.float64'>'\n",
      "\twith 5 stored elements in Compressed Sparse Row format>, {0: u'title', 1: u'title2', 2: u'title3', 3: u'title4', 4: u'title5'})\n",
      "\n",
      "\n",
      "(<5x5 sparse matrix of type '<type 'numpy.float64'>'\n",
      "\twith 5 stored elements in Compressed Sparse Row format>, {0: u'punchline_a', 1: u'punchline_b', 2: u'punchline_c', 3: u'punchline_d', 4: u'punchline_e'})\n",
      "\n",
      "\n"
     ]
    }
   ],
   "source": [
    "#TESTS\n",
    "d = [7]*6\n",
    "print d\n",
    "d[1] = 6\n",
    "print d\n",
    "\n",
    "\n",
    "n_feats = 5000\n",
    "j = [{u'title': u'this is a title', u'post': u'punchline_e'},{u'title': u'this is a title2', u'post': u'punchline_d'},\n",
    "     {u'title': u'this is a title3', u'post': u'punchline_c'},\n",
    "     {u'title': u'this is a title4', u'post': u'punchline_b'},{u'title': u'this is a title5', u'post': u'punchline_a'}]\n",
    "print build_tfidf(j, True, True, n_feats, min_df = 0, max_df = 1)\n",
    "print '\\n'\n",
    "print build_tfidf(j, True, False, n_feats, min_df = 0, max_df = 1)\n",
    "print '\\n'\n",
    "print build_tfidf(j, False, True, n_feats, min_df = 0, max_df = 1)\n",
    "print '\\n'\n",
    "# Causes runtime error b/c there is clearly no text to consider at all.\n",
    "#print build_tfidf(j, False, False, n_feats, min_df = 0, max_df = 1) "
   ]
  },
  {
   "cell_type": "code",
   "execution_count": 69,
   "metadata": {
    "collapsed": false
   },
   "outputs": [
    {
     "name": "stdout",
     "output_type": "stream",
     "text": [
      "defaultdict(<type 'list'>, {u'punchline_d': [(1, 1)], u'punchline_e': [(0, 1)], u'punchline_a': [(4, 1)], u'punchline_b': [(3, 1)], u'punchline_c': [(2, 1)]})\n"
     ]
    }
   ],
   "source": [
    "#TESTING\n",
    "print get_inverted_index(j, False, True)"
   ]
  },
  {
   "cell_type": "code",
   "execution_count": null,
   "metadata": {
    "collapsed": true
   },
   "outputs": [],
   "source": []
  },
  {
   "cell_type": "code",
   "execution_count": null,
   "metadata": {
    "collapsed": true
   },
   "outputs": [],
   "source": []
  }
 ],
 "metadata": {
  "kernelspec": {
   "display_name": "Python 2",
   "language": "python",
   "name": "python2"
  },
  "language_info": {
   "codemirror_mode": {
    "name": "ipython",
    "version": 2
   },
   "file_extension": ".py",
   "mimetype": "text/x-python",
   "name": "python",
   "nbconvert_exporter": "python",
   "pygments_lexer": "ipython2",
   "version": "2.7.13"
  }
 },
 "nbformat": 4,
 "nbformat_minor": 2
}

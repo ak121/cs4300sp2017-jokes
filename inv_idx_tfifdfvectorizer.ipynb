{
 "cells": [
  {
   "cell_type": "markdown",
   "metadata": {
    "deletable": true,
    "editable": true
   },
   "source": [
    "# Make a function to build an inverted index and a tfidf vectorizer given tokenized text."
   ]
  },
  {
   "cell_type": "code",
   "execution_count": 6,
   "metadata": {
    "collapsed": false,
    "deletable": true,
    "editable": true
   },
   "outputs": [],
   "source": [
    "from collections import defaultdict\n",
    "from scipy.sparse import csr_matrix\n",
    "import json"
   ]
  },
  {
   "cell_type": "code",
   "execution_count": 7,
   "metadata": {
    "collapsed": false,
    "deletable": true,
    "editable": true
   },
   "outputs": [],
   "source": [
    "with open('Jokes.json') as json_data:\n",
    "    jokes = json.load(json_data)    "
   ]
  },
  {
   "cell_type": "code",
   "execution_count": 8,
   "metadata": {
    "collapsed": true,
    "deletable": true,
    "editable": true
   },
   "outputs": [],
   "source": [
    "# TODOS\n",
    "# n-grams for tfidf-vectorizer?"
   ]
  },
  {
   "cell_type": "code",
   "execution_count": 9,
   "metadata": {
    "collapsed": true,
    "deletable": true,
    "editable": true
   },
   "outputs": [],
   "source": [
    "def get_inverted_index(list_of_jokes, include_title, include_post):\n",
    "    data = [(dt['title'] + ' ' + dt['selftext'] if include_post else dt['title']) if include_title else \n",
    "            (dt['selftext'] if include_post else '') for dt in list_of_jokes]\n",
    "    tok_data = [dt.split(' ') for dt in data]\n",
    "    return build_inverted_index(tok_data)\n",
    "\n",
    "def build_inverted_index(list_of_toks_lists):\n",
    "    \"\"\" Builds an inverted index from the messages.\n",
    "    \n",
    "    Arguments\n",
    "    =========\n",
    "     \n",
    "    msgs: list of dicts.\n",
    "        Each message in this list already has a 'toks'\n",
    "        field that contains the tokenized message.\n",
    "    \n",
    "    Returns\n",
    "    =======\n",
    "    \n",
    "    index: dict\n",
    "        For each term, the index contains a list of\n",
    "        tuples (doc_id, count_of_term_in_doc):\n",
    "        index[term] = [(d1, tf1), (d2, tf2), ...]\n",
    "        \n",
    "    Example\n",
    "    =======\n",
    "    \n",
    "    >> test_idx = build_inverted_index([\n",
    "    ...    {'toks': ['to', 'be', 'or', 'not', 'to', 'be']},\n",
    "    ...    {'toks': ['do', 'be', 'do', 'be', 'do']}])\n",
    "    \n",
    "    >> test_idx['be']\n",
    "    [(0, 2), (1, 2)]\n",
    "    \n",
    "    >> test_idx['not']\n",
    "    [(0, 1)]\n",
    "    \n",
    "    \"\"\"\n",
    "    # term --> tuple\n",
    "    index = defaultdict(list)\n",
    "    #for m in msgs:\n",
    "    for doc_id in range(0, len(list_of_toks_lists)):\n",
    "        term_to_count = defaultdict(int)\n",
    "        for tok in list_of_toks_lists[doc_id]:\n",
    "            term_to_count[tok] += 1\n",
    "        for t, cnt in term_to_count.iteritems():\n",
    "            index[t].append((doc_id, cnt))\n",
    "    return index    "
   ]
  },
  {
   "cell_type": "code",
   "execution_count": 10,
   "metadata": {
    "collapsed": true,
    "deletable": true,
    "editable": true
   },
   "outputs": [],
   "source": [
    "from sklearn.feature_extraction.text import TfidfVectorizer\n",
    "\n",
    "# input: list of dictionaries, where each dict is a joke.  The dict must have 'text' as a key. \n",
    "# include_title and include_text are boolean flags -- important because need to determine whether we want to include \n",
    "# just title for the text of the joke, or just the actual post, or both. (obviously at least one of the two needs to be \n",
    "# True)\n",
    "def build_tfidf(list_of_jokes, include_title, include_post, n_feats, min_df = 10, max_df = 0.8):\n",
    "    tfidf_vec = TfidfVectorizer(input='content', decode_error=u'ignore', strip_accents=u'unicode',\n",
    "                                analyzer=u'word',max_features=n_feats,stop_words='english',\n",
    "                                norm=u'l2',min_df=min_df,max_df=max_df,lowercase=True,vocabulary=None)\n",
    "    data = [(dt['title'] + ' ' + dt['selftext'] if include_post else dt['title']) if include_title else \n",
    "            (dt['selftext'] if include_post else '') for dt in list_of_jokes]\n",
    "    doc_by_vocab_sparse = tfidf_vec.fit_transform(data)\n",
    "    # doc_by_vocab = doc_by_vocab_sparse.toarray()   # <-- Need?\n",
    "\n",
    "    # Construct a inverted map from feature index to feature value (word) for later use\n",
    "    index_to_vocab = {i:v for i, v in enumerate(tfidf_vec.get_feature_names())}\n",
    "    \n",
    "    # return sparse tfidf matrix, and mapping showing the word's index to the word itself\n",
    "    return (doc_by_vocab_sparse, index_to_vocab)"
   ]
  },
  {
   "cell_type": "code",
   "execution_count": 11,
   "metadata": {
    "collapsed": true,
    "deletable": true,
    "editable": true
   },
   "outputs": [],
   "source": [
    "# Not used yet.\n",
    "def filter_title_post(list_of_jokes):\n",
    "    return [(dt['title'] + ' ' + dt['selftext'] if include_post else dt['title']) if include_title else \n",
    "            (dt['selftext'] if include_post else '') for dt in list_of_jokes]\n"
   ]
  },
  {
   "cell_type": "code",
   "execution_count": null,
   "metadata": {
    "collapsed": true,
    "deletable": true,
    "editable": true
   },
   "outputs": [],
   "source": []
  },
  {
   "cell_type": "code",
   "execution_count": 12,
   "metadata": {
    "collapsed": false,
    "deletable": true,
    "editable": true,
    "scrolled": true
   },
   "outputs": [],
   "source": [
    "#TESTING\n",
    "j = jokes\n",
    "# print get_inverted_index(j, False, True)"
   ]
  },
  {
   "cell_type": "code",
   "execution_count": 36,
   "metadata": {
    "collapsed": false,
    "deletable": true,
    "editable": true
   },
   "outputs": [
    {
     "data": {
      "text/plain": [
       "[(47, 1),\n",
       " (64, 1),\n",
       " (85, 1),\n",
       " (208, 2),\n",
       " (260, 1),\n",
       " (316, 1),\n",
       " (339, 1),\n",
       " (400, 1),\n",
       " (475, 3),\n",
       " (479, 1),\n",
       " (504, 1),\n",
       " (507, 1),\n",
       " (611, 2),\n",
       " (647, 1),\n",
       " (682, 1),\n",
       " (834, 1),\n",
       " (881, 1),\n",
       " (891, 1),\n",
       " (898, 1),\n",
       " (901, 1),\n",
       " (910, 1),\n",
       " (966, 1),\n",
       " (971, 1),\n",
       " (972, 1),\n",
       " (979, 1),\n",
       " (981, 1),\n",
       " (986, 1),\n",
       " (1008, 1),\n",
       " (1039, 1),\n",
       " (1079, 1),\n",
       " (1224, 2),\n",
       " (1284, 1),\n",
       " (1290, 1),\n",
       " (1397, 1),\n",
       " (1421, 1),\n",
       " (1450, 1),\n",
       " (1488, 1),\n",
       " (1505, 1),\n",
       " (1520, 2),\n",
       " (1523, 1),\n",
       " (1540, 2),\n",
       " (1647, 1),\n",
       " (1776, 1),\n",
       " (1794, 1),\n",
       " (1800, 1),\n",
       " (1811, 1),\n",
       " (1911, 2),\n",
       " (1923, 1),\n",
       " (1928, 1),\n",
       " (1957, 1),\n",
       " (1985, 1),\n",
       " (2098, 1),\n",
       " (2158, 1),\n",
       " (2205, 1),\n",
       " (2210, 1),\n",
       " (2283, 2),\n",
       " (2320, 1),\n",
       " (2337, 1),\n",
       " (2389, 1),\n",
       " (2440, 1),\n",
       " (2504, 2),\n",
       " (2701, 1),\n",
       " (2726, 1),\n",
       " (2798, 1),\n",
       " (2807, 2),\n",
       " (2952, 1),\n",
       " (3029, 1),\n",
       " (3032, 1),\n",
       " (3057, 1),\n",
       " (3097, 1),\n",
       " (3146, 1),\n",
       " (3192, 1),\n",
       " (3333, 1),\n",
       " (3340, 1),\n",
       " (3450, 1),\n",
       " (3466, 2),\n",
       " (3475, 1),\n",
       " (3519, 1),\n",
       " (3552, 1),\n",
       " (3697, 1),\n",
       " (3699, 2),\n",
       " (3806, 1),\n",
       " (3866, 3),\n",
       " (3887, 1),\n",
       " (4040, 1),\n",
       " (4125, 1),\n",
       " (4178, 1),\n",
       " (4182, 1),\n",
       " (4189, 2),\n",
       " (4195, 1),\n",
       " (4253, 1),\n",
       " (4290, 1),\n",
       " (4297, 1),\n",
       " (4454, 1),\n",
       " (4494, 2),\n",
       " (4502, 1),\n",
       " (4578, 1),\n",
       " (4582, 1),\n",
       " (4624, 1),\n",
       " (4739, 1),\n",
       " (4789, 2),\n",
       " (4797, 1),\n",
       " (4863, 1),\n",
       " (4895, 1),\n",
       " (4904, 1),\n",
       " (4919, 1),\n",
       " (4985, 1),\n",
       " (4992, 1),\n",
       " (5034, 1),\n",
       " (5114, 1),\n",
       " (5312, 1),\n",
       " (5360, 1),\n",
       " (5454, 4),\n",
       " (5492, 1),\n",
       " (5510, 1),\n",
       " (5521, 2),\n",
       " (5547, 1),\n",
       " (5598, 1),\n",
       " (5607, 1),\n",
       " (5677, 1),\n",
       " (5684, 1),\n",
       " (5741, 1),\n",
       " (5758, 1),\n",
       " (5814, 1),\n",
       " (5819, 1),\n",
       " (5884, 1),\n",
       " (5899, 1),\n",
       " (6054, 2),\n",
       " (6058, 1),\n",
       " (6120, 1),\n",
       " (6151, 1),\n",
       " (6374, 1),\n",
       " (6442, 2),\n",
       " (6446, 1),\n",
       " (6485, 1),\n",
       " (6550, 1),\n",
       " (6574, 1),\n",
       " (6600, 1),\n",
       " (6655, 1),\n",
       " (6673, 1),\n",
       " (6791, 1),\n",
       " (6799, 1),\n",
       " (6890, 1),\n",
       " (6922, 1),\n",
       " (6957, 1),\n",
       " (7025, 1),\n",
       " (7101, 1),\n",
       " (7105, 1),\n",
       " (7108, 1),\n",
       " (7118, 1),\n",
       " (7141, 1),\n",
       " (7147, 1),\n",
       " (7153, 1),\n",
       " (7160, 1),\n",
       " (7188, 1),\n",
       " (7312, 1),\n",
       " (7315, 1),\n",
       " (7323, 1),\n",
       " (7374, 1),\n",
       " (7380, 1),\n",
       " (7419, 1),\n",
       " (7428, 1),\n",
       " (7500, 1),\n",
       " (7560, 1),\n",
       " (7638, 2),\n",
       " (7681, 1),\n",
       " (7859, 1),\n",
       " (7869, 1),\n",
       " (7931, 1),\n",
       " (7949, 1),\n",
       " (8068, 1),\n",
       " (8106, 1),\n",
       " (8180, 1),\n",
       " (8516, 1),\n",
       " (8553, 1),\n",
       " (8613, 5),\n",
       " (8615, 2),\n",
       " (8640, 1),\n",
       " (8673, 1),\n",
       " (8687, 1),\n",
       " (8707, 2),\n",
       " (8740, 1),\n",
       " (8750, 1),\n",
       " (8786, 1),\n",
       " (8802, 1),\n",
       " (8809, 1),\n",
       " (8845, 3),\n",
       " (8976, 1),\n",
       " (8981, 1),\n",
       " (9011, 1),\n",
       " (9048, 2),\n",
       " (9184, 1),\n",
       " (9197, 1),\n",
       " (9258, 1),\n",
       " (9307, 1),\n",
       " (9319, 1),\n",
       " (9352, 2),\n",
       " (9375, 1),\n",
       " (9475, 1),\n",
       " (9482, 1),\n",
       " (9501, 1),\n",
       " (9504, 1),\n",
       " (9559, 1),\n",
       " (9567, 1),\n",
       " (9592, 1),\n",
       " (9636, 1),\n",
       " (9638, 1),\n",
       " (9684, 3),\n",
       " (9700, 1),\n",
       " (9764, 1),\n",
       " (9865, 1),\n",
       " (9913, 1),\n",
       " (9947, 1),\n",
       " (10004, 1),\n",
       " (10044, 1),\n",
       " (10060, 1),\n",
       " (10106, 1),\n",
       " (10135, 1),\n",
       " (10140, 1),\n",
       " (10190, 1),\n",
       " (10297, 1),\n",
       " (10323, 1),\n",
       " (10332, 2),\n",
       " (10376, 1),\n",
       " (10406, 1),\n",
       " (10413, 1),\n",
       " (10460, 1),\n",
       " (10466, 1),\n",
       " (10498, 1),\n",
       " (10517, 2),\n",
       " (10540, 5),\n",
       " (10542, 3),\n",
       " (10546, 3),\n",
       " (10566, 1),\n",
       " (10593, 1),\n",
       " (10594, 1),\n",
       " (10595, 1),\n",
       " (10633, 1),\n",
       " (10663, 1),\n",
       " (10694, 1),\n",
       " (10761, 1),\n",
       " (10824, 1),\n",
       " (10850, 1),\n",
       " (10898, 1),\n",
       " (10905, 1),\n",
       " (10906, 1),\n",
       " (10946, 1),\n",
       " (10980, 1),\n",
       " (11026, 1),\n",
       " (11050, 1),\n",
       " (11091, 1),\n",
       " (11189, 1),\n",
       " (11206, 1),\n",
       " (11254, 2),\n",
       " (11340, 1),\n",
       " (11350, 1),\n",
       " (11392, 1),\n",
       " (11551, 1),\n",
       " (11560, 1),\n",
       " (11578, 1),\n",
       " (11609, 2),\n",
       " (11640, 3),\n",
       " (11708, 1),\n",
       " (11722, 1),\n",
       " (11723, 1),\n",
       " (11764, 1),\n",
       " (11807, 1),\n",
       " (11822, 1),\n",
       " (11851, 1),\n",
       " (11952, 1),\n",
       " (11965, 5),\n",
       " (12050, 1),\n",
       " (12067, 1),\n",
       " (12126, 2),\n",
       " (12247, 1),\n",
       " (12291, 1),\n",
       " (12306, 1),\n",
       " (12351, 1),\n",
       " (12395, 1),\n",
       " (12396, 1),\n",
       " (12400, 1),\n",
       " (12402, 2),\n",
       " (12462, 1),\n",
       " (12507, 1),\n",
       " (12528, 4),\n",
       " (12550, 1),\n",
       " (12575, 1),\n",
       " (12646, 2),\n",
       " (12649, 1),\n",
       " (12657, 1),\n",
       " (12698, 1),\n",
       " (12714, 1),\n",
       " (12722, 1),\n",
       " (12810, 1),\n",
       " (12842, 1),\n",
       " (12878, 1),\n",
       " (12883, 2),\n",
       " (12899, 1),\n",
       " (12954, 5),\n",
       " (13118, 3),\n",
       " (13171, 1),\n",
       " (13191, 1),\n",
       " (13221, 1),\n",
       " (13402, 1),\n",
       " (13424, 1),\n",
       " (13465, 1),\n",
       " (13492, 1),\n",
       " (13494, 1),\n",
       " (13506, 1),\n",
       " (13528, 2),\n",
       " (13531, 1),\n",
       " (13533, 1),\n",
       " (13547, 1),\n",
       " (13733, 1),\n",
       " (13869, 1),\n",
       " (13883, 2),\n",
       " (13888, 2),\n",
       " (13945, 1),\n",
       " (13966, 1),\n",
       " (13983, 2),\n",
       " (14011, 2),\n",
       " (14020, 1),\n",
       " (14025, 1),\n",
       " (14029, 1),\n",
       " (14036, 1),\n",
       " (14056, 2),\n",
       " (14179, 1),\n",
       " (14215, 1),\n",
       " (14230, 1),\n",
       " (14342, 1),\n",
       " (14395, 1),\n",
       " (14426, 2),\n",
       " (14435, 3),\n",
       " (14441, 2),\n",
       " (14450, 1),\n",
       " (14465, 1),\n",
       " (14478, 1),\n",
       " (14486, 1),\n",
       " (14507, 2),\n",
       " (14509, 2),\n",
       " (14609, 1),\n",
       " (14922, 1),\n",
       " (14980, 5),\n",
       " (15104, 1),\n",
       " (15175, 2),\n",
       " (15228, 1),\n",
       " (15280, 1),\n",
       " (15382, 1),\n",
       " (15385, 1),\n",
       " (15407, 1),\n",
       " (15462, 1),\n",
       " (15484, 2),\n",
       " (15507, 2),\n",
       " (15566, 6),\n",
       " (15608, 8),\n",
       " (15650, 1),\n",
       " (15826, 1),\n",
       " (15864, 7),\n",
       " (15866, 1),\n",
       " (15958, 2),\n",
       " (15987, 1),\n",
       " (16000, 2),\n",
       " (16021, 1),\n",
       " (16236, 1),\n",
       " (16256, 2),\n",
       " (16259, 1),\n",
       " (16313, 1),\n",
       " (16343, 1),\n",
       " (16356, 1),\n",
       " (16378, 1),\n",
       " (16401, 1),\n",
       " (16414, 1),\n",
       " (16467, 1),\n",
       " (16492, 1),\n",
       " (16518, 1),\n",
       " (16531, 1),\n",
       " (16776, 1),\n",
       " (16780, 1),\n",
       " (16781, 2),\n",
       " (16935, 1),\n",
       " (16960, 1),\n",
       " (16979, 2),\n",
       " (17015, 1),\n",
       " (17083, 1),\n",
       " (17114, 1),\n",
       " (17125, 3),\n",
       " (17174, 1),\n",
       " (17246, 1),\n",
       " (17274, 1),\n",
       " (17398, 1),\n",
       " (17455, 1),\n",
       " (17475, 2),\n",
       " (17521, 1),\n",
       " (17608, 1),\n",
       " (17709, 1),\n",
       " (17711, 1),\n",
       " (17784, 1),\n",
       " (17796, 1),\n",
       " (17844, 1),\n",
       " (18059, 1),\n",
       " (18285, 2),\n",
       " (18348, 1),\n",
       " (18458, 2),\n",
       " (18488, 1),\n",
       " (18556, 1),\n",
       " (18586, 1),\n",
       " (18590, 1),\n",
       " (18792, 1),\n",
       " (18831, 1),\n",
       " (18874, 1),\n",
       " (18944, 1),\n",
       " (19016, 1),\n",
       " (19028, 1),\n",
       " (19031, 1),\n",
       " (19090, 1),\n",
       " (19169, 1),\n",
       " (19212, 1),\n",
       " (19228, 1),\n",
       " (19236, 1),\n",
       " (19238, 1),\n",
       " (19239, 1),\n",
       " (19247, 1),\n",
       " (19285, 1),\n",
       " (19288, 1),\n",
       " (19300, 1),\n",
       " (19404, 1),\n",
       " (19453, 1),\n",
       " (19464, 1),\n",
       " (19497, 1),\n",
       " (19682, 1),\n",
       " (19734, 2),\n",
       " (19788, 1),\n",
       " (19831, 2),\n",
       " (19846, 1),\n",
       " (19902, 1),\n",
       " (19939, 1),\n",
       " (19991, 1),\n",
       " (19997, 1),\n",
       " (20065, 1),\n",
       " (20102, 1),\n",
       " (20156, 1),\n",
       " (20167, 1),\n",
       " (20207, 1),\n",
       " (20287, 1),\n",
       " (20417, 3),\n",
       " (20435, 1),\n",
       " (20449, 1),\n",
       " (20455, 1),\n",
       " (20472, 1),\n",
       " (20492, 1),\n",
       " (20500, 1),\n",
       " (20524, 1),\n",
       " (20548, 1),\n",
       " (20608, 1),\n",
       " (20706, 1),\n",
       " (20748, 1),\n",
       " (20749, 1),\n",
       " (20758, 1),\n",
       " (20793, 1),\n",
       " (20829, 1),\n",
       " (20831, 1),\n",
       " (20834, 1),\n",
       " (20844, 1),\n",
       " (20863, 1),\n",
       " (20919, 1),\n",
       " (20926, 1),\n",
       " (20999, 1),\n",
       " (21097, 1),\n",
       " (21103, 1),\n",
       " (21137, 1),\n",
       " (21223, 1),\n",
       " (21310, 1),\n",
       " (21360, 3),\n",
       " (21408, 1),\n",
       " (21423, 1),\n",
       " (21437, 1),\n",
       " (21491, 4),\n",
       " (21686, 1),\n",
       " (21736, 1),\n",
       " (21746, 1),\n",
       " (21761, 1),\n",
       " (21916, 1),\n",
       " (21920, 1),\n",
       " (21956, 1),\n",
       " (22002, 1),\n",
       " (22038, 1),\n",
       " (22066, 1),\n",
       " (22160, 1),\n",
       " (22181, 1),\n",
       " (22245, 1),\n",
       " (22270, 1),\n",
       " (22359, 1),\n",
       " (22386, 1),\n",
       " (22427, 1),\n",
       " (22435, 1),\n",
       " (22567, 1),\n",
       " (22585, 1),\n",
       " (22607, 2),\n",
       " (22644, 2),\n",
       " (22654, 2),\n",
       " (22677, 1),\n",
       " (22709, 1),\n",
       " (22765, 1),\n",
       " (23003, 1),\n",
       " (23062, 1),\n",
       " (23097, 1),\n",
       " (23214, 1),\n",
       " (23279, 1),\n",
       " (23370, 1),\n",
       " (23383, 1),\n",
       " (23393, 1),\n",
       " (23395, 1),\n",
       " (23398, 1),\n",
       " (23409, 2),\n",
       " (23426, 1),\n",
       " (23439, 1),\n",
       " (23524, 2),\n",
       " (23632, 1),\n",
       " (23657, 1),\n",
       " (23678, 1),\n",
       " (23704, 1),\n",
       " (23708, 1),\n",
       " (23710, 1),\n",
       " (23738, 1),\n",
       " (23904, 1),\n",
       " (23922, 1),\n",
       " (23946, 1),\n",
       " (23988, 1),\n",
       " (24000, 1),\n",
       " (24004, 1),\n",
       " (24033, 1),\n",
       " (24150, 1),\n",
       " (24165, 1),\n",
       " (24176, 1),\n",
       " (24187, 1),\n",
       " (24281, 4),\n",
       " (24293, 2),\n",
       " (24476, 2),\n",
       " (24515, 1),\n",
       " (24573, 1),\n",
       " (24627, 1),\n",
       " (24662, 3),\n",
       " (24674, 1),\n",
       " (24767, 1),\n",
       " (24885, 2),\n",
       " (24956, 1),\n",
       " (24962, 1)]"
      ]
     },
     "execution_count": 36,
     "metadata": {},
     "output_type": "execute_result"
    }
   ],
   "source": [
    "get_inverted_index(j, True, True)['black']"
   ]
  },
  {
   "cell_type": "code",
   "execution_count": null,
   "metadata": {
    "collapsed": true,
    "deletable": true,
    "editable": true
   },
   "outputs": [],
   "source": []
  },
  {
   "cell_type": "code",
   "execution_count": 80,
   "metadata": {
    "collapsed": false,
    "deletable": true,
    "editable": true,
    "scrolled": true
   },
   "outputs": [
    {
     "name": "stdout",
     "output_type": "stream",
     "text": [
      "(<25000x5000 sparse matrix of type '<type 'numpy.float64'>'\n",
      "\twith 5000 stored elements in Compressed Sparse Row format>, {0: u'00000000', 1: u'00100111', 2: u'00101110', 3: u'00101111', 4: u'01010001', 5: u'01100010', 6: u'01100110', 7: u'01110000', 8: u'01110101', 9: u'01110111', 10: u'01111001', 11: u'112lbs', 12: u'1216', 13: u'1217', 14: u'132', 15: u'156', 16: u'1922', 17: u'1fuckingprettyrose', 18: u'217', 19: u'25years', 20: u'274', 21: u'2m', 22: u'2n', 23: u'3500', 24: u'3m', 25: u'4563', 26: u'486', 27: u'5ft', 28: u'5l', 29: u'7182', 30: u'71828', 31: u'96fm', 32: u'985', 33: u'__', 34: u'____', 35: u'____________________________________________________________________', 36: u'aaaaaaa', 37: u'abbey', 38: u'abe', 39: u'abhijeet', 40: u'abstain', 41: u'adders', 42: u'adel', 43: u'adjutant', 44: u'admin', 45: u'adventist', 46: u'affer', 47: u'afuka', 48: u'afulabi', 49: u'aguilera', 50: u'ahmad', 51: u'airhorn', 52: u'alexis', 53: u'aliquam', 54: u'alloy', 55: u'amet', 56: u'ami', 57: u'amigo', 58: u'amita', 59: u'amitabha', 60: u'amoeba', 61: u'amos', 62: u'andheri', 63: u'andrea', 64: u'angelfish', 65: u'anglish', 66: u'animate', 67: u'animations', 68: u'animator', 69: u'annie', 70: u'antichrist', 71: u'antijokes', 72: u'antwortet', 73: u'aphit', 74: u'appendage', 75: u'aqualung', 76: u'archaeology', 77: u'archway', 78: u'arcu', 79: u'arf', 80: u'arianna', 81: u'arr', 82: u'arseholes', 83: u'aspergers', 84: u'assailant', 85: u'asstasticbum', 86: u'atkins', 87: u'aus', 88: u'autocrats', 89: u'automation', 90: u'avonovich', 91: u'axie', 92: u'badge', 93: u'bai', 94: u'bailout', 95: u'bali', 96: u'ballad', 97: u'ballerina', 98: u'ballon', 99: u'bao', 100: u'barfed', 101: u'barfender', 102: u'barmaid', 103: u'barstaff', 104: u'bashrc', 105: u'bawk', 106: u'bayou', 107: u'bazooka', 108: u'bb', 109: u'bbj', 110: u'bbs', 111: u'beads', 112: u'beastiality', 113: u'beaudreaux', 114: u'becaue', 115: u'becker', 116: u'bedford', 117: u'beiber', 118: u'belfry', 119: u'belligerent', 120: u'beneficiary', 121: u'berlusconi', 122: u'bhuddist', 123: u'binding', 124: u'bins', 125: u'birches', 126: u'biro', 127: u'blasphemy', 128: u'blatant', 129: u'bleeping', 130: u'blevins', 131: u'blindness', 132: u'blossom', 133: u'bolder', 134: u'bombings', 135: u'boners', 136: u'boog', 137: u'booga', 138: u'booker', 139: u'booly', 140: u'bop', 141: u'bore', 142: u'bosnian', 143: u'botany', 144: u'boudreaux', 145: u'bourne', 146: u'brands', 147: u'bravo', 148: u'brein', 149: u'bribe', 150: u'bricky', 151: u'briton', 152: u'brothelmother', 153: u'bubbling', 154: u'bubby', 155: u'buckets', 156: u'buckwheat', 157: u'buenos', 158: u'bugabuga', 159: u'bullfight', 160: u'burps', 161: u'burqa', 162: u'bushel', 163: u'bushels', 164: u'buttfor', 165: u'buttitches', 166: u'c2', 167: u'caaawr', 168: u'caboose', 169: u'cade', 170: u'cadillac', 171: u'cah', 172: u'caltrans', 173: u'candelabrum', 174: u'canyananga', 175: u'captors', 176: u'caramelo', 177: u'carma', 178: u'catcher', 179: u'cathy', 180: u'cauchy', 181: u'cavern', 182: u'cavorted', 183: u'caw', 184: u'cbt', 185: u'cecelia', 186: u'celibacy', 187: u'centred', 188: u'centrum', 189: u'chaaaaaaaaaaaaaa', 190: u'chang', 191: u'chants', 192: u'chao', 193: u'charcoal', 194: u'chargers', 195: u'checkpoint', 196: u'cheesemaker', 197: u'chen', 198: u'cheney', 199: u'cherokee', 200: u'chichi', 201: u'chieftain', 202: u'chiken', 203: u'christina', 204: u'christy', 205: u'chutes', 206: u'cicadas', 207: u'cid', 208: u'cinnabar', 209: u'clang', 210: u'cletus', 211: u'clifford', 212: u'clinked', 213: u'clive', 214: u'clover', 215: u'clownfish', 216: u'clubbed', 217: u'clutches', 218: u'clydesdale', 219: u'cm', 220: u'coasted', 221: u'coaxing', 222: u'comanche', 223: u'communicates', 224: u'compass', 225: u'compromising', 226: u'computed', 227: u'concedes', 228: u'concentrating', 229: u'concludes', 230: u'condimentum', 231: u'confessions', 232: u'confessor', 233: u'confides', 234: u'conformist', 235: u'connoisseur', 236: u'constance', 237: u'consultant', 238: u'contacting', 239: u'contractor', 240: u'cooksaheb', 241: u'coors', 242: u'copies', 243: u'coppers', 244: u'corey', 245: u'corona', 246: u'corvette', 247: u'cory', 248: u'cosmo', 249: u'cots', 250: u'cout', 251: u'cozy', 252: u'crate', 253: u'cray', 254: u'creampies', 255: u'creationist', 256: u'creepse', 257: u'cremate', 258: u'crisco', 259: u'croaks', 260: u'crocodiology', 261: u'crossings', 262: u'crux', 263: u'cubanos', 264: u'cucked', 265: u'cuckoo', 266: u'cuff', 267: u'curator', 268: u'curfew', 269: u'custers', 270: u'cyborg', 271: u'dadda', 272: u'dahl', 273: u'daiquiri', 274: u'dakota', 275: u'dame', 276: u'damit', 277: u'danny', 278: u'dans', 279: u'darius', 280: u'darren', 281: u'dashing', 282: u'dateline', 283: u'davon', 284: u'decapitate', 285: u'deceived', 286: u'deepa', 287: u'deflower', 288: u'deflowered', 289: u'delegate', 290: u'delong', 291: u'denature', 292: u'denaturing', 293: u'denigrate', 294: u'dennis', 295: u'denzel', 296: u'deposits', 297: u'devon', 298: u'diabetic', 299: u'dialog', 300: u'diam', 301: u'dickgirl', 302: u'dictate', 303: u'diller', 304: u'dimitri', 305: u'dirtbike', 306: u'disciple', 307: u'disguised', 308: u'dishrag', 309: u'dispatch', 310: u'diversify', 311: u'doctorly', 312: u'dojazd', 313: u'dojazdem', 314: u'domut', 315: u'donk', 316: u'donkeyboy', 317: u'dorblu', 318: u'dormitory', 319: u'doughter', 320: u'dougie', 321: u'downloadable', 322: u'drawbridge', 323: u'dreeuh', 324: u'drinker', 325: u'drinkers', 326: u'druggist', 327: u'drunker', 328: u'duke', 329: u'dumber', 330: u'dumdumdum', 331: u'durex', 332: u'ebony', 333: u'ect', 334: u'edna', 335: u'edu', 336: u'eearmus', 337: u'eiffel', 338: u'elder', 339: u'electrification', 340: u'elit', 341: u'elk', 342: u'emperors', 343: u'emphasis', 344: u'emphasizing', 345: u'enclosed', 346: u'encode_crids', 347: u'encyclopedia', 348: u'endorsement', 349: u'energetically', 350: u'enthralled', 351: u'enzym', 352: u'epidemic', 353: u'erasers', 354: u'ere', 355: u'erma', 356: u'erogenous', 357: u'ethanol', 358: u'eucalyptus', 359: u'evannnnn', 360: u'evelyn', 361: u'expand', 362: u'explosions', 363: u'exposes', 364: u'fabio', 365: u'fabricio', 366: u'faked', 367: u'fangs', 368: u'fangt', 369: u'farmhand', 370: u'farms', 371: u'fascism', 372: u'fasted', 373: u'fatass', 374: u'fe2', 375: u'febreeze', 376: u'feckin', 377: u'fenster', 378: u'fertilizer', 379: u'fey', 380: u'fidgety', 381: u'fifa', 382: u'figs', 383: u'fikki', 384: u'filmographer', 385: u'filmrole', 386: u'financially', 387: u'fing', 388: u'fishhook', 389: u'flamenco', 390: u'flanders', 391: u'flashlights', 392: u'flickering', 393: u'flinstone', 394: u'flyover', 395: u'fonder', 396: u'fookin', 397: u'footed', 398: u'footpath', 399: u'forecaster', 400: u'formatted', 401: u'fortuitous', 402: u'fragt', 403: u'franken', 404: u'freddy', 405: u'frito', 406: u'froggy', 407: u'fugahwi', 408: u'fukarwe', 409: u'fumbled', 410: u'furry', 411: u'futanari', 412: u'gama', 413: u'gamal', 414: u'gameshow', 415: u'gat', 416: u'gator', 417: u'gauze', 418: u'genocides', 419: u'gestalt', 420: u'ghaddafi', 421: u'giene', 422: u'gilbert', 423: u'giles', 424: u'gina', 425: u'ginnie', 426: u'giuseppe', 427: u'glides', 428: u'glooming', 429: u'glug', 430: u'goalkeepers', 431: u'godmother', 432: u'golo', 433: u'gona', 434: u'goobernuts', 435: u'gooding', 436: u'goodings', 437: u'goold', 438: u'gorbachev', 439: u'gordo', 440: u'gory', 441: u'gosling', 442: u'governmen', 443: u'gracie', 444: u'gravedigger', 445: u'greenism', 446: u'grinder', 447: u'gripes', 448: u'groaned', 449: u'grogans', 450: u'groin', 451: u'groundhogs', 452: u'grouse', 453: u'gryffindor', 454: u'grylls', 455: u'guardsman', 456: u'guidelines', 457: u'gunpowder', 458: u'guud', 459: u'gwapes', 460: u'haben', 461: u'haggis', 462: u'halls', 463: u'hamlet', 464: u'handler', 465: u'hangar', 466: u'hanks', 467: u'harris', 468: u'havoc', 469: u'hazelnuts', 470: u'headaches', 471: u'headshots', 472: u'heartlepool', 473: u'hedburg', 474: u'heehaw', 475: u'hehaw', 476: u'herschel', 477: u'hickory', 478: u'hieroglyphics', 479: u'hijab', 480: u'hillsborough', 481: u'hitched', 482: u'hodor', 483: u'hofgir', 484: u'homing', 485: u'homos', 486: u'honorus', 487: u'hooded', 488: u'horchata', 489: u'horizons', 490: u'horus', 491: u'hospitals', 492: u'html5', 493: u'hu', 494: u'huang', 495: u'hubbin', 496: u'hufflepuff', 497: u'huhuh', 498: u'hulga', 499: u'hulu', 500: u'hunat', 501: u'huntin', 502: u'huntsman', 503: u'hy', 504: u'hyderabad', 505: u'hydroxl', 506: u'hypothetical', 507: u'hyuk', 508: u'ia1', 509: u'ibuprofen', 510: u'icelander', 511: u'igor', 512: u'illinivich', 513: u'impersonated', 514: u'impulse', 515: u'incivility', 516: u'indicator', 517: u'indy', 518: u'infectious', 519: u'informatic', 520: u'ings', 521: u'inherent', 522: u'inked', 523: u'innards', 524: u'inning', 525: u'inpatient', 526: u'inscribed', 527: u'insurans', 528: u'intercept', 529: u'interfered', 530: u'internist', 531: u'interprets', 532: u'intervene', 533: u'invents', 534: u'io', 535: u'irv', 536: u'ivanovich', 537: u'jambon', 538: u'janice', 539: u'janine', 540: u'jasper', 541: u'jayde', 542: u'jeb', 543: u'jellybaby', 544: u'jellybean', 545: u'jervaise', 546: u'jeweller', 547: u'jhone', 548: u'jib', 549: u'jiggs', 550: u'jingle', 551: u'jinni', 552: u'jinny', 553: u'jist', 554: u'johnnie', 555: u'joke_is_not_for_religious_butthurts', 556: u'jubilant', 557: u'julie', 558: u'junji', 559: u'junky', 560: u'kabul', 561: u'kante', 562: u'karp', 563: u'katie', 564: u'kawasaki', 565: u'kay', 566: u'keats', 567: u'khalifa', 568: u'khan', 569: u'khmer', 570: u'ki', 571: u'kickass', 572: u'kik', 573: u'kingdoms', 574: u'kirschener', 575: u'kislyak', 576: u'koalas', 577: u'kodak', 578: u'kors', 579: u'kosovo', 580: u'kowtowing', 581: u'krypton', 582: u'ksc', 583: u'labeouf', 584: u'labronski', 585: u'lads', 586: u'landslide', 587: u'laundering', 588: u'lawnmower', 589: u'layin', 590: u'leach', 591: u'lebanese', 592: u'leftist', 593: u'lein', 594: u'lentils', 595: u'letes', 596: u'lfg', 597: u'lg', 598: u'lieutenants', 599: u'lifesavers', 600: u'lighted', 601: u'limes', 602: u'lingling', 603: u'lissina', 604: u'longlegs', 605: u'looser', 606: u'loosey', 607: u'loosing', 608: u'lop', 609: u'lopitoffame', 610: u'lopsided', 611: u'lopthided', 612: u'lorem', 613: u'lorraine', 614: u'lorries', 615: u'losses', 616: u'lotniska', 617: u'lotnisko', 618: u'lotto', 619: u'lotus', 620: u'louisville', 621: u'lounging', 622: u'lovable', 623: u'loveyou', 624: u'lovin', 625: u'lowe', 626: u'lowercase', 627: u'lowkey', 628: u'lowly', 629: u'loyalists', 630: u'loyally', 631: u'loyd', 632: u'lpg', 633: u'lpts', 634: u'luaghing', 635: u'luau', 636: u'lucia', 637: u'luckiest', 638: u'luckys', 639: u'lucrative', 640: u'luftwaffle', 641: u'lug', 642: u'lugged', 643: u'lughtbulb', 644: u'lul', 645: u'luminescent', 646: u'lumped', 647: u'lumps', 648: u'lunatic', 649: u'lunged', 650: u'lunges', 651: u'lunging', 652: u'lurches', 653: u'lushness', 654: u'lust', 655: u'lustful', 656: u'lustfully', 657: u'luxembourg', 658: u'luxemburg', 659: u'luxuriously', 660: u'lvl', 661: u'lye', 662: u'lynard', 663: u'lynched', 664: u'lynx', 665: u'lyric', 666: u'lzy', 667: u'm16', 668: u'm25', 669: u'm6', 670: u'mabillsfan', 671: u'macabre', 672: u'macaque', 673: u'macaroni', 674: u'macbeth', 675: u'macemen', 676: u'maces', 677: u'machen', 678: u'machete', 679: u'machina', 680: u'machinery', 681: u'machocist', 682: u'macleod', 683: u'macro', 684: u'madcap', 685: u'madden', 686: u'maddie', 687: u'maddow', 688: u'madeleine', 689: u'madeout', 690: u'madison', 691: u'madman', 692: u'madoff', 693: u'madras', 694: u'maduro', 695: u'mae', 696: u'maecenas', 697: u'maestro', 698: u'mafias', 699: u'mag', 700: u'mage', 701: u'maggots', 702: u'magikarp', 703: u'magistrate', 704: u'magma', 705: u'magnetic', 706: u'magnets', 707: u'magnon', 708: u'magpie', 709: u'mahdi', 710: u'maiden', 711: u'maids', 712: u'mailing', 713: u'mailmen', 714: u'mails', 715: u'mains', 716: u'mairage', 717: u'maisie', 718: u'majors', 719: u'makeout', 720: u'makeshift', 721: u'maket', 722: u'makin', 723: u'malady', 724: u'maladze', 725: u'malaga', 726: u'malaise', 727: u'malamute', 728: u'malapropism', 729: u'malaria', 730: u'malay', 731: u'malaysia', 732: u'malcolm', 733: u'malcontent', 734: u'malfunction', 735: u'malfunctions', 736: u'malia', 737: u'malice', 738: u'malignant', 739: u'mallet', 740: u'malley', 741: u'malnutrition', 742: u'malox', 743: u'malpractice', 744: u'malt', 745: u'maltese', 746: u'malware', 747: u'mammaries', 748: u'mammarys', 749: u'mammothgram', 750: u'mammoths', 751: u'mammy', 752: u'manageable', 753: u'manatee', 754: u'manchesterunited', 755: u'manchurian', 756: u'mandate', 757: u'mandated', 758: u'mandatory', 759: u'mandel', 760: u'mandela', 761: u'mandelbaum', 762: u'mandembassy', 763: u'mandingo', 764: u'maneiac', 765: u'mang', 766: u'mangoes', 767: u'mangrove', 768: u'mangroves', 769: u'manhatin', 770: u'maniac', 771: u'manically', 772: u'manifesting', 773: u'manifests', 774: u'manipulate', 775: u'manipulative', 776: u'manitoba', 777: u'manliest', 778: u'manmade', 779: u'mann', 780: u'mannequin', 781: u'mannerly', 782: u'manning', 783: u'manny', 784: u'manolo', 785: u'manoti', 786: u'mansions', 787: u'manslaughter', 788: u'mansplainer', 789: u'manspreading', 790: u'mantel', 791: u'mantlepiece', 792: u'manually', 793: u'manufactured', 794: u'manutd', 795: u'manuvering', 796: u'mapants', 797: u'mapping', 798: u'mar', 799: u'marc', 800: u'marche', 801: u'mardi', 802: u'margarita', 803: u'margeret', 804: u'margin', 805: u'marginalized', 806: u'margins', 807: u'margo', 808: u'marhini', 809: u'mariachi', 810: u'mariah', 811: u'marichino', 812: u'marijewana', 813: u'marinade', 814: u'marinara', 815: u'mariner', 816: u'marioneteer', 817: u'marios', 818: u'marital', 819: u'mariwuana', 820: u'marketplace', 821: u'marlin', 822: u'marooned', 823: u'marque', 824: u'marshall', 825: u'marsupial', 826: u'martell', 827: u'martelleus', 828: u'martha', 829: u'martling', 830: u'maru', 831: u'marveled', 832: u'marvellous', 833: u'marvels', 834: u'maryland', 835: u'marzipans', 836: u'masala', 837: u'mascost', 838: u'maseltoe', 839: u'mashing', 840: u'mashups', 841: u'masked', 842: u'masochism', 843: u'mason', 844: u'masonry', 845: u'massachusetts', 846: u'massages', 847: u'massagonist', 848: u'mast', 849: u'mastectomy', 850: u'masterbated', 851: u'masterbation', 852: u'masterchef', 853: u'mastered', 854: u'masterfully', 855: u'mastering', 856: u'mastermind', 857: u'masterpiece', 858: u'masterpieces', 859: u'mastiff', 860: u'mastiffs', 861: u'mastrubate', 862: u'masts', 863: u'masturbaters', 864: u'masturbator', 865: u'masturbators', 866: u'matchbox', 867: u'matching', 868: u'matchmaker', 869: u'matchmakers', 870: u'matchsticks', 871: u'mateen', 872: u'materialistic', 873: u'materializes', 874: u'mathemetician', 875: u'mathmetician', 876: u'mathmetition', 877: u'matic', 878: u'matoasties', 879: u'matress', 880: u'matrimonial', 881: u'matron', 882: u'mattarella', 883: u'matted', 884: u'mattie', 885: u'mattis', 886: u'matured', 887: u'matures', 888: u'maui', 889: u'mauling', 890: u'mauls', 891: u'maureen', 892: u'maury', 893: u'maurypovichmon', 894: u'mauser', 895: u'maxi', 896: u'maxim', 897: u'maximilian', 898: u'maxwell', 899: u'mayb', 900: u'mayberry', 901: u'maybeyoucanhireateam', 902: u'mayday', 903: u'mayflower', 904: u'mayweather', 905: u'mbbs', 906: u'mbezi', 907: u'mcarthur', 908: u'mcat', 909: u'mcavity', 910: u'mcavoy', 911: u'mcchicken', 912: u'mccloud', 913: u'mccoatup', 914: u'mcconnaughey', 915: u'mcdermott', 916: u'mcfarlane', 917: u'mcflirty', 918: u'mcfly', 919: u'mcginty', 920: u'mcintyre', 921: u'mckinney', 922: u'mcmahons', 923: u'mcmaster', 924: u'mcmurphy', 925: u'mcpick', 926: u'mcqueen', 927: u'mcrib', 928: u'mctrump', 929: u'me_irl', 930: u'me_irl_', 931: u'meadow', 932: u'meager', 933: u'meandering', 934: u'meaner', 935: u'meaningful', 936: u'meatball', 937: u'meats', 938: u'meaty', 939: u'mechanically', 940: u'medaling', 941: u'medalist', 942: u'medellin', 943: u'mediaeval', 944: u'medias', 945: u'medicinal', 946: u'medics', 947: u'meditates', 948: u'meee', 949: u'meei', 950: u'meekly', 951: u'meel', 952: u'meeny', 953: u'meep', 954: u'meetin', 955: u'meezorp', 956: u'meg', 957: u'megastructures', 958: u'megathread', 959: u'megatron', 960: u'megyn', 961: u'mein_kampf', 962: u'meintenance', 963: u'meiosis', 964: u'melaina', 965: u'melanias', 966: u'melanie', 967: u'melanoma', 968: u'melbourne', 969: u'melchior', 970: u'melina', 971: u'melissa', 972: u'mellinials', 973: u'melodies', 974: u'melville', 975: u'memembery', 976: u'memoirs', 977: u'memorial', 978: u'memorialize', 979: u'memoriam', 980: u'memorize', 981: u'memphis', 982: u'menacing', 983: u'menacingly', 984: u'menards', 985: u'mencia', 986: u'mended', 987: u'mengele', 988: u'menopause', 989: u'menora', 990: u'menorahs', 991: u'menschen', 992: u'menstrual', 993: u'menstruation', 994: u'menswear', 995: u'mentiom', 996: u'mentors', 997: u'mentos', 998: u'ments', 999: u'meoowww', 1000: u'meowing', 1001: u'meowschwitz', 1002: u'meowt', 1003: u'meowtain', 1004: u'meowtian', 1005: u'meowtside', 1006: u'meoww', 1007: u'mercdeces', 1008: u'mercedez', 1009: u'mercenary', 1010: u'merchants', 1011: u'merciful', 1012: u'merciless', 1013: u'mercury', 1014: u'mereswine', 1015: u'merge', 1016: u'merit', 1017: u'merried', 1018: u'meself', 1019: u'mesothelioma', 1020: u'messaging', 1021: u'messenger', 1022: u'messes', 1023: u'messi', 1024: u'metalhead', 1025: u'metaphorically', 1026: u'metathor', 1027: u'meteorite', 1028: u'meteorites', 1029: u'methane', 1030: u'methanol', 1031: u'methead', 1032: u'methodist', 1033: u'metro', 1034: u'mets', 1035: u'metus', 1036: u'mew', 1037: u'mexcians', 1038: u'mexica', 1039: u'mexicos', 1040: u'mexikhans', 1041: u'mexxican', 1042: u'meye', 1043: u'meyer', 1044: u'mg', 1045: u'mghbdhgufsgsifbtjsh', 1046: u'mh370', 1047: u'mhm', 1048: u'miasta', 1049: u'mia\\u0142em', 1050: u'michal', 1051: u'michel', 1052: u'mickydolenzes', 1053: u'micro', 1054: u'microbiologist', 1055: u'microbiologists', 1056: u'microorganisms', 1057: u'microscope', 1058: u'microscopes', 1059: u'microseconds', 1060: u'microsugery', 1061: u'microtome', 1062: u'microwaves', 1063: u'microwaving', 1064: u'micspam', 1065: u'middleweight', 1066: u'midi', 1067: u'midichlorians', 1068: u'midival', 1069: u'midland', 1070: u'midlands', 1071: u'midterm', 1072: u'midterms', 1073: u'midwife', 1074: u'mien', 1075: u'miff', 1076: u'migit', 1077: u'mignon', 1078: u'migos', 1079: u'migraine', 1080: u'migrant', 1081: u'mildred', 1082: u'milestone', 1083: u'miley', 1084: u'milhouse', 1085: u'milio', 1086: u'militantly', 1087: u'militia', 1088: u'militiaman', 1089: u'milkbags', 1090: u'milled', 1091: u'millenial', 1092: u'millennium', 1093: u'millie', 1094: u'millimetre', 1095: u'millionares', 1096: u'millipede', 1097: u'milliseconds', 1098: u'mills', 1099: u'milner', 1100: u'milomaher', 1101: u'mimic', 1102: u'mince', 1103: u'minchin', 1104: u'mindedness', 1105: u'mindf', 1106: u'mindfuck', 1107: u'minecrafted', 1108: u'minecrap', 1109: u'mineralogist', 1110: u'minerals', 1111: u'mineshaft', 1112: u'minestrone', 1113: u'mingle', 1114: u'mingling', 1115: u'minimalists', 1116: u'minimel', 1117: u'miniskirt', 1118: u'ministeroni', 1119: u'ministers', 1120: u'ministries', 1121: u'ministry', 1122: u'mink', 1123: u'minney', 1124: u'minnnndddd', 1125: u'minnow', 1126: u'minted', 1127: u'minting', 1128: u'mints', 1129: u'minty', 1130: u'miny', 1131: u'mipsy', 1132: u'mire', 1133: u'mis', 1134: u'misanthrope', 1135: u'misbranded', 1136: u'miscalculation', 1137: u'miscarriages', 1138: u'miscarried', 1139: u'miscellaneous', 1140: u'mischievous', 1141: u'mischievously', 1142: u'miscounted', 1143: u'misdirection', 1144: u'miserables', 1145: u'miserabowl', 1146: u'miserliness', 1147: u'mishandled', 1148: u'misidentified', 1149: u'misinterpreted', 1150: u'mislead', 1151: u'misleading', 1152: u'misled', 1153: u'mismanagement', 1154: u'misogynists', 1155: u'misogyny', 1156: u'misplaced', 1157: u'missionaries', 1158: u'missions', 1159: u'misspelling', 1160: u'mistreated', 1161: u'misty', 1162: u'misunderstanding', 1163: u'misunderstandings', 1164: u'mit', 1165: u'mitabha', 1166: u'mitchell', 1167: u'mites', 1168: u'mitoastis', 1169: u'mitosis', 1170: u'mitt', 1171: u'mixer', 1172: u'miya', 1173: u'mj', 1174: u'mlp', 1175: u'mm', 1176: u'mmhmm', 1177: u'mmmmh', 1178: u'mmmmm', 1179: u'mmmmmno', 1180: u'mmy', 1181: u'moana', 1182: u'moat', 1183: u'mobilize', 1184: u'mocha', 1185: u'mocked', 1186: u'mockery', 1187: u'mocking', 1188: u'mockingbirds', 1189: u'modelling', 1190: u'moderating', 1191: u'modernize', 1192: u'modifications', 1193: u'modify', 1194: u'modmail', 1195: u'moe', 1196: u'moebius', 1197: u'moesha', 1198: u'mohamed', 1199: u'mohawk', 1200: u'mohel', 1201: u'moi', 1202: u'moimoi', 1203: u'moines', 1204: u'moishe', 1205: u'moisturize', 1206: u'moisturizer', 1207: u'molars', 1208: u'molassation', 1209: u'molasses', 1210: u'molded', 1211: u'molecular', 1212: u'molecules', 1213: u'molesters', 1214: u'molestie', 1215: u'molly', 1216: u'moly', 1217: u'momentary', 1218: u'mona', 1219: u'monarch', 1220: u'monarchs', 1221: u'monarchy', 1222: u'monchengladbach', 1223: u'monetise', 1224: u'mong', 1225: u'mongodb', 1226: u'mongolian', 1227: u'mongoloyd', 1228: u'monitors', 1229: u'monkeeeeey', 1230: u'monocle', 1231: u'monogamy', 1232: u'monogomist', 1233: u'monologue', 1234: u'monotonous', 1235: u'monsignor', 1236: u'mont', 1237: u'montana', 1238: u'moochacho', 1239: u'moody', 1240: u'moog', 1241: u'moolala', 1242: u'moom', 1243: u'mooncakes', 1244: u'mooning', 1245: u'moonlights', 1246: u'moonlit', 1247: u'moons', 1248: u'moonshine', 1249: u'moonwalk', 1250: u'moonwalking', 1251: u'moonwalks', 1252: u'moooom', 1253: u'mooooooooove', 1254: u'mooooossssssse', 1255: u'mootiplies', 1256: u'mootube', 1257: u'mopeds', 1258: u'mopes', 1259: u'moping', 1260: u'moppin', 1261: u'mopping', 1262: u'morbid', 1263: u'mordbid', 1264: u'mordor', 1265: u'morey', 1266: u'moronic', 1267: u'morrin', 1268: u'mort', 1269: u'mortals', 1270: u'mortar', 1271: u'morticians', 1272: u'mortis', 1273: u'morton', 1274: u'morts', 1275: u'mortuary', 1276: u'mosche', 1277: u'moshi', 1278: u'moslem', 1279: u'mosqueito', 1280: u'mostaccoli', 1281: u'motels', 1282: u'motha', 1283: u'motherboard', 1284: u'motherboards', 1285: u'motherfu', 1286: u'motherfuckerboard', 1287: u'motherhood', 1288: u'mothership', 1289: u'moths', 1290: u'moti', 1291: u'motif', 1292: u'motionless', 1293: u'motivate', 1294: u'motivated', 1295: u'motivating', 1296: u'motorcyclist', 1297: u'motorcyle', 1298: u'motoring', 1299: u'motorists', 1300: u'moulana', 1301: u'mounds', 1302: u'mountainous', 1303: u'mounth', 1304: u'mountians', 1305: u'mounts', 1306: u'mourners', 1307: u'mournful', 1308: u'mourns', 1309: u'mousey', 1310: u'mousse', 1311: u'mouthy', 1312: u'mover', 1313: u'mown', 1314: u'moynecrap', 1315: u'mozna', 1316: u'mozza', 1317: u'mp3', 1318: u'mpeach', 1319: u'mpg', 1320: u'mra', 1321: u'mrga', 1322: u'mrow', 1323: u'mrsa', 1324: u'msn', 1325: u'msrp', 1326: u'mtr', 1327: u'mtv', 1328: u'mu', 1329: u'muahahaha', 1330: u'mucus', 1331: u'mudcrab', 1332: u'mudshake', 1333: u'mudslide', 1334: u'muesli', 1335: u'mufasa', 1336: u'muff', 1337: u'muffled', 1338: u'mufti', 1339: u'muggle', 1340: u'muhaha', 1341: u'muhammered', 1342: u'mui', 1343: u'mules', 1344: u'mullered', 1345: u'mulls', 1346: u'multiclass', 1347: u'multiclassing', 1348: u'multimillionaire', 1349: u'multiplex', 1350: u'multiverse', 1351: u'mumbeling', 1352: u'mumbling', 1353: u'mummies', 1354: u'mummified', 1355: u'mums', 1356: u'munchies', 1357: u'munching', 1358: u'mundanity', 1359: u'munich', 1360: u'municipal', 1361: u'murdock', 1362: u'murica', 1363: u'murkowski', 1364: u'murmur', 1365: u'muscat', 1366: u'muse', 1367: u'mushit', 1368: u'musky', 1369: u'muslin', 1370: u'mussolini', 1371: u'musty', 1372: u'mutant', 1373: u'mutants', 1374: u'mutation', 1375: u'mutes', 1376: u'muthafuckaboard', 1377: u'mutilated', 1378: u'muttering', 1379: u'mutton', 1380: u'muzzle', 1381: u'my_brain', 1382: u'my_girlfriend_just_dumped_me_for_talking_too_much', 1383: u'mycobacterium', 1384: u'mycology', 1385: u'mycose', 1386: u'mycoxaflappin', 1387: u'myff', 1388: u'mynah', 1389: u'mynahs', 1390: u'myopic', 1391: u'mypillow', 1392: u'myrrh', 1393: u'mysteriously', 1394: u'mystically', 1395: u'mythology', 1396: u'mywoman', 1397: u'mzee', 1398: u'naaa', 1399: u'naaaa', 1400: u'naagb', 1401: u'naah', 1402: u'naahh', 1403: u'naclmore', 1404: u'naclo', 1405: u'nagged', 1406: u'nagger', 1407: u'naggers', 1408: u'nahhh', 1409: u'nahhhhhh', 1410: u'nair', 1411: u'nakedness', 1412: u'nama', 1413: u'nameless', 1414: u'nametag', 1415: u'namned', 1416: u'nan', 1417: u'nand', 1418: u'nando', 1419: u'nanga', 1420: u'nantucket', 1421: u'nape', 1422: u'napped', 1423: u'nappies', 1424: u'nappy', 1425: u'naps', 1426: u'narcissists', 1427: u'narco', 1428: u'narcoleptic', 1429: u'narcotics', 1430: u'narkoleptic', 1431: u'narnia', 1432: u'narration', 1433: u'naruto', 1434: u'narvik', 1435: u'nasal', 1436: u'nasas', 1437: u'nash', 1438: u'nasties', 1439: u'nastiest', 1440: u'nated', 1441: u'nationalist', 1442: u'nationality', 1443: u'nato', 1444: u'natures', 1445: u'naughtiest', 1446: u'nauseated', 1447: u'nauseous', 1448: u'nautical', 1449: u'nautically', 1450: u'nautistic', 1451: u'nazareth', 1452: u'nazgul', 1453: u'nco', 1454: u'ndncndd', 1455: u'ndy', 1456: u'ne', 1457: u'neal', 1458: u'neale', 1459: u'nearer', 1460: u'nears', 1461: u'nec', 1462: u'necessity', 1463: u'necked', 1464: u'necklaces', 1465: u'neckligent', 1466: u'neckline', 1467: u'necktar', 1468: u'necktie', 1469: u'neckwear', 1470: u'necronom_nom_nom', 1471: u'necrophelia', 1472: u'necrophillia', 1473: u'ned', 1474: u'needlessly', 1475: u'needy', 1476: u'neeson', 1477: u'negate', 1478: u'negatively', 1479: u'negatives', 1480: u'negativity', 1481: u'neglect', 1482: u'neglected', 1483: u'negligible', 1484: u'negotiate', 1485: u'negotiated', 1486: u'negros', 1487: u'nehemiah', 1488: u'neigbour', 1489: u'neigbourhood', 1490: u'neighboorhood', 1491: u'neighboring', 1492: u'neighborly', 1493: u'neighther', 1494: u'neiigghh', 1495: u'neinjew', 1496: u'neins', 1497: u'nell', 1498: u'nem', 1499: u'nematode', 1500: u'neologasm', 1501: u'neologism', 1502: u'neonazis', 1503: u'nepal', 1504: u'nephews', 1505: u'neque', 1506: u'nerdcubed', 1507: u'nervos', 1508: u'nes', 1509: u'nestle', 1510: u'nestled', 1511: u'netan', 1512: u'nethack', 1513: u'nethers', 1514: u'networks', 1515: u'neurological', 1516: u'neurologist', 1517: u'neurologists', 1518: u'neuron', 1519: u'neurons', 1520: u'neurosis', 1521: u'neurotransmitters', 1522: u'neutered', 1523: u'neutrality', 1524: u'neutralize', 1525: u'neverland', 1526: u'nevsky', 1527: u'newbies', 1528: u'newfound', 1529: u'newfoundland', 1530: u'newsboy', 1531: u'newsletter', 1532: u'newt', 1533: u'newtonand', 1534: u'newts', 1535: u'ng', 1536: u'nhl', 1537: u'niagra', 1538: u'nibh', 1539: u'nicea', 1540: u'niche', 1541: u'nicholls', 1542: u'nicholson', 1543: u'nicht', 1544: u'nicki', 1545: u'nickle', 1546: u'nicks', 1547: u'nicky', 1548: u'nicolesenpai', 1549: u'nictophobic', 1550: u'nicu', 1551: u'niddle', 1552: u'nieces', 1553: u'nien', 1554: u'niestety', 1555: u'niet', 1556: u'nificant', 1557: u'nig', 1558: u'nigel', 1559: u'niger', 1560: u'nigerian', 1561: u'nigeru', 1562: u'niggee', 1563: u'niggerrrrrrrrrrrrrrrrr', 1564: u'niggertive', 1565: u'nightclub', 1566: u'nightcore', 1567: u'nightgown', 1568: u'nightingale', 1569: u'nightline', 1570: u'nightstick', 1571: u'nightswatch', 1572: u'nighttime', 1573: u'niglect', 1574: u'nikes', 1575: u'niko', 1576: u'nikola', 1577: u'nikon', 1578: u'nillie', 1579: u'nimble', 1580: u'nina', 1581: u'ninbyo', 1582: u'nino', 1583: u'nintenso', 1584: u'nintinder', 1585: u'niop', 1586: u'nique', 1587: u'nisi', 1588: u'nism', 1589: u'nists', 1590: u'nitric', 1591: u'nitrous', 1592: u'nix', 1593: u'nk', 1594: u'nnish', 1595: u'nnnnoooo', 1596: u'no1', 1597: u'no_offence', 1598: u'nob', 1599: u'nobell', 1600: u'noches', 1601: u'nochez', 1602: u'nocy', 1603: u'node', 1604: u'noe', 1605: u'nofap', 1606: u'nohbdy', 1607: u'noir', 1608: u'nom', 1609: u'nomad', 1610: u'nomenclature', 1611: u'nominator', 1612: u'nominee', 1613: u'nomoney', 1614: u'nonchalant', 1615: u'nondescript', 1616: u'noneckagon', 1617: u'nonexistent', 1618: u'nonions', 1619: u'nonperfect', 1620: u'nonplussed', 1621: u'nontraditional', 1622: u'noo', 1623: u'nooneelsecanhelp', 1624: u'nop', 1625: u'nopdfnhernhophodr', 1626: u'norman', 1627: u'northeast', 1628: u'northerner', 1629: u'northwestern', 1630: u'norvegan', 1631: u'nosedived', 1632: u'nosedives', 1633: u'nosey', 1634: u'nosing', 1635: u'nosleep', 1636: u'nostalgia', 1637: u'nostupidquestions', 1638: u'notch', 1639: u'notches', 1640: u'notepad', 1641: u'noteworthy', 1642: u'nothings', 1643: u'notified', 1644: u'notifies', 1645: u'notin', 1646: u'notjob', 1647: u'notmygroundhog', 1648: u'notmyoscarwinner', 1649: u'notmypresident', 1650: u'notmysuperbowl', 1651: u'notoriously', 1652: u'notr', 1653: u'nought', 1654: u'nourishing', 1655: u'nov', 1656: u'novacaine', 1657: u'novels', 1658: u'novelty', 1659: u'npr', 1660: u'nr', 1661: u'nsw', 1662: u'nswf', 1663: u'ntac', 1664: u'nterviewer', 1665: u'nu', 1666: u'nub', 1667: u'nudge', 1668: u'nudges', 1669: u'nudity', 1670: u'nueve', 1671: u'nuffin', 1672: u'nugent', 1673: u'nuisances', 1674: u'nukem', 1675: u'nukers', 1676: u'num', 1677: u'numbering', 1678: u'numberpad', 1679: u'numbing', 1680: u'numbrella', 1681: u'numbs', 1682: u'numerator', 1683: u'nunavut', 1684: u'nunc', 1685: u'nunions', 1686: u'nup', 1687: u'nuptials', 1688: u'nurtured', 1689: u'nutack', 1690: u'nutbar', 1691: u'nutcracker', 1692: u'nutrient', 1693: u'nutritional', 1694: u'nutritionist', 1695: u'nutritious', 1696: u'nutsack', 1697: u'nutted', 1698: u'nyctophobia', 1699: u'nyctophobic', 1700: u'nye', 1701: u'nyeh', 1702: u'nyetflix', 1703: u'nyeti', 1704: u'nymphomaniac', 1705: u'oacean', 1706: u'oar', 1707: u'oaxaca', 1708: u'obamagate', 1709: u'obamajoe', 1710: u'obamas', 1711: u'obamaself', 1712: u'obe', 1713: u'obediant', 1714: u'oberst', 1715: u'oberyn', 1716: u'obey', 1717: u'obeys', 1718: u'obituary', 1719: u'objected', 1720: u'objectified', 1721: u'objectionable', 1722: u'objectives', 1723: u'obliterating', 1724: u'oblivion', 1725: u'obnoxiously', 1726: u'oboe', 1727: u'obscenities', 1728: u'obscured', 1729: u'obscuring', 1730: u'obse', 1731: u'obsequious', 1732: u'observes', 1733: u'obsessions', 1734: u'obstacle', 1735: u'obstetricians', 1736: u'obstruction', 1737: u'obstructive', 1738: u'obtains', 1739: u'obtuse', 1740: u'obverse', 1741: u'occam', 1742: u'occassionally', 1743: u'occupants', 1744: u'occupational', 1745: u'occupations', 1746: u'occupying', 1747: u'occurrence', 1748: u'ocdc', 1749: u'oceania', 1750: u'ocho', 1751: u'oct', 1752: u'octo', 1753: u'octogenarian', 1754: u'octophobes', 1755: u'octopussy', 1756: u'oculist', 1757: u'oddest', 1758: u'oddor', 1759: u'odor', 1760: u'odors', 1761: u'odyssues', 1762: u'oedipal', 1763: u'oedipussy', 1764: u'ofc', 1765: u'ofcorse', 1766: u'ofcource', 1767: u'ofend', 1768: u'oferta', 1769: u'offa', 1770: u'offal', 1771: u'offcier', 1772: u'offcourse', 1773: u'offenses', 1774: u'offerings', 1775: u'offf', 1776: u'officier', 1777: u'offs', 1778: u'offset', 1779: u'offshoot', 1780: u'offtin', 1781: u'offur', 1782: u'oft', 1783: u'ogre', 1784: u'ohhhhh', 1785: u'ohhhhhh', 1786: u'ohhhhhhhh', 1787: u'ohmmmm', 1788: u'ohooo', 1789: u'oiled', 1790: u'oils', 1791: u'oily', 1792: u'oisis', 1793: u'oke', 1794: u'oklahoma', 1795: u'oklahoman', 1796: u'okrezne', 1797: u'ola', 1798: u'olajide', 1799: u'olatunji', 1800: u'olavi', 1801: u'oline', 1802: u'oll', 1803: u'olutely', 1804: u'omaha', 1805: u'omar', 1806: u'omen', 1807: u'ominous', 1808: u'omnibenevolent', 1809: u'omnipresence', 1810: u'omniscience', 1811: u'omnivores', 1812: u'omputer', 1813: u'omweso', 1814: u'onboard', 1815: u'oncallogist', 1816: u'onda', 1817: u'oneforestone', 1818: u'onepage', 1819: u'onesie', 1820: u'onic', 1821: u'onne', 1822: u'onomatopoeia', 1823: u'onslaught', 1824: u'onward', 1825: u'onwards', 1826: u'onwednesday', 1827: u'ony', 1828: u'onyx', 1829: u'oo1', 1830: u'ood', 1831: u'oof', 1832: u'ooga', 1833: u'oohh', 1834: u'oohs', 1835: u'ook', 1836: u'ooly', 1837: u'ooo', 1838: u'ooof', 1839: u'oooo', 1840: u'ooooh', 1841: u'ooooohhh', 1842: u'oooook', 1843: u'ooooooh', 1844: u'oooooohhhh', 1845: u'oooooooohhrrraleeeee', 1846: u'ooooooooo', 1847: u'oooooooooooooooooooooooooooooooooooooooooooooooooooooooooooooo', 1848: u'oouuuuch', 1849: u'oov', 1850: u'openings', 1851: u'opera', 1852: u'operas', 1853: u'operators', 1854: u'ophans', 1855: u'ophthalmologists', 1856: u'opined', 1857: u'opl', 1858: u'oportunity', 1859: u'opotamus', 1860: u'opponent', 1861: u'opponents', 1862: u'oppress', 1863: u'oppressed', 1864: u'oppressing', 1865: u'oppression', 1866: u'oppressive', 1867: u'opprotunity', 1868: u'oppsite', 1869: u'ops', 1870: u'optician', 1871: u'opus', 1872: u'orally', 1873: u'orang', 1874: u'orangutang', 1875: u'orangutanning', 1876: u'orator', 1877: u'ordinaryhotdog', 1878: u'ordination', 1879: u'ore', 1880: u'orelse', 1881: u'oreos', 1882: u'organisation', 1883: u'organise', 1884: u'organised', 1885: u'organising', 1886: u'organism', 1887: u'organisms', 1888: u'organizations', 1889: u'organizers', 1890: u'orgies', 1891: u'orginal', 1892: u'ori', 1893: u'orient', 1894: u'orifice', 1895: u'origami', 1896: u'originated', 1897: u'originial', 1898: u'origins', 1899: u'oristotle', 1900: u'orlando', 1901: u'orleans', 1902: u'ornery', 1903: u'ornithologists', 1904: u'ornithology', 1905: u'orphanage', 1906: u'orthopaedic', 1907: u'orthopedic', 1908: u'orville', 1909: u'oscillates', 1910: u'oshi', 1911: u'oshkosh', 1912: u'oslo', 1913: u'osmoses', 1914: u'oss', 1915: u'osteoporoses', 1916: u'osteoporosis', 1917: u'oszukuja', 1918: u'othe', 1919: u'otherday', 1920: u'otherside', 1921: u'otis', 1922: u'ottawa', 1923: u'otters', 1924: u'ottoman', 1925: u'ottometrist', 1926: u'oughta', 1927: u'ouija', 1928: u'ounces', 1929: u'ououou', 1930: u'outage', 1931: u'outages', 1932: u'outcast', 1933: u'outcome', 1934: u'outdated', 1935: u'outdo', 1936: u'outdoor', 1937: u'outdoors', 1938: u'outfitted', 1939: u'outfitters', 1940: u'outgoing', 1941: u'outlawed', 1942: u'outliers', 1943: u'outline', 1944: u'outlive', 1945: u'outloud', 1946: u'outmatched', 1947: u'outpouring', 1948: u'outright', 1949: u'outsmart', 1950: u'outsmarting', 1951: u'outstandingly', 1952: u'outtake', 1953: u'outweird', 1954: u'ovaries', 1955: u'ove', 1956: u'oveerrr', 1957: u'overall', 1958: u'overbooked', 1959: u'overcomes', 1960: u'overcompensating', 1961: u'overdeliver', 1962: u'overdosing', 1963: u'overdramatic', 1964: u'overdue', 1965: u'overeagle', 1966: u'overeasy', 1967: u'overexcited', 1968: u'overflows', 1969: u'overload', 1970: u'overlook', 1971: u'overlooking', 1972: u'overlord', 1973: u'overpower', 1974: u'overpowering', 1975: u'overqualified', 1976: u'overreach', 1977: u'overreact', 1978: u'overreacted', 1979: u'override', 1980: u'oversees', 1981: u'overshadowing', 1982: u'overslept', 1983: u'overspeeding', 1984: u'overtake', 1985: u'overtaken', 1986: u'overthrew', 1987: u'overthrown', 1988: u'overturned', 1989: u'overturning', 1990: u'overturns', 1991: u'overun', 1992: u'overvalued', 1993: u'overwchiever', 1994: u'owens', 1995: u'owes', 1996: u'owls', 1997: u'owly', 1998: u'owwch', 1999: u'oxi', 2000: u'oxide', 2001: u'oximoron', 2002: u'oxymoronic', 2003: u'oy', 2004: u'oyler', 2005: u'o\\u03c0', 2006: u'p3', 2007: u'pa720', 2008: u'paan', 2009: u'pabst', 2010: u'paced', 2011: u'pachelbel', 2012: u'pacifier', 2013: u'pacifism', 2014: u'pacifist', 2015: u'pacifists', 2016: u'packaged', 2017: u'packets', 2018: u'packman', 2019: u'pacman', 2020: u'pacquiao', 2021: u'pacts', 2022: u'paddies', 2023: u'paddled', 2024: u'paddocks', 2025: u'paddys', 2026: u'paedo', 2027: u'paedofile', 2028: u'paedophiles', 2029: u'pageants', 2030: u'paged', 2031: u'pagliacci', 2032: u'paige', 2033: u'pailou', 2034: u'painbow', 2035: u'painless', 2036: u'painters', 2037: u'pajama', 2038: u'pakers', 2039: u'palate', 2040: u'palendrome', 2041: u'pales', 2042: u'palestinians', 2043: u'palins', 2044: u'pallet', 2045: u'palmed', 2046: u'palmspaghetti', 2047: u'palomino', 2048: u'palpable', 2049: u'palpatine', 2050: u'paltrow', 2051: u'pamela', 2052: u'pampered', 2053: u'pancho', 2054: u'pancreas', 2055: u'pandamonium', 2056: u'pandit', 2057: u'pandora', 2058: u'pani', 2059: u'paniced', 2060: u'panned', 2061: u'panoramic', 2062: u'pansexual', 2063: u'pantsuit', 2064: u'panty', 2065: u'panzee', 2066: u'pap', 2067: u'papal', 2068: u'paperboy', 2069: u'pappy', 2070: u'para', 2071: u'parable', 2072: u'parabola', 2073: u'parabolas', 2074: u'parabolic', 2075: u'parachuted', 2076: u'parachuting', 2077: u'paraded', 2078: u'parades', 2079: u'paradiddlers', 2080: u'paragraph', 2081: u'paranormal', 2082: u'paraplegics', 2083: u'paratrooper', 2084: u'parcells', 2085: u'parching', 2086: u'parchment', 2087: u'parental', 2088: u'parentheses', 2089: u'pari', 2090: u'parisian', 2091: u'parm', 2092: u'parralax', 2093: u'parry', 2094: u'parsley', 2095: u'partake', 2096: u'partaking', 2097: u'participated', 2098: u'participle', 2099: u'particulars', 2100: u'partie', 2101: u'partied', 2102: u'partnership', 2103: u'parton', 2104: u'partridge', 2105: u'partyzans', 2106: u'paso', 2107: u'pasquale', 2108: u'passangers', 2109: u'passers', 2110: u'passively', 2111: u'passkey', 2112: u'pastatute', 2113: u'pastaway', 2114: u'pastaweed', 2115: u'pastel', 2116: u'pasting', 2117: u'pastoral', 2118: u'pastrami', 2119: u'pastures', 2120: u'pasturized', 2121: u'patched', 2122: u'patches', 2123: u'patchwork', 2124: u'patchy', 2125: u'patel', 2126: u'paternal', 2127: u'pathologists', 2128: u'pathology', 2129: u'pathway', 2130: u'patna', 2131: u'patreon', 2132: u'patricks', 2133: u'patriotism', 2134: u'patronizing', 2135: u'patted', 2136: u'patter', 2137: u'pau', 2138: u'paulo', 2139: u'pausing', 2140: u'paved', 2141: u'pavel', 2142: u'pavements', 2143: u'pavlovich', 2144: u'pawing', 2145: u'payeans', 2146: u'payers', 2147: u'payne', 2148: u'payoff', 2149: u'payos', 2150: u'payoss', 2151: u'paytm', 2152: u'pcos', 2153: u'pdf', 2154: u'pe', 2155: u'peached', 2156: u'peaches', 2157: u'peachy', 2158: u'peacock', 2159: u'peaks', 2160: u'pearanoid', 2161: u'pearson', 2162: u'peasus', 2163: u'pecked', 2164: u'pecking', 2165: u'pecks', 2166: u'pedantry', 2167: u'peddles', 2168: u'pederast', 2169: u'pedi', 2170: u'pediatricians', 2171: u'pedofile', 2172: u'pedos', 2173: u'pedro', 2174: u'pedrophile', 2175: u'peeked', 2176: u'peemail', 2177: u'peered', 2178: u'peering', 2179: u'peety', 2180: u'peewwwwdiepieeeeee', 2181: u'pegged', 2182: u'peine', 2183: u'pek', 2184: u'pekachu', 2185: u'pelicans', 2186: u'pell', 2187: u'pellentesque', 2188: u'peltry', 2189: u'penal', 2190: u'penalties', 2191: u'pences', 2192: u'penchant', 2193: u'pendant', 2194: u'pending', 2195: u'penetratalotapuss', 2196: u'penetrate', 2197: u'penetrates', 2198: u'penetrating', 2199: u'penh', 2200: u'penicillin', 2201: u'penii', 2202: u'penile', 2203: u'peninsula', 2204: u'penissmell', 2205: u'pennslyvania', 2206: u'pennsylvania', 2207: u'pensively', 2208: u'pentagon', 2209: u'pentecosts', 2210: u'peoblem', 2211: u'peopel', 2212: u'peoplejokes', 2213: u'pep', 2214: u'pepperonly', 2215: u'pequeno', 2216: u'percentages', 2217: u'percents', 2218: u'perception', 2219: u'perches', 2220: u'percussionist', 2221: u'percussionists', 2222: u'perfecting', 2223: u'perfidious', 2224: u'perforated', 2225: u'pergolatory', 2226: u'perimeter', 2227: u'periodontist', 2228: u'perish', 2229: u'perishable', 2230: u'perished', 2231: u'perjury', 2232: u'perked', 2233: u'perks', 2234: u'permanetly', 2235: u'permit', 2236: u'perpendicular', 2237: u'perrier', 2238: u'persecution', 2239: u'persia', 2240: u'persist', 2241: u'persistent', 2242: u'person1', 2243: u'person2', 2244: u'persona', 2245: u'personalize', 2246: u'perspire', 2247: u'peru', 2248: u'peruses', 2249: u'perversion', 2250: u'pescatarian', 2251: u'peso', 2252: u'pesos', 2253: u'pessimistic', 2254: u'pesticide', 2255: u'pests', 2256: u'peterrlfc', 2257: u'petit', 2258: u'petition', 2259: u'petroleum', 2260: u'petronummm', 2261: u'petrus', 2262: u'peugeot', 2263: u'pewb', 2264: u'pewing', 2265: u'pewp', 2266: u'pewter', 2267: u'pf', 2268: u'pfc', 2269: u'pff', 2270: u'pfff', 2271: u'pffff', 2272: u'pffffffft', 2273: u'pfister', 2274: u'pharetra', 2275: u'pharma', 2276: u'pharmaceutical', 2277: u'pharrell', 2278: u'phases', 2279: u'phds', 2280: u'phenomenal', 2281: u'philanthropist', 2282: u'philharmonic', 2283: u'philip', 2284: u'philippe', 2285: u'phillipines', 2286: u'phillips', 2287: u'philly', 2288: u'philmon', 2289: u'philoppe', 2290: u'philosophical', 2291: u'philosophizing', 2292: u'philosorapture', 2293: u'phishing', 2294: u'phnom', 2295: u'phobia', 2296: u'phoenix', 2297: u'phonebook', 2298: u'phonographic', 2299: u'phony', 2300: u'photography', 2301: u'photons', 2302: u'photoshoot', 2303: u'photosympathize', 2304: u'photosynthesizing', 2305: u'php', 2306: u'phrasing', 2307: u'phucket', 2308: u'phyllis', 2309: u'physcho', 2310: u'physicals', 2311: u'physio', 2312: u'physiology', 2313: u'phyxiation', 2314: u'piazza', 2315: u'picard', 2316: u'picassos', 2317: u'pice', 2318: u'pichfork', 2319: u'pickachus', 2320: u'pickaxe', 2321: u'pickers', 2322: u'pickin', 2323: u'pickins', 2324: u'pickles', 2325: u'pickpocket', 2326: u'pickpocketing', 2327: u'pictured', 2328: u'picturegraphic', 2329: u'pierce', 2330: u'pierrer', 2331: u'piers', 2332: u'piesexual', 2333: u'piggas', 2334: u'pigments', 2335: u'pigofiles', 2336: u'piig', 2337: u'pikeolo', 2338: u'pikey', 2339: u'pilaf', 2340: u'pilate', 2341: u'piling', 2342: u'pillars', 2343: u'pillowcase', 2344: u'pimples', 2345: u'pimpstress', 2346: u'pincers', 2347: u'pinche', 2348: u'pinching', 2349: u'pingpong', 2350: u'pinkeye', 2351: u'pinkies', 2352: u'pinning', 2353: u'pinniped', 2354: u'pinokio', 2355: u'pinot', 2356: u'pinpoint', 2357: u'pinscher', 2358: u'pinto', 2359: u'pion', 2360: u'pioneering', 2361: u'pipilini', 2362: u'pippilini', 2363: u'piqued', 2364: u'piracetam', 2365: u'piraro', 2366: u'piraters', 2367: u'pirating', 2368: u'pisces', 2369: u'piscine', 2370: u'pish', 2371: u'pisser', 2372: u'pisstachios', 2373: u'pissy', 2374: u'piste', 2375: u'pistil', 2376: u'pita', 2377: u'pitato', 2378: u'pitatoes', 2379: u'pitchers', 2380: u'pitches', 2381: u'pithon', 2382: u'pitted', 2383: u'pitter', 2384: u'pixelated', 2385: u'pixie', 2386: u'pizzafaces', 2387: u'pizzazz', 2388: u'pizzicato', 2389: u'pizzing', 2390: u'pl', 2391: u'pla', 2392: u'placate', 2393: u'placebos', 2394: u'placeholder', 2395: u'placerat', 2396: u'plagarism', 2397: u'plagiarist', 2398: u'plagiarized', 2399: u'plaguing', 2400: u'plahp', 2401: u'plainbow', 2402: u'plaintiff', 2403: u'plakken', 2404: u'planebow', 2405: u'planeteers', 2406: u'planking', 2407: u'planner', 2408: u'planters', 2409: u'plateau', 2410: u'plateaus', 2411: u'plated', 2412: u'platforms', 2413: u'plath', 2414: u'platinum', 2415: u'plato', 2416: u'platter', 2417: u'platypus', 2418: u'plausible', 2419: u'playa', 2420: u'playboys', 2421: u'playful', 2422: u'playlist', 2423: u'playstation', 2424: u'plaza', 2425: u'plea', 2426: u'pleas', 2427: u'pleasurable', 2428: u'pleasures', 2429: u'pleb', 2430: u'pled', 2431: u'pledge', 2432: u'pleeeeeeze', 2433: u'plight', 2434: u'plink', 2435: u'plitt', 2436: u'plodded', 2437: u'plop', 2438: u'plopped', 2439: u'plosion', 2440: u'plotburg', 2441: u'plotonium', 2442: u'plotopia', 2443: u'plots', 2444: u'ploughed', 2445: u'plower', 2446: u'plowing', 2447: u'ploy', 2448: u'plucks', 2449: u'plum', 2450: u'plumb', 2451: u'plummer', 2452: u'plums', 2453: u'plunged', 2454: u'plunges', 2455: u'plunging', 2456: u'plural', 2457: u'plush', 2458: u'plzzz', 2459: u'pn', 2460: u'poachers', 2461: u'pocahonest', 2462: u'pochd', 2463: u'pocketwatch', 2464: u'podcasts', 2465: u'podobno', 2466: u'poeia', 2467: u'poetic', 2468: u'pogo', 2469: u'poi', 2470: u'pointa', 2471: u'poisons', 2472: u'pokers', 2473: u'pokie', 2474: u'pokin', 2475: u'poking', 2476: u'poky', 2477: u'pol', 2478: u'polacks', 2479: u'polacy', 2480: u'polak', 2481: u'polan', 2482: u'polanksi', 2483: u'policaly', 2484: u'polices', 2485: u'polioid', 2486: u'politicise', 2487: u'poll', 2488: u'pollack', 2489: u'pollen', 2490: u'pollo', 2491: u'pollock', 2492: u'pollonium', 2493: u'polluting', 2494: u'pollution', 2495: u'polo', 2496: u'poltergeists', 2497: u'poly', 2498: u'polyamide', 2499: u'polyester', 2500: u'polygamist', 2501: u'polygon', 2502: u'polytechnic', 2503: u'poncho', 2504: u'ponderance', 2505: u'ponds', 2506: u'ponies', 2507: u'pontius', 2508: u'pooh', 2509: u'pooing', 2510: u'poole', 2511: u'pools', 2512: u'poooooo', 2513: u'poopin', 2514: u'pooposterous', 2515: u'poorbox', 2516: u'poothon', 2517: u'poothons', 2518: u'popes', 2519: u'popeye', 2520: u'poppa', 2521: u'poppies', 2522: u'popping', 2523: u'poppy', 2524: u'popscicle', 2525: u'popsicles', 2526: u'popstar', 2527: u'populace', 2528: u'popularity', 2529: u'popularized', 2530: u'populated', 2531: u'populist', 2532: u'por', 2533: u'porcupines', 2534: u'pore', 2535: u'porkchops', 2536: u'porkmanteau', 2537: u'porky', 2538: u'pornographers', 2539: u'porstar', 2540: u'porthole', 2541: u'porting', 2542: u'portions', 2543: u'portraying', 2544: u'porttitor', 2545: u'portuguese', 2546: u'pos', 2547: u'poseidon', 2548: u'posh', 2549: u'poshaye', 2550: u'positives', 2551: u'poskrebyshev', 2552: u'possesses', 2553: u'possessions', 2554: u'possi', 2555: u'possibilities', 2556: u'postpartum', 2557: u'postradamaus', 2558: u'posture', 2559: u'posuere', 2560: u'potable', 2561: u'potamus', 2562: u'potatoe', 2563: u'potent', 2564: u'pothead', 2565: u'potheads', 2566: u'pothole', 2567: u'potions', 2568: u'pots', 2569: u'pott', 2570: u'pottasium', 2571: u'potted', 2572: u'pottery', 2573: u'pounce', 2574: u'pounced', 2575: u'poupon', 2576: u'pout', 2577: u'poutine', 2578: u'pouting', 2579: u'poverty', 2580: u'powdered', 2581: u'powered', 2582: u'powerlifter', 2583: u'powerviolence', 2584: u'powrotnym', 2585: u'pp', 2586: u'ppi', 2587: u'pr', 2588: u'practitioner', 2589: u'pragmatic', 2590: u'pragmatically', 2591: u'prague', 2592: u'prairie', 2593: u'praises', 2594: u'praising', 2595: u'prams', 2596: u'pranking', 2597: u'prankster', 2598: u'prarie', 2599: u'prawno', 2600: u'prawns', 2601: u'preach', 2602: u'preaching', 2603: u'preagreed', 2604: u'prease', 2605: u'precariously', 2606: u'preceded', 2607: u'precedence', 2608: u'precedent', 2609: u'precedents', 2610: u'preceeded', 2611: u'precipitate', 2612: u'precipitated', 2613: u'precluding', 2614: u'precum', 2615: u'precursor', 2616: u'predatory', 2617: u'predestination', 2618: u'predicting', 2619: u'predictions', 2620: u'predictive', 2621: u'predident', 2622: u'predisposed', 2623: u'predominantly', 2624: u'preferably', 2625: u'preferential', 2626: u'prefix', 2627: u'preforming', 2628: u'preggos', 2629: u'pregnancies', 2630: u'prego', 2631: u'prehistoric', 2632: u'preist', 2633: u'premarital', 2634: u'premeditated', 2635: u'premier', 2636: u'premise', 2637: u'premonition', 2638: u'preoccupation', 2639: u'prep', 2640: u'preparations', 2641: u'prepareing', 2642: u'preplanned', 2643: u'preposition', 2644: u'prepositions', 2645: u'preposterous', 2646: u'prepped', 2647: u'preppermints', 2648: u'prescient', 2649: u'presentable', 2650: u'presentations', 2651: u'presenting', 2652: u'preservation', 2653: u'preserve', 2654: u'preserving', 2655: u'presidentbannon', 2656: u'presses', 2657: u'pressured', 2658: u'preston', 2659: u'presumably', 2660: u'presumed', 2661: u'presumptive', 2662: u'pretext', 2663: u'pretzels', 2664: u'prevalent', 2665: u'preventing', 2666: u'prevention', 2667: u'preview', 2668: u'prez', 2669: u'priapism', 2670: u'priced', 2671: u'pricing', 2672: u'pricked', 2673: u'primal', 2674: u'primate', 2675: u'primes', 2676: u'primitive', 2677: u'princeton', 2678: u'principles', 2679: u'pringle', 2680: u'printingception', 2681: u'prior', 2682: u'priorities', 2683: u'prisma', 2684: u'prob', 2685: u'probed', 2686: u'probing', 2687: u'probity', 2688: u'problemu', 2689: u'problen', 2690: u'procastination', 2691: u'procceds', 2692: u'procedures', 2693: u'processor', 2694: u'processors', 2695: u'procide', 2696: u'proclaim', 2697: u'proclaiming', 2698: u'proclamation', 2699: u'procrastinators', 2700: u'procreated', 2701: u'proctology', 2702: u'proctolosts', 2703: u'prod', 2704: u'prodding', 2705: u'producing', 2706: u'prof', 2707: u'profane', 2708: u'profanity', 2709: u'professaur', 2710: u'professing', 2711: u'profilactic', 2712: u'profiling', 2713: u'profitability', 2714: u'profitable', 2715: u'profoundly', 2716: u'prognosis', 2717: u'prognostication', 2718: u'programmed', 2719: u'prohibit', 2720: u'prohibited', 2721: u'prohibition', 2722: u'prohibits', 2723: u'projected', 2724: u'projekt', 2725: u'prominently', 2726: u'promiscuity', 2727: u'promiscuous', 2728: u'promoting', 2729: u'prompted', 2730: u'prone', 2731: u'prongs', 2732: u'pronouncement', 2733: u'pronounces', 2734: u'pronto', 2735: u'pronunciation', 2736: u'prooffread', 2737: u'prop', 2738: u'propaganja', 2739: u'propecia', 2740: u'propeller', 2741: u'proportional', 2742: u'proportionality', 2743: u'proportionate', 2744: u'proportionately', 2745: u'proposing', 2746: u'propped', 2747: u'propr', 2748: u'props', 2749: u'prosecuting', 2750: u'prosecutors', 2751: u'prospects', 2752: u'prosthesis', 2753: u'prosthetics', 2754: u'prostituted', 2755: u'protector', 2756: u'protectors', 2757: u'protocols', 2758: u'proton', 2759: u'protons', 2760: u'prototype', 2761: u'prototypes', 2762: u'protractor', 2763: u'proudest', 2764: u'prounounce', 2765: u'provised', 2766: u'provoke', 2767: u'prowling', 2768: u'prpfessional', 2769: u'prrr', 2770: u'prude', 2771: u'prune', 2772: u'prunes', 2773: u'pry', 2774: u'pryed', 2775: u'prys', 2776: u'przede', 2777: u'przejazd', 2778: u'przypadku', 2779: u'ps3', 2780: u'psa', 2781: u'psalm', 2782: u'psalmanella', 2783: u'psalmon', 2784: u'psssssssssssst', 2785: u'pssssssst', 2786: u'psuedoliberal', 2787: u'psychadelics', 2788: u'psychiatist', 2789: u'psycho', 2790: u'psychoanalyst', 2791: u'psychosis', 2792: u'psychotherapists', 2793: u'psychotic', 2794: u'psycology', 2795: u'pterodactyls', 2796: u'ptth', 2797: u'pu', 2798: u'pu35', 2799: u'pube', 2800: u'pubescent', 2801: u'publicist', 2802: u'publicity', 2803: u'publishes', 2804: u'pudge', 2805: u'pudgy', 2806: u'puffy', 2807: u'puh', 2808: u'puhblic', 2809: u'pullets', 2810: u'pulley', 2811: u'puma', 2812: u'pumkin', 2813: u'pummeling', 2814: u'pumper', 2815: u'pumpernickle', 2816: u'punctual', 2817: u'punctuality', 2818: u'punette', 2819: u'punintentional', 2820: u'punion', 2821: u'punishing', 2822: u'punjab', 2823: u'punjabi', 2824: u'punjokes', 2825: u'punjokes2', 2826: u'punks', 2827: u'punniest', 2828: u'punsion', 2829: u'punter', 2830: u'pupper', 2831: u'puppeteer', 2832: u'puppeteers', 2833: u'pupusas', 2834: u'purgatory', 2835: u'puri', 2836: u'purifiers', 2837: u'purifying', 2838: u'puris', 2839: u'purplesyrup23', 2840: u'purportedly', 2841: u'purposefully', 2842: u'purrly', 2843: u'purrrrrrrgatory', 2844: u'purses', 2845: u'pursuits', 2846: u'purus', 2847: u'pushers', 2848: u'pushiment', 2849: u'pushpa', 2850: u'pussyfooting', 2851: u'putrid', 2852: u'putts', 2853: u'puxatony', 2854: u'puzzlement', 2855: u'pvp', 2856: u'pw', 2857: u'pxvet', 2858: u'pygmalion', 2859: u'pyjamas', 2860: u'pylon', 2861: u'pyotr', 2862: u'pysduck', 2863: u'pythagoras', 2864: u'pythons', 2865: u'q1', 2866: u'q10', 2867: u'q11', 2868: u'q12', 2869: u'q13', 2870: u'q2', 2871: u'q3', 2872: u'q4', 2873: u'q5', 2874: u'q6', 2875: u'q7', 2876: u'q8', 2877: u'q9', 2878: u'qas', 2879: u'qb', 2880: u'qd14cx', 2881: u'qdoba', 2882: u'quac', 2883: u'quackers', 2884: u'quackillac', 2885: u'quackzalcowaddle', 2886: u'quadrilateral', 2887: u'quadriplegics', 2888: u'quadruples', 2889: u'quaduple', 2890: u'quaking', 2891: u'qualifies', 2892: u'qualify', 2893: u'qualities', 2894: u'quang', 2895: u'quangvark', 2896: u'quarantined', 2897: u'quarks', 2898: u'quarte', 2899: u'quarterfooter', 2900: u'quartz', 2901: u'quasimodo', 2902: u'quatar', 2903: u'quatch', 2904: u'quattro', 2905: u'quebec', 2906: u'queensland', 2907: u'queery', 2908: u'quenched', 2909: u'quesadilla', 2910: u'quesadillas', 2911: u'questing', 2912: u'queues', 2913: u'qui', 2914: u'quiche', 2915: u'quickened', 2916: u'quickens', 2917: u'quickie', 2918: u'quiero', 2919: u'quiets', 2920: u'quilled', 2921: u'quinn', 2922: u'quint', 2923: u'quintuple', 2924: u'quipped', 2925: u'quirk', 2926: u'quirky', 2927: u'quisque', 2928: u'quitters', 2929: u'quixote', 2930: u'quo', 2931: u'quotation', 2932: u'quotations', 2933: u'qurayons', 2934: u'qvestions', 2935: u'qwg', 2936: u'ra', 2937: u'raaaaaawwwww', 2938: u'raaaaw', 2939: u'rabidplaysbunny87', 2940: u'racco', 2941: u'raccoons', 2942: u'racers', 2943: u'racetrack', 2944: u'racked', 2945: u'racy', 2946: u'radiantly', 2947: u'radiated', 2948: u'radiates', 2949: u'radiator', 2950: u'radiators', 2951: u'radicals', 2952: u'radioactive', 2953: u'radioactivity', 2954: u'radiologists', 2955: u'radios', 2956: u'radish', 2957: u'radze', 2958: u'rae', 2959: u'rafters', 2960: u'ragequits', 2961: u'raggae', 2962: u'ragging', 2963: u'ragu', 2964: u'rah', 2965: u'rahhhh', 2966: u'raider', 2967: u'raiders', 2968: u'rails', 2969: u'rainbows', 2970: u'rained', 2971: u'rainier', 2972: u'rainn', 2973: u'rainstorm', 2974: u'rainstorms', 2975: u'rajesh', 2976: u'ralf', 2977: u'ramble', 2978: u'ramblings', 2979: u'rambo', 2980: u'ramming', 2981: u'rampage', 2982: u'ramps', 2983: u'rancherTM', 2984: u'ranchero', 2985: u'randall', 2986: u'ranga', 2987: u'ranges', 2988: u'ranieri', 2989: u'rapefruits', 2990: u'raper', 2991: u'raps', 2992: u'rapscallion', 2993: u'raptor', 2994: u'ras', 2995: u'rascal', 2996: u'rashawn', 2997: u'rasies', 2998: u'rasputin', 2999: u'rasta', 3000: u'rastabation', 3001: u'rastafarian', 3002: u'rastafarians', 3003: u'ratchet', 3004: u'rationing', 3005: u'rattan', 3006: u'rattle', 3007: u'rattled', 3008: u'rattles', 3009: u'rautha', 3010: u'ravaged', 3011: u'raver', 3012: u'ravi', 3013: u'ravine', 3014: u'raving', 3015: u'rawk', 3016: u'rayist', 3017: u'raze', 3018: u'razors', 3019: u'rbi', 3020: u'rd', 3021: u'reaaaaadddyy', 3022: u'reaaaally', 3023: u'reaaallly', 3024: u'reactionary', 3025: u'readied', 3026: u'readings', 3027: u'readjusting', 3028: u'realatively', 3029: u'realism', 3030: u'realism_enhanced', 3031: u'realist', 3032: u'realities', 3033: u'reallll', 3034: u'realm', 3035: u'realsies', 3036: u'realtivity', 3037: u'reanimate', 3038: u'reaper', 3039: u'reappear', 3040: u'reapplication', 3041: u'reapplied', 3042: u'reared', 3043: u'reaserch', 3044: u'reassembling', 3045: u'rebellious', 3046: u'rebels', 3047: u'rebuild', 3048: u'recalculated', 3049: u'recalled', 3050: u'recap', 3051: u'recaps', 3052: u'recapture', 3053: u'reccommend', 3054: u'recedes', 3055: u'receivers', 3056: u'recession', 3057: u'recessive', 3058: u'recharge', 3059: u'recharging', 3060: u'recieve', 3061: u'recieved', 3062: u'reciever', 3063: u'recipient', 3064: u'reciting', 3065: u'recklessly', 3066: u'reckoning', 3067: u'reckons', 3068: u'reclaimed', 3069: u'recliner', 3070: u'reclose', 3071: u'recneck', 3072: u'recognising', 3073: u'recognition', 3074: u'recoiled', 3075: u'recombinations', 3076: u'recomended', 3077: u'recommendation', 3078: u'recommendations', 3079: u'recommends', 3080: u'recomposes', 3081: u'recon', 3082: u'reconciling', 3083: u'reconized', 3084: u'reconnect', 3085: u'reconnects', 3086: u'reconsidered', 3087: u'recordings', 3088: u'recount', 3089: u'recounts', 3090: u'recourse', 3091: u'recovers', 3092: u'recreate', 3093: u'recreated', 3094: u'recruits', 3095: u'recrute', 3096: u'rectified', 3097: u'recurring', 3098: u'recursion', 3099: u'recused', 3100: u'recyclable', 3101: u'recycles', 3102: u'redacted', 3103: u'redcoat', 3104: u'reddditor', 3105: u'reddiquette', 3106: u'reddits', 3107: u'reddut', 3108: u'redecorate', 3109: u'redeemable', 3110: u'redemption', 3111: u'redheaded', 3112: u'redicburro', 3113: u'redid', 3114: u'redidit', 3115: u'redirect', 3116: u'redistribution', 3117: u'redit', 3118: u'redoing', 3119: u'redonkulous', 3120: u'redpiller', 3121: u'reds', 3122: u'redshifted', 3123: u'reductions', 3124: u'redundancy', 3125: u'redwood', 3126: u'reebok', 3127: u'reece', 3128: u'reeds', 3129: u'reeeaally', 3130: u'reeeally', 3131: u'reeeeeeal', 3132: u'reeeeeedddddiiiiiitttttt', 3133: u'reeeeeeeeeeeeeeeeeeemax', 3134: u'reeepost', 3135: u'reeereeeereeee', 3136: u'reelected', 3137: u'reels', 3138: u'reenters', 3139: u'reestablish', 3140: u'ref', 3141: u'ref_source', 3142: u'referential', 3143: u'referral', 3144: u'refilling', 3145: u'reflecting', 3146: u'reflector', 3147: u'reflects', 3148: u'reflexive', 3149: u'reform', 3150: u'reformat', 3151: u'reformed', 3152: u'reforms', 3153: u'refractory', 3154: u'refracts', 3155: u'refresh', 3156: u'refridgerator', 3157: u'refried', 3158: u'refrigerators', 3159: u'refuel', 3160: u'refueling', 3161: u'refuge', 3162: u'refurbished', 3163: u'refusals', 3164: u'regain', 3165: u'regained', 3166: u'regains', 3167: u'regality', 3168: u'regan', 3169: u'reggae', 3170: u'regine', 3171: u'regions', 3172: u'regretfully', 3173: u'regrets', 3174: u'regrettable', 3175: u'regrouping', 3176: u'regularily', 3177: u'regulars', 3178: u'regulate', 3179: u'regulated', 3180: u'regulations', 3181: u'regulus', 3182: u'regurgitation', 3183: u'reh', 3184: u'rehearse', 3185: u'rehearsing', 3186: u'reill', 3187: u'reim', 3188: u'reimagining', 3189: u'reincarnated', 3190: u'reince', 3191: u'reinforced', 3192: u'reinforcement', 3193: u'reinvests', 3194: u'reis', 3195: u'rejoice', 3196: u'rejoin', 3197: u'reks', 3198: u'rektangle', 3199: u'relaaax', 3200: u'relashunships', 3201: u'relatable', 3202: u'relates', 3203: u'relativistic', 3204: u'relativity', 3205: u'relays', 3206: u'relentlessly', 3207: u'relents', 3208: u'relied', 3209: u'reliefs', 3210: u'relieving', 3211: u'religiously', 3212: u'relish', 3213: u'relive', 3214: u'relived', 3215: u'relocated', 3216: u'relogan', 3217: u'rely', 3218: u'remaking', 3219: u'remark', 3220: u'remarkably', 3221: u'remarking', 3222: u'rematch', 3223: u'remebered', 3224: u'reminders', 3225: u'remindme', 3226: u'remington', 3227: u'remixed', 3228: u'remoore', 3229: u'remorse', 3230: u'removal', 3231: u'ren', 3232: u'renamon', 3233: u'renault', 3234: u'rend', 3235: u'rendered', 3236: u'rendition', 3237: u'renege', 3238: u'reneged', 3239: u'renegers', 3240: u'reneges', 3241: u'renew', 3242: u'renewable', 3243: u'renewables', 3244: u'renner', 3245: u'renovate', 3246: u'renovated', 3247: u'renovating', 3248: u'rents', 3249: u'repaint', 3250: u'repairman', 3251: u'repairmen', 3252: u'repairs', 3253: u'repayed', 3254: u'repays', 3255: u'repeal', 3256: u'repeatable', 3257: u'repelled', 3258: u'repented', 3259: u'repete', 3260: u'repetition', 3261: u'repetitively', 3262: u'repist', 3263: u'replaces', 3264: u'replays', 3265: u'replete', 3266: u'replica', 3267: u'replyed', 3268: u'replywhy', 3269: u'repo', 3270: u'reportedly', 3271: u'repose', 3272: u'repossessing', 3273: u'reposte', 3274: u'reposters', 3275: u'reprehensible', 3276: u'representation', 3277: u'representing', 3278: u'represents', 3279: u'reprimand', 3280: u'reprimanded', 3281: u'reprimands', 3282: u'reproduced', 3283: u'reps', 3284: u'reptiles', 3285: u'reptilians', 3286: u'republicare', 3287: u'republicunts', 3288: u'repugnant', 3289: u'repute', 3290: u'requesting', 3291: u'rescheduled', 3292: u'rescinding', 3293: u'rescript', 3294: u'rescuers', 3295: u'resemblance', 3296: u'resembles', 3297: u'reservation', 3298: u'reserves', 3299: u'resetting', 3300: u'reshape', 3301: u'residence', 3302: u'resides', 3303: u'residing', 3304: u'residues', 3305: u'resigned', 3306: u'resigning', 3307: u'resigns', 3308: u'resin', 3309: u'resisted', 3310: u'resistor', 3311: u'resolve', 3312: u'resolved', 3313: u'resolves', 3314: u'resonating', 3315: u'resorted', 3316: u'resorts', 3317: u'resounding', 3318: u'respecting', 3319: u'respone', 3320: u'respoonsibility', 3321: u'restaraunt', 3322: u'restarts', 3323: u'restless', 3324: u'restock', 3325: u'restoration', 3326: u'restorative', 3327: u'restore', 3328: u'restrain', 3329: u'restraunt', 3330: u'restrooms', 3331: u'rests', 3332: u'resuming', 3333: u'resurgence', 3334: u'resurrection', 3335: u'retaliate', 3336: u'retarted', 3337: u'retches', 3338: u'retelling', 3339: u'rethinking', 3340: u'rethinks', 3341: u'rethra', 3342: u'retires', 3343: u'retract', 3344: u'retrained', 3345: u'retreated', 3346: u'retreating', 3347: u'retrievers', 3348: u'retroactive', 3349: u'returnes', 3350: u'retweeted', 3351: u'reunited', 3352: u'reused', 3353: u'reusing', 3354: u'reuters', 3355: u'revelers', 3356: u'revenue', 3357: u'reversible', 3358: u'reversing', 3359: u'revert', 3360: u'reviewers', 3361: u'revile', 3362: u'revising', 3363: u'revisionism', 3364: u'revitalized', 3365: u'reviving', 3366: u'revoke', 3367: u'revolting', 3368: u'revolutionaries', 3369: u'revolves', 3370: u'rift', 3371: u'rightfully', 3372: u'rites', 3373: u'rn', 3374: u'roadblock', 3375: u'roald', 3376: u'robato', 3377: u'robitussin', 3378: u'rodney', 3379: u'rogers', 3380: u'roland', 3381: u'rolo', 3382: u'rom', 3383: u'ronaldo', 3384: u'roomservice', 3385: u'roon', 3386: u'rowr', 3387: u'rpg', 3388: u'rubbit', 3389: u'rucker', 3390: u'rulers', 3391: u'rulesandregs', 3392: u'rw', 3393: u'ryukyu', 3394: u'sacking', 3395: u'sahn', 3396: u'sainsbury', 3397: u'saints', 3398: u'sakamoto', 3399: u'salamander', 3400: u'salior', 3401: u'sapling', 3402: u'sapp', 3403: u'sas', 3404: u'sash', 3405: u'scamming', 3406: u'scarcity', 3407: u'scattalogical', 3408: u'schauble', 3409: u'schlomo', 3410: u'schmidt', 3411: u'schumacher', 3412: u'scopes', 3413: u'scores', 3414: u'scraps', 3415: u'scriptures', 3416: u'scrub', 3417: u'scuffles', 3418: u'sculptor', 3419: u'seals', 3420: u'seatbelt', 3421: u'sehr', 3422: u'seine', 3423: u'sellers', 3424: u'senpai', 3425: u'september', 3426: u'sequence', 3427: u'serb', 3428: u'serbs', 3429: u'serg', 3430: u'sergeants', 3431: u'sergio', 3432: u'serj', 3433: u'serpent', 3434: u'serum', 3435: u'setesh', 3436: u'seth', 3437: u'seventy', 3438: u'shafted', 3439: u'shaggiest', 3440: u'shakira', 3441: u'sharpened', 3442: u'shazam', 3443: u'sheepdog', 3444: u'shellback', 3445: u'shepherds', 3446: u'shetland', 3447: u'shhhhhh', 3448: u'shia', 3449: u'shielding', 3450: u'shrill', 3451: u'shrine', 3452: u'sia', 3453: u'silences', 3454: u'sirbees', 3455: u'sissy', 3456: u'skim', 3457: u'slaughter', 3458: u'slugger', 3459: u'slushie', 3460: u'snazz', 3461: u'sniffer', 3462: u'snotty', 3463: u'soaring', 3464: u'sociology', 3465: u'somma', 3466: u'sophia', 3467: u'sorcery', 3468: u'southwest', 3469: u'sparkle', 3470: u'speedometer', 3471: u'speedos', 3472: u'spielberg', 3473: u'sportswear', 3474: u'sprinkle', 3475: u'squadron', 3476: u'squaw', 3477: u'squiggly', 3478: u'squire', 3479: u'squires', 3480: u'sr', 3481: u'srinjoy', 3482: u'ssp', 3483: u'stables', 3484: u'stacy', 3485: u'staked', 3486: u'stalone', 3487: u'stanley', 3488: u'statham', 3489: u'stem', 3490: u'stephanie', 3491: u'stewardesses', 3492: u'stilettos', 3493: u'stoichi', 3494: u'stopover', 3495: u'storekeeper', 3496: u'strand', 3497: u'stresses', 3498: u'stringed', 3499: u'stu', 3500: u'stuffy', 3501: u'submits', 3502: u'sukahn', 3503: u'sumi', 3504: u'sumpthin', 3505: u'sunbaking', 3506: u'sunflower', 3507: u'suntan', 3508: u'supplemental', 3509: u'supprisingly', 3510: u'sutton', 3511: u'suzie', 3512: u'svetlana', 3513: u'swartz', 3514: u'swat', 3515: u'sweeeetttt', 3516: u'swished', 3517: u'swishing', 3518: u'swordfighting', 3519: u'syringe', 3520: u't4', 3521: u'tac', 3522: u'taffy', 3523: u'takeaway', 3524: u'taming', 3525: u'tangerine', 3526: u'tangerines', 3527: u'tangung', 3528: u'tanjooberrymutts', 3529: u'taoist', 3530: u'taoists', 3531: u'taster', 3532: u'tautology', 3533: u'tb', 3534: u'tcp', 3535: u'technician', 3536: u'telescopic', 3537: u'televangelist', 3538: u'templar', 3539: u'tenement', 3540: u'tenessee', 3541: u'tengaged', 3542: u'tenner', 3543: u'tennessee', 3544: u'tennish', 3545: u'tenpack', 3546: u'tensely', 3547: u'tenses', 3548: u'tensions', 3549: u'tentacles', 3550: u'tentative', 3551: u'tentatively', 3552: u'tepee', 3553: u'tepidly', 3554: u'tequil', 3555: u'tera', 3556: u'terable', 3557: u'terabyte', 3558: u'terd', 3559: u'termination', 3560: u'terra', 3561: u'terrence', 3562: u'terrier', 3563: u'terse', 3564: u'tersely', 3565: u'testament', 3566: u'testicular', 3567: u'testifies', 3568: u'testily', 3569: u'tew', 3570: u'textile', 3571: u'texture', 3572: u'teye', 3573: u'tez', 3574: u'tface', 3575: u'tg', 3576: u'tge', 3577: u'tgem', 3578: u'tgivemeaccessrightfuckingnow', 3579: u'tha', 3580: u'thakle', 3581: u'thalidomide', 3582: u'thames', 3583: u'thangs', 3584: u'thankfulness', 3585: u'thankyou', 3586: u'thanqueue', 3587: u'thar', 3588: u'thas', 3589: u'thass', 3590: u'thata', 3591: u'thatcher', 3592: u'thatsthejoke', 3593: u'thaw', 3594: u'the0', 3595: u'theatrical', 3596: u'thedonald', 3597: u'thee', 3598: u'thefalconarrow', 3599: u'thehill', 3600: u'thehotgirlslist', 3601: u'theives', 3602: u'thelegend27', 3603: u'thelma', 3604: u'themes', 3605: u'themself', 3606: u'theo', 3607: u'theorems', 3608: u'theoretical', 3609: u'theories', 3610: u'ther', 3611: u'therapydog', 3612: u'thereand', 3613: u'theree', 3614: u'thermal', 3615: u'thermodynamics', 3616: u'thermos', 3617: u'thespian', 3618: u'thet', 3619: u'theta', 3620: u'thetherealjokecomments', 3621: u'theworldisflat', 3622: u'theyre', 3623: u'thi', 3624: u'thiago', 3625: u'thibodeaux', 3626: u'thicken', 3627: u'thickness', 3628: u'thievery', 3629: u'thinfs', 3630: u'thingus', 3631: u'thinly', 3632: u'thinning', 3633: u'thirthee', 3634: u'thisa', 3635: u'thiugh', 3636: u'thixteen', 3637: u'thoes', 3638: u'thoguht', 3639: u'thom', 3640: u'thomeone', 3641: u'thompson', 3642: u'thongs', 3643: u'thore', 3644: u'thots', 3645: u'thppplllt', 3646: u'thr', 3647: u'thrash', 3648: u'thrashed', 3649: u'thrashing', 3650: u'threads', 3651: u'thriller', 3652: u'thrilling', 3653: u'thrills', 3654: u'throbs', 3655: u'throug', 3656: u'throughs', 3657: u'throught', 3658: u'throwback', 3659: u'throwin', 3660: u'thrush', 3661: u'thrusted', 3662: u'thsy', 3663: u'thulium', 3664: u'thumbnail', 3665: u'thunderin', 3666: u'thundering', 3667: u'thunders', 3668: u'thunderstorms', 3669: u'thunk_', 3670: u'thur', 3671: u'thursdays', 3672: u'thwim', 3673: u'thyroxine', 3674: u'tiago', 3675: u'tiara', 3676: u'tibbers', 3677: u'tibideaux', 3678: u'ticked', 3679: u'tickled', 3680: u'tictacs', 3681: u'tidbit', 3682: u'tidies', 3683: u'tiding', 3684: u'tidying', 3685: u'tier', 3686: u'tiers', 3687: u'tightened', 3688: u'tightness', 3689: u'tights', 3690: u'tik', 3691: u'til_tony_hawk_had_his_own_brand_of_toilet_paper', 3692: u'tilapia', 3693: u'tillerson', 3694: u'tilted', 3695: u'tilts', 3696: u'timelord', 3697: u'timepiece', 3698: u'timerian', 3699: u'timetable', 3700: u'timex', 3701: u'timezones', 3702: u'timon', 3703: u'tims', 3704: u'tincidunt', 3705: u'tindr', 3706: u'tiniest', 3707: u'tink', 3708: u'tinker', 3709: u'tinkering', 3710: u'tinkling', 3711: u'tinnitus', 3712: u'tins', 3713: u'tint', 3714: u'tinypic', 3715: u'tionary', 3716: u'tipi', 3717: u'tipping', 3718: u'tiptoed', 3719: u'tiptoes', 3720: u'tipton', 3721: u'tiptronic', 3722: u'tireless', 3723: u'tiresome', 3724: u'tirion', 3725: u'tis', 3726: u'tisfu', 3727: u'tish', 3728: u'titantic', 3729: u'titted', 3730: u'tittillated', 3731: u'titty', 3732: u'tiy', 3733: u'tjj6h', 3734: u'tks', 3735: u'tldr', 3736: u'tm', 3737: u'toadellini', 3738: u'toads', 3739: u'toadstool', 3740: u'toasters', 3741: u'toastie', 3742: u'toasties', 3743: u'toboggan', 3744: u'toby', 3745: u'toccata', 3746: u'tock', 3747: u'todmorden', 3748: u'toed', 3749: u'tofu', 3750: u'toga', 3751: u'togeather', 3752: u'toiled', 3753: u'tok', 3754: u'tokyo', 3755: u'tolerance', 3756: u'tolerant', 3757: u'tolkien', 3758: u'tolling', 3759: u'tolls', 3760: u'tomatos', 3761: u'tomboy', 3762: u'tombrady', 3763: u'tombstone', 3764: u'tombstones', 3765: u'tomcat', 3766: u'tomoto', 3767: u'toms', 3768: u'toned', 3769: u'toner', 3770: u'tongs', 3771: u'toni', 3772: u'tonics', 3773: u'tonne', 3774: u'tonsillectomy', 3775: u'tooka', 3776: u'toolbox', 3777: u'toothpick', 3778: u'topless', 3779: u'toploader', 3780: u'toppling', 3781: u'tor', 3782: u'torches', 3783: u'torero', 3784: u'tories', 3785: u'tormented', 3786: u'tornados', 3787: u'torque', 3788: u'torrent', 3789: u'torrented', 3790: u'torrential', 3791: u'tortor', 3792: u'tortures', 3793: u'torturing', 3794: u'tory', 3795: u'torys', 3796: u'tostee', 3797: u'totaled', 3798: u'totaling', 3799: u'toto', 3800: u'tottering', 3801: u'tou', 3802: u'toucha', 3803: u'touchdown', 3804: u'touchdowns', 3805: u'tounga', 3806: u'touring', 3807: u'touristic', 3808: u'tourney', 3809: u'tourrettes', 3810: u'tours', 3811: u'tousled', 3812: u'towelhead', 3813: u'towely', 3814: u'towl', 3815: u'townhouse', 3816: u'townspeople', 3817: u'toying', 3818: u'toysaurus', 3819: u'tpp', 3820: u'traband', 3821: u'trabant', 3822: u'tracheotomy', 3823: u'tracing', 3824: u'tracksuit', 3825: u'traction', 3826: u'trademarked', 3827: u'traders', 3828: u'traditions', 3829: u'trafalgar', 3830: u'trafficker', 3831: u'tragedies', 3832: u'tragically', 3833: u'trailblazing', 3834: u'trailing', 3835: u'trails', 3836: u'trainbow', 3837: u'traitors', 3838: u'trajan', 3839: u'tramponline', 3840: u'trannie', 3841: u'trannysaurus', 3842: u'tranquilizers', 3843: u'transcend', 3844: u'transcribed', 3845: u'transcribing', 3846: u'transcript', 3847: u'transcription', 3848: u'transfat', 3849: u'transferami', 3850: u'transfered', 3851: u'transformation', 3852: u'transformed', 3853: u'transforms', 3854: u'transfusion', 3855: u'transgenders', 3856: u'transgressions', 3857: u'transistor', 3858: u'translating', 3859: u'translatio', 3860: u'transperson', 3861: u'transphobic', 3862: u'transpires', 3863: u'transwoman', 3864: u'trapeze', 3865: u'trascendental', 3866: u'trashbag', 3867: u'trashed', 3868: u'trashes', 3869: u'trashy', 3870: u'trasy', 3871: u'traumatized', 3872: u'travails', 3873: u'travis', 3874: u'treasoning', 3875: u'treasured', 3876: u'treasury', 3877: u'treater', 3878: u'treaties', 3879: u'treaty', 3880: u'treble', 3881: u'trebuchet', 3882: u'treesome', 3883: u'treestump', 3884: u'trelleborg', 3885: u'trembles', 3886: u'trenchcoat', 3887: u'trhough', 3888: u'triad', 3889: u'trials', 3890: u'triangular', 3891: u'triathlete', 3892: u'triathlon', 3893: u'tribune', 3894: u'tributes', 3895: u'triceps', 3896: u'triceratop', 3897: u'triceratops', 3898: u'trident', 3899: u'triforce', 3900: u'trig', 3901: u'triggerednometry', 3902: u'triggernomitary', 3903: u'triggger', 3904: u'trigonometric', 3905: u'trilesalectinophobic', 3906: u'trill', 3907: u'trilobite', 3908: u'trimming', 3909: u'trims', 3910: u'tripled', 3911: u'triples', 3912: u'trippin', 3913: u'trish', 3914: u'trisomic', 3915: u'tristique', 3916: u'trite', 3917: u'tritip', 3918: u'triumph', 3919: u'triumphs', 3920: u'trix', 3921: u'trixed', 3922: u'troglodyke', 3923: u'trojan', 3924: u'trolley', 3925: u'trolleys', 3926: u'trolling', 3927: u'trololololololo', 3928: u'tromboner', 3929: u'trombones', 3930: u'tronald', 3931: u'troopers', 3932: u'tropes', 3933: u'trophies', 3934: u'tropical', 3935: u'tropicana', 3936: u'tropico', 3937: u'trot', 3938: u'trotting', 3939: u'trou', 3940: u'troublemaker', 3941: u'troy', 3942: u'truce', 3943: u'trucking', 3944: u'trudge', 3945: u'trudged', 3946: u'trudging', 3947: u'trueeeeeeeee', 3948: u'trues', 3949: u'truffles', 3950: u'truley', 3951: u'trum', 3952: u'truman', 3953: u'trumpav', 3954: u'trumpeleh', 3955: u'trumpeter', 3956: u'trumpies', 3957: u'trumpity', 3958: u'trumpkin', 3959: u'trumpkins', 3960: u'trumptoiletpaper', 3961: u'trumpty', 3962: u'trun', 3963: u'truncheon', 3964: u'trundle', 3965: u'trunp', 3966: u'trustingly', 3967: u'truthfully', 3968: u'truthism', 3969: u'truths', 3970: u'truuck', 3971: u'trycoxagin', 3972: u'tryna', 3973: u'tryout', 3974: u'tryouts', 3975: u'trys', 3976: u'tsarina', 3977: u'tshhhh', 3978: u'tshirt', 3979: u'tsst', 3980: u'tsuda', 3981: u'tubbs', 3982: u'tuber', 3983: u'tuberculosis', 3984: u'tubing', 3985: u'tubular', 3986: u'tucking', 3987: u'tuffet', 3988: u'tugboat', 3989: u'tugged', 3990: u'tui', 3991: u'tumbleweed', 3992: u'tumblrina', 3993: u'tumblrinas', 3994: u'tumerculosis', 3995: u'tumors', 3996: u'tun', 3997: u'tungst', 3998: u'tuning', 3999: u'tunisia', 4000: u'tunisian', 4001: u'tur', 4002: u'turb', 4003: u'turbulence', 4004: u'turbulent', 4005: u'turds', 4006: u'turfucken', 4007: u'turin', 4008: u'turk', 4009: u'turmoil', 4010: u'turnal', 4011: u'turnbull', 4012: u'turnin', 4013: u'turnoff', 4014: u'turret', 4015: u'tush', 4016: u'tushy', 4017: u'tusks', 4018: u'tutor', 4019: u'tutored', 4020: u'tutors', 4021: u'tuxcreation', 4022: u'tvs', 4023: u'twang', 4024: u'twas', 4025: u'tweak', 4026: u'tweaker', 4027: u'tweeker', 4028: u'tween', 4029: u'tweetment', 4030: u'twelfth', 4031: u'twinkie', 4032: u'twirled', 4033: u'twit', 4034: u'twitching', 4035: u'twittering', 4036: u'twochromosomes', 4037: u'twoxchromosomes', 4038: u'twuu', 4039: u'tx', 4040: u'txt', 4041: u'ty', 4042: u'tybalt', 4043: u'tye', 4044: u'typeeeeeeeeeeeeeeeeeeeeeeeeeeeeee', 4045: u'typer', 4046: u'typewriter', 4047: u'typewritten', 4048: u'typos', 4049: u'tyrannosaurus', 4050: u'tyrannosoreass', 4051: u'tyranny', 4052: u'tyres', 4053: u'tyroneosaurus', 4054: u'tzitzis', 4055: u'u8xzp8e9xhc', 4056: u'uae', 4057: u'uberpool', 4058: u'ubisoft', 4059: u'ubisofts', 4060: u'uck', 4061: u'ucla', 4062: u'uconn', 4063: u'udderly', 4064: u'udderside', 4065: u'udo', 4066: u'udp', 4067: u'uge', 4068: u'ugg', 4069: u'ugga', 4070: u'uhhhh', 4071: u'uhhhhh', 4072: u'uhhhhhhhh', 4073: u'uhuru', 4074: u'uisdafliusdafzsdaf', 4075: u'uks', 4076: u'ulai', 4077: u'ulence', 4078: u'ulterior', 4079: u'ultimatum', 4080: u'ultracool', 4081: u'ultracrepidarianism', 4082: u'ultrasound', 4083: u'ultricies', 4084: u'umbrellas', 4085: u'una', 4086: u'unabashed', 4087: u'unalive', 4088: u'unanimously', 4089: u'unappealing', 4090: u'unashamedly', 4091: u'unauthorised', 4092: u'unavailable', 4093: u'unaware', 4094: u'unawarewolf', 4095: u'unbanked', 4096: u'unbeerable', 4097: u'unbereaveable', 4098: u'unbiased', 4099: u'unblocking', 4100: u'unborn', 4101: u'unboxing', 4102: u'unbreakable', 4103: u'unbuckling', 4104: u'unburied', 4105: u'unbutton', 4106: u'unbuttoning', 4107: u'uncalled', 4108: u'uncanny', 4109: u'uncertain', 4110: u'unchained', 4111: u'uncharted', 4112: u'unchecked', 4113: u'unches', 4114: u'unchristian', 4115: u'uncircumcised', 4116: u'uncivil', 4117: u'uncivilized', 4118: u'unclasp', 4119: u'unclean', 4120: u'uncomfortably', 4121: u'unconditional', 4122: u'unconsciousness', 4123: u'unconventional', 4124: u'unconvinced', 4125: u'uncoupling', 4126: u'uncouthrappali', 4127: u'uncovered', 4128: u'uncovering', 4129: u'uncuffs', 4130: u'undatable', 4131: u'undera', 4132: u'underachieved', 4133: u'underdeveloped', 4134: u'underdog', 4135: u'underestimated', 4136: u'underline', 4137: u'underlined', 4138: u'underlying', 4139: u'underpass', 4140: u'underpowered', 4141: u'underprivileged', 4142: u'underpromise', 4143: u'underqualified', 4144: u'underreported', 4145: u'undersea', 4146: u'undersrand', 4147: u'understaffed', 4148: u'understandingly', 4149: u'understated', 4150: u'undertake', 4151: u'undertaking', 4152: u'undertones', 4153: u'underware', 4154: u'underway', 4155: u'underwhelmed', 4156: u'undetected', 4157: u'undignified', 4158: u'undisciplined', 4159: u'undocumented', 4160: u'undone', 4161: u'undoubtedly', 4162: u'undue', 4163: u'undying', 4164: u'une', 4165: u'unendorsed', 4166: u'uneuf', 4167: u'uneven', 4168: u'unexplained', 4169: u'unexplored', 4170: u'unfairly', 4171: u'unfathomable', 4172: u'unfinished', 4173: u'unfitting', 4174: u'unfolds', 4175: u'unformed', 4176: u'unfounded', 4177: u'unfulfilled', 4178: u'unfunded', 4179: u'ung', 4180: u'unganun', 4181: u'ungrateful', 4182: u'ungrounded', 4183: u'unhappiness', 4184: u'unhealthy', 4185: u'unholstered', 4186: u'unhook', 4187: u'unhurt', 4188: u'uni', 4189: u'unicorns', 4190: u'unidentifiable', 4191: u'uniforms', 4192: u'unikac', 4193: u'unimportant', 4194: u'unindentified', 4195: u'uninhabited', 4196: u'unintelligent', 4197: u'unintended', 4198: u'uninterested', 4199: u'unionized', 4200: u'unite', 4201: u'unitedstates', 4202: u'universeal', 4203: u'universities', 4204: u'unleash', 4205: u'unlesd', 4206: u'unlimited', 4207: u'unloaded', 4208: u'unmanned', 4209: u'unmatched', 4210: u'unmedicated', 4211: u'unmistakable', 4212: u'unmowed', 4213: u'unnamed', 4214: u'unoccupied', 4215: u'unopened', 4216: u'unosinkable', 4217: u'unperturbed', 4218: u'unpleasant', 4219: u'unplug', 4220: u'unplugging', 4221: u'unpresident', 4222: u'unpresidented', 4223: u'unprofessional', 4224: u'unpromising', 4225: u'unprovoked', 4226: u'unravel', 4227: u'unraveling', 4228: u'unravelling', 4229: u'unrecycled', 4230: u'unrehearsed', 4231: u'unrelated', 4232: u'unreported', 4233: u'unrequited', 4234: u'unrolled', 4235: u'unsanitary', 4236: u'unscrupulous', 4237: u'unseeable', 4238: u'unseen', 4239: u'unshakable', 4240: u'unshaven', 4241: u'unsold', 4242: u'unspeakable', 4243: u'unstoppable', 4244: u'unstraps', 4245: u'unsuited', 4246: u'unsupported', 4247: u'unsuspected', 4248: u'unsweetened', 4249: u'unt', 4250: u'untapped', 4251: u'untie', 4252: u'unties', 4253: u'untold', 4254: u'untreated', 4255: u'untrustworthy', 4256: u'unusable', 4257: u'unveil', 4258: u'unveiled', 4259: u'unwelcome', 4260: u'unwell', 4261: u'unwillingly', 4262: u'unwind', 4263: u'unwiped', 4264: u'unwittingly', 4265: u'unzipping', 4266: u'uoo', 4267: u'updater', 4268: u'updog', 4269: u'upfront', 4270: u'uphill', 4271: u'uplifting', 4272: u'upliftingnews', 4273: u'upload', 4274: u'upmanship', 4275: u'upote', 4276: u'uppercut', 4277: u'uppercutted', 4278: u'upping', 4279: u'upright', 4280: u'upriver', 4281: u'uproarious', 4282: u'uprooted', 4283: u'upscale', 4284: u'upse', 4285: u'upsets', 4286: u'upsidedown', 4287: u'upto', 4288: u'upvoting', 4289: u'upward', 4290: u'upwards', 4291: u'urgently', 4292: u'uriel', 4293: u'urinary', 4294: u'urinates', 4295: u'urna', 4296: u'urned', 4297: u'urologists', 4298: u'urs', 4299: u'usable', 4300: u'usama', 4301: u'usbekistan', 4302: u'usefulness', 4303: u'usenet', 4304: u'ushanka', 4305: u'ushers', 4306: u'us\\u0142ug', 4307: u'ut', 4308: u'utahn', 4309: u'utd', 4310: u'ute', 4311: u'uterus', 4312: u'utm_term', 4313: u'utopia', 4314: u'utopian', 4315: u'utsjoki', 4316: u'uttering', 4317: u'utz', 4318: u'uuuhh', 4319: u'uuuuhh', 4320: u'uw', 4321: u'uxbridge', 4322: u'uxu', 4323: u'uzi', 4324: u'uzx', 4325: u'v6', 4326: u'vac', 4327: u'vacant', 4328: u'vacate', 4329: u'vaccinating', 4330: u'vaccination', 4331: u'vachina', 4332: u'vag', 4333: u'vagchina', 4334: u'vai', 4335: u'vainly', 4336: u'vainy', 4337: u'vaitamins', 4338: u'vajazzle', 4339: u'valence', 4340: u'valentimes', 4341: u'valentinesday', 4342: u'valet', 4343: u'valets', 4344: u'valhalal', 4345: u'valhalla', 4346: u'valiant', 4347: u'validate', 4348: u'validates', 4349: u'validation', 4350: u'valintines', 4351: u'valk', 4352: u'valking', 4353: u'valued', 4354: u'valume', 4355: u'valves', 4356: u'vampiric', 4357: u'vance', 4358: u'vancouver', 4359: u'vandalising', 4360: u'vandals', 4361: u'vanish', 4362: u'vant', 4363: u'vaping', 4364: u'variety', 4365: u'varra', 4366: u'varsity', 4367: u'vary', 4368: u'varying', 4369: u'vasectomies', 4370: u'vasoline', 4371: u'vassal', 4372: u'vastly', 4373: u'vaxxer', 4374: u'vaxxers', 4375: u'vcuum', 4376: u'vday', 4377: u'veal', 4378: u'vecation', 4379: u'vector', 4380: u'vectors', 4381: u'ved', 4382: u'vee', 4383: u'veered', 4384: u'veg', 4385: u'vega', 4386: u'veganism', 4387: u'vegemite', 4388: u'vegeta', 4389: u'vegetative', 4390: u'veggie', 4391: u'vegun', 4392: u'vehemently', 4393: u'vehicular', 4394: u'veil', 4395: u'vein', 4396: u'vel', 4397: u'vell', 4398: u'velo', 4399: u'veloci', 4400: u'velocirapper', 4401: u'velour', 4402: u'velvet', 4403: u'venereal', 4404: u'venezuela', 4405: u'vengeful', 4406: u'venison', 4407: u'venmo', 4408: u'venn', 4409: u'vent', 4410: u'ventura', 4411: u'venture', 4412: u'venturing', 4413: u'ver', 4414: u'verb', 4415: u'verdict', 4416: u'veritable', 4417: u'verizon', 4418: u'verma', 4419: u'vermontians', 4420: u'veronica', 4421: u'versailles', 4422: u'versed', 4423: u'verses', 4424: u'vertabae', 4425: u'vertebra', 4426: u'vertebrae', 4427: u'vertical', 4428: u'vestibule', 4429: u'vestibulum', 4430: u'veteranaryans', 4431: u'veterinary', 4432: u'vich', 4433: u'viel', 4434: u'viid', 4435: u'viii', 4436: u'viiin', 4437: u'vikings', 4438: u'vile', 4439: u'vilified', 4440: u'vill', 4441: u'villager', 4442: u'villages', 4443: u'vilotes', 4444: u'vinci', 4445: u'vinegar', 4446: u'vinegarette', 4447: u'vineyard', 4448: u'vinilla', 4449: u'vinnie', 4450: u'vinyl', 4451: u'violator', 4452: u'virginitty', 4453: u'viriodx', 4454: u'virtual', 4455: u'virtue', 4456: u'virtuoso', 4457: u'vise', 4458: u'visibility', 4459: u'visio', 4460: u'visionary', 4461: u'visitting', 4462: u'visor', 4463: u'visual', 4464: u'vit', 4465: u'vitae', 4466: u'vitamins', 4467: u'vive', 4468: u'vivi', 4469: u'vj', 4470: u'vladimer', 4471: u'vladislav', 4472: u'vladizslav', 4473: u'vocabu', 4474: u'vocalizes', 4475: u'vocals', 4476: u'voicemail', 4477: u'voicing', 4478: u'void', 4479: u'volcanoe', 4480: u'voldemort', 4481: u'volecano', 4482: u'volition', 4483: u'volta', 4484: u'voluntarily', 4485: u'voluptuous', 4486: u'volutpat', 4487: u'voo', 4488: u'vore', 4489: u'vortex', 4490: u'vostochny', 4491: u'voters', 4492: u'vouchers', 4493: u'vous', 4494: u'vowing', 4495: u'voyage', 4496: u'vpotus', 4497: u'vriginity', 4498: u'vroom', 4499: u'vsauce', 4500: u'vuhl', 4501: u'vuitton', 4502: u'vulgarity', 4503: u'vulputate', 4504: u'vult', 4505: u'vying', 4506: u'w2', 4507: u'waaa', 4508: u'waaaaay', 4509: u'waaaarrrr', 4510: u'waals', 4511: u'wac', 4512: u'wack', 4513: u'wacker', 4514: u'waddle', 4515: u'waddling', 4516: u'waddya', 4517: u'wading', 4518: u'wae', 4519: u'wagegap', 4520: u'wagering', 4521: u'wagon', 4522: u'wah', 4523: u'wahhhhhh', 4524: u'wahlberg', 4525: u'wailing', 4526: u'wails', 4527: u'waisted', 4528: u'waists', 4529: u'waiters', 4530: u'waitresses', 4531: u'waittime', 4532: u'waiver', 4533: u'waka', 4534: u'waked', 4535: u'wakka', 4536: u'walgreens', 4537: u'walken', 4538: u'walksintoabar', 4539: u'wallbuilder', 4540: u'wallets', 4541: u'wallis', 4542: u'wallnuts', 4543: u'wallowing', 4544: u'waltzers', 4545: u'waltzes', 4546: u'wana', 4547: u'wander', 4548: u'wanderers', 4549: u'wang', 4550: u'wanks', 4551: u'wannaa', 4552: u'wannabe', 4553: u'wanton', 4554: u'warcry', 4555: u'wards', 4556: u'warer', 4557: u'warfare', 4558: u'warheads', 4559: u'warsaw', 4560: u'warto', 4561: u'watchmaker', 4562: u'watsapp', 4563: u'wc', 4564: u'weasel', 4565: u'weasley', 4566: u'wedgie', 4567: u'weeeeeeeeee', 4568: u'weeknd', 4569: u'weep', 4570: u'wenyuan', 4571: u'werfen', 4572: u'wetherspoons', 4573: u'wheek', 4574: u'wherez', 4575: u'wieso', 4576: u'wifey', 4577: u'wiggles', 4578: u'wilma', 4579: u'windows3', 4580: u'windowsxp', 4581: u'winery', 4582: u'winged', 4583: u'winging', 4584: u'wingman', 4585: u'wingspan', 4586: u'winking', 4587: u'winkle', 4588: u'winkler', 4589: u'winnipeg', 4590: u'winos', 4591: u'winrar', 4592: u'winshield', 4593: u'winston', 4594: u'winzip', 4595: u'wiper', 4596: u'wir', 4597: u'wires', 4598: u'wiretapped', 4599: u'wiretapping', 4600: u'wirft', 4601: u'wisdoms', 4602: u'wisely', 4603: u'wiseman', 4604: u'wisemen', 4605: u'wispers', 4606: u'wispy', 4607: u'wissout', 4608: u'witchcraft', 4609: u'withdrawal', 4610: u'withdrawing', 4611: u'withering', 4612: u'witless', 4613: u'witted', 4614: u'wiz', 4615: u'wizardry', 4616: u'wizerd', 4617: u'wladimir', 4618: u'wlsshow', 4619: u'wmith', 4620: u'wnba', 4621: u'wnna', 4622: u'wo', 4623: u'wobble', 4624: u'wobbled', 4625: u'wobbling', 4626: u'wodka', 4627: u'wodzpcagvyq', 4628: u'wohs', 4629: u'wok', 4630: u'wokie', 4631: u'wolfenstein', 4632: u'wolfgan', 4633: u'wolfgang', 4634: u'wolfie', 4635: u'wolfman', 4636: u'wolvers', 4637: u'wom', 4638: u'womam', 4639: u'womanizing', 4640: u'womanly', 4641: u'wombs', 4642: u'wonderment', 4643: u'wonderpen', 4644: u'wonderwoman', 4645: u'woodchuck', 4646: u'wooded', 4647: u'woodentit', 4648: u'woodland', 4649: u'woodpecker', 4650: u'woodstock', 4651: u'woodward', 4652: u'woodworking', 4653: u'wook', 4654: u'woolen', 4655: u'wooly', 4656: u'wooman', 4657: u'wooooooosh', 4658: u'woops', 4659: u'woorld', 4660: u'woow', 4661: u'woowar', 4662: u'woozy', 4663: u'wordbank', 4664: u'wordbanks', 4665: u'wordless', 4666: u'wordlessly', 4667: u'wordplays', 4668: u'wordpress', 4669: u'wordy', 4670: u'workbench', 4671: u'workforce', 4672: u'workplaces', 4673: u'workshop', 4674: u'worktop', 4675: u'worldly', 4676: u'worldnews', 4677: u'wormholes', 4678: u'worsdhrgusfjdfhcyzyhuxujxxuxuxz448', 4679: u'worshiped', 4680: u'worshipped', 4681: u'worshipper', 4682: u'worshippers', 4683: u'worshipping', 4684: u'worthwhile', 4685: u'woudn', 4686: u'woulda', 4687: u'wousy', 4688: u'woven', 4689: u'wowed', 4690: u'wraithist', 4691: u'wrangle', 4692: u'wraparound', 4693: u'wrathful', 4694: u'wreang', 4695: u'wrecked', 4696: u'wrecking', 4697: u'wrestle', 4698: u'wrights', 4699: u'wrigleys', 4700: u'wrinkle', 4701: u'wrinkled', 4702: u'wrinkles', 4703: u'wristwatches', 4704: u'writers', 4705: u'writhing', 4706: u'writingprompts', 4707: u'wrongful', 4708: u'wrongly', 4709: u'wroooom', 4710: u'wrung', 4711: u'wry', 4712: u'wszystkim', 4713: u'wud', 4714: u'wunch', 4715: u'wuss', 4716: u'ww', 4717: u'ww1', 4718: u'wwhhaaaaat', 4719: u'wwhhaaaaatt', 4720: u'wwhhhaaaaatt', 4721: u'wwjd', 4722: u'wwwaaaatttaaaar', 4723: u'wybieraja', 4724: u'wycieczki', 4725: u'wycieczkiandaluzja', 4726: u'wynne', 4727: u'wyoming', 4728: u'x2', 4729: u'xboxer', 4730: u'xdd', 4731: u'xehasnort', 4732: u'xenomorphs', 4733: u'xenophobe', 4734: u'xenophobia', 4735: u'xenu', 4736: u'xer', 4737: u'xfl', 4738: u'xhe', 4739: u'xi', 4740: u'xiangsheng', 4741: u'xie', 4742: u'xisbeautiful', 4743: u'xorcist', 4744: u'xoxo', 4745: u'xporn', 4746: u'xun', 4747: u'xxxplosive', 4748: u'yabba', 4749: u'yaknow', 4750: u'yaks', 4751: u'yakult', 4752: u'yall', 4753: u'yam', 4754: u'yamaha', 4755: u'yamakas', 4756: u'yamerica', 4757: u'yan', 4758: u'yang', 4759: u'yankadickapolise', 4760: u'yankees', 4761: u'yanking', 4762: u'yanks', 4763: u'yanky', 4764: u'yardwork', 4765: u'yars', 4766: u'yates', 4767: u'yawn', 4768: u'yawned', 4769: u'yawns', 4770: u'yeah1', 4771: u'yearns', 4772: u'yeasterday', 4773: u'yee', 4774: u'yeeeee', 4775: u'yeezy', 4776: u'yella', 4777: u'yellen', 4778: u'yellows', 4779: u'yellowstone', 4780: u'yemenite', 4781: u'yerp', 4782: u'yersterday', 4783: u'yessir', 4784: u'yesss', 4785: u'yew', 4786: u'yi', 4787: u'yiannapoulos', 4788: u'yiannopolous', 4789: u'yiannopoulas', 4790: u'yiay', 4791: u'yiddish', 4792: u'yields', 4793: u'yikes', 4794: u'yin', 4795: u'yit', 4796: u'ymca', 4797: u'ynhlckq1llq', 4798: u'ynonononono', 4799: u'yodelling', 4800: u'yoghurt', 4801: u'yokel', 4802: u'yolanda', 4803: u'yong', 4804: u'yongle', 4805: u'yoo', 4806: u'yooh', 4807: u'yooooouuuuu', 4808: u'yooper', 4809: u'youcanfindthem', 4810: u'youhaveaproblem', 4811: u'youll', 4812: u'youngblood', 4813: u'youngsters', 4814: u'youporn', 4815: u'yourselfes', 4816: u'yous', 4817: u'yousif', 4818: u'youthinkhesaurus', 4819: u'youuu', 4820: u'youuuu', 4821: u'youve', 4822: u'yrs', 4823: u'ytb', 4824: u'yttrium', 4825: u'yub', 4826: u'yuh', 4827: u'yummy', 4828: u'yungen', 4829: u'yuppies', 4830: u'yurro', 4831: u'yurt', 4832: u'yuuge', 4833: u'yuuuge', 4834: u'yuuuuuuuge', 4835: u'yyyerrrr', 4836: u'za', 4837: u'zaat', 4838: u'zac', 4839: u'zagging', 4840: u'zainteresowac', 4841: u'zak', 4842: u'zanzibar', 4843: u'zap', 4844: u'zapping', 4845: u'zap\\u0142aci\\u0142em', 4846: u'zara', 4847: u'zawahiri', 4848: u'zayka', 4849: u'zealous', 4850: u'zee', 4851: u'zeez', 4852: u'zeno', 4853: u'zenyatta', 4854: u'zer', 4855: u'zeracles', 4856: u'zeroed', 4857: u'zese', 4858: u'zhang', 4859: u'zhangyi', 4860: u'zheimers', 4861: u'zig', 4862: u'zimbabwe', 4863: u'zimmerman', 4864: u'zipped', 4865: u'zips', 4866: u'ziti', 4867: u'zitler', 4868: u'zits', 4869: u'zle', 4870: u'zlotys', 4871: u'zodiac', 4872: u'zom', 4873: u'zombas', 4874: u'zoned', 4875: u'zoning', 4876: u'zooloft', 4877: u'zoom', 4878: u'zooming', 4879: u'zoos', 4880: u'zoro', 4881: u'zoster', 4882: u'zovitzki', 4883: u'zuarilal', 4884: u'zuchini', 4885: u'zulu', 4886: u'zuma', 4887: u'zz', 4888: u'zzzzzzzzzzzzzzzzzzzzzz', 4889: u'\\u03b1\\u03bb\\u03b7\\u03b8\\u03b5\\u03b9\\u03b1', 4890: u'\\u03c0holes', 4891: u'\\u03c0iss', 4892: u'\\u03c0le', 4893: u'\\u03c0napples', 4894: u'\\u03c0racy', 4895: u'\\u03c0ros', 4896: u'\\u03c0s', 4897: u'\\u03c6thon', 4898: u'\\u043f\\u043e\\u0437\\u043d\\u0435\\u0440', 4899: u'\\u05d1\\u05e2\\u05dc', 4900: u'\\u05d1\\u05e8\\u05d5\\u05e7\\u05d5\\u05dc\\u05d9', 4901: u'\\u05d6\\u05d1\\u05d5\\u05d1', 4902: u'\\u05e9\\u05dc', 4903: u'\\u0628\\u0627\\u0628\\u0627', 4904: u'\\u0641\\u0636\\u0644\\u0643', 4905: u'\\u0645\\u0646', 4906: u'\\u0646\\u0639\\u0645', 4907: u'\\u0ca0_\\u0ca0', 4908: u'\\u1100\\u1161\\u1102\\u1173\\u11bc\\u1109\\u1165\\u11bc\\u110b\\u1173\\u11ab', 4909: u'\\u1100\\u1161\\u1103\\u1165\\u11ab', 4910: u'\\u1100\\u1161\\u1103\\u116e\\u110b\\u1165\\u11bb\\u1103\\u1165\\u1102\\u1175', 4911: u'\\u1100\\u1161\\u110c\\u1161', 4912: u'\\u1100\\u1161\\u11b7\\u1100\\u1172\\u11af\\u110c\\u116e\\u1109\\u1173', 4913: u'\\u1100\\u1161\\u11b8\\u110c\\u1161\\u1100\\u1175', 4914: u'\\u1100\\u1161\\u11bc\\u1103\\u1169', 4915: u'\\u1100\\u1162\\u110b\\u116f\\u11af', 4916: u'\\u1100\\u1165\\u11ab\\u1100\\u1161\\u11bc\\u1112\\u1161\\u11ab', 4917: u'\\u1100\\u1172\\u11af', 4918: u'\\u1100\\u1172\\u11af\\u110b\\u1173\\u11af', 4919: u'\\u1100\\u1172\\u11af\\u110b\\u1174', 4920: u'\\u1100\\u1173', 4921: u'\\u1100\\u1175\\u1103\\u1169\\u110b\\u1166', 4922: u'\\u1100\\u1175\\u110e\\u1175\\u11b7\\u110b\\u1175', 4923: u'\\u1102\\u1161\\u110b\\u1169\\u11ab\\u1103\\u1161', 4924: u'\\u1102\\u1161\\u11ab\\u1103\\u1161', 4925: u'\\u1102\\u1161\\u11b7\\u1109\\u1165\\u11bc', 4926: u'\\u1102\\u1161\\u11bb\\u1103\\u1161', 4927: u'\\u1102\\u1162\\u110b\\u1166', 4928: u'\\u1102\\u1165\\u11c2\\u1100\\u1166\\u1103\\u116c\\u1106\\u1167\\u11ab', 4929: u'\\u1102\\u1165\\u11c2\\u1100\\u1169', 4930: u'\\u1102\\u1165\\u11c2\\u110b\\u1173\\u1106\\u1167\\u11ab', 4931: u'\\u1102\\u1169\\u11c2\\u1100\\u1169', 4932: u'\\u1102\\u116e\\u11ab\\u110b\\u1166', 4933: u'\\u1102\\u116e\\u11ab\\u110b\\u1175', 4934: u'\\u1103\\u1161\\u11bc\\u1112\\u1161\\u110b\\u1167\\u11bb\\u1103\\u1161', 4935: u'\\u1103\\u116c\\u11ab', 4936: u'\\u1103\\u1173\\u1109\\u1175\\u1100\\u1166\\u11bb\\u1109\\u1173\\u11b8\\u1102\\u1175\\u1101\\u1161', 4937: u'\\u1103\\u1173\\u11af\\u1100\\u1169', 4938: u'\\u1104\\u1161\\u1100\\u1161\\u110b\\u116f\\u110c\\u1175\\u11ab\\u1103\\u1161', 4939: u'\\u1104\\u1165\\u11af\\u110b\\u1165\\u1110\\u1173\\u1105\\u1167', 4940: u'\\u1104\\u1169\\u11bc', 4941: u'\\u1106\\u1165\\u11a8\\u110b\\u1165\\u11bb\\u1103\\u1161', 4942: u'\\u1106\\u1165\\u11a8\\u110b\\u1173\\u1106\\u1167\\u11ab', 4943: u'\\u1106\\u1165\\u11a8\\u110b\\u1173\\u11ab', 4944: u'\\u1106\\u1167\\u11be', 4945: u'\\u1107\\u1161\\u11a8\\u1109\\u1173\\u1105\\u1173\\u11af', 4946: u'\\u1107\\u1161\\u11bc\\u110b\\u1166', 4947: u'\\u1107\\u1162\\u1100\\u1169\\u1111\\u1173\\u11ab', 4948: u'\\u1107\\u1162\\u1110\\u1161\\u11af\\u110b\\u1175', 4949: u'\\u1107\\u1169\\u110b\\u1161\\u11bb\\u1103\\u1165\\u1102\\u1175', 4950: u'\\u1107\\u1169\\u11bc\\u1107\\u1167\\u11ab\\u110b\\u1173\\u11af', 4951: u'\\u1107\\u116a\\u11bb\\u1103\\u1165\\u1102\\u1175', 4952: u'\\u1107\\u116e\\u11af\\u110b\\u1173\\u11af', 4953: u'\\u1107\\u116e\\u11c0\\u110b\\u1175\\u1106\\u1167\\u11ab', 4954: u'\\u1109\\u1161\\u1105\\u1161\\u11b7\\u110b\\u1166\\u1100\\u1166', 4955: u'\\u1109\\u1161\\u1105\\u1161\\u11b7\\u110b\\u1173\\u11ab', 4956: u'\\u1109\\u1161\\u1105\\u1161\\u11b7\\u110b\\u1174', 4957: u'\\u1109\\u1161\\u1105\\u1161\\u11b7\\u110b\\u1175', 4958: u'\\u1109\\u1161\\u110c\\u1161', 4959: u'\\u1109\\u1161\\u110c\\u1161\\u110b\\u1166\\u1100\\u1166', 4960: u'\\u1109\\u1161\\u11af\\u110b\\u1175\\u11ab\\u1103\\u1173\\u11bc\\u110b\\u1173\\u11af', 4961: u'\\u1109\\u1165', 4962: u'\\u1109\\u1165\\u11bc\\u110b\\u1175\\u11ab', 4963: u'\\u1109\\u1175\\u11ae\\u1100\\u1169', 4964: u'\\u1109\\u1175\\u11af\\u1112\\u1165\\u11b7\\u110b\\u116d\\u11bc', 4965: u'\\u110a\\u116e\\u1109\\u1167', 4966: u'\\u110b\\u1161\\u11ab\\u110b\\u1166', 4967: u'\\u110b\\u1161\\u11c1\\u110b\\u1166', 4968: u'\\u110b\\u1167\\u11c1\\u110b\\u1166', 4969: u'\\u110b\\u1167\\u11c1\\u110b\\u1166\\u110b\\u1175\\u11bb\\u1103\\u1165\\u11ab', 4970: u'\\u110b\\u116f\\u11ab', 4971: u'\\u110b\\u1171\\u1112\\u1165\\u11b7\\u1109\\u1165\\u11bc', 4972: u'\\u110b\\u1175\\u1105\\u1162\\u1103\\u1169', 4973: u'\\u110b\\u1175\\u1109\\u1161\\u11bc', 4974: u'\\u110b\\u1175\\u1109\\u1161\\u11bc\\u110b\\u1174', 4975: u'\\u110b\\u1175\\u110b\\u1165\\u11bb\\u1103\\u1161', 4976: u'\\u110b\\u1175\\u11a8\\u1109\\u1161\\u1112\\u1161\\u11af', 4977: u'\\u110b\\u1175\\u11b8\\u110b\\u1165\\u11bb\\u1103\\u1161', 4978: u'\\u110b\\u1175\\u11b8\\u110b\\u1166', 4979: u'\\u110b\\u1175\\u11b8\\u110b\\u1173\\u11ab', 4980: u'\\u110b\\u1175\\u11bb\\u1102\\u1173\\u11ab', 4981: u'\\u110c\\u1165\\u110c\\u1175\\u1105\\u1173\\u11ab', 4982: u'\\u110c\\u1165\\u11ab\\u1107\\u1169\\u11a8\\u1103\\u116c\\u110b\\u1165', 4983: u'\\u110c\\u116e\\u1100\\u1169', 4984: u'\\u110c\\u116e\\u110b\\u1165\\u11bb\\u1103\\u1165\\u1102\\u1175', 4985: u'\\u110c\\u116e\\u11a8\\u110b\\u1165\\u11bb\\u1103\\u1161', 4986: u'\\u110c\\u116e\\u11a8\\u110b\\u1173\\u11af', 4987: u'\\u110c\\u116e\\u11bc\\u1109\\u1161\\u11bc\\u110b\\u1173\\u11af', 4988: u'\\u110c\\u1171\\u1105\\u1173\\u11af', 4989: u'\\u110d\\u1161\\u1109\\u1165', 4990: u'\\u1110\\u1165\\u110c\\u1167\\u1109\\u1165', 4991: u'\\u1110\\u1165\\u110c\\u1175\\u1100\\u1166\\u1103\\u116c\\u11ab\\u1103\\u1161', 4992: u'\\u1110\\u1165\\u110c\\u1175\\u11ab\\u1103\\u1161', 4993: u'\\u1110\\u1169\\u11bc\\u110b\\u1166', 4994: u'\\u1110\\u1173\\u1105\\u1165\\u11a8\\u110b\\u1175', 4995: u'\\u1111\\u1175\\u1112\\u1162\\u1100\\u1161', 4996: u'\\u1112\\u1161\\u11ab', 4997: u'\\u1112\\u1161\\u11ab\\u1100\\u1162\\u1105\\u1173\\u11af', 4998: u'\\u1112\\u1161\\u11ab\\u1107\\u1165\\u11ab\\u110b\\u1175\\u1105\\u1161\\u1103\\u1169', 4999: u'\\u1112\\u116a\\u110b\\u1163\\u11a8\\u110b\\u1173\\u11af'})\n"
     ]
    }
   ],
   "source": [
    "# Precompute and save all of this information\n",
    "n_feats = 5000\n",
    "# j = [{'id':1, u'title': u'this is a title', u'selftext': u'punchline_e'},{'id':2,u'title': u'this is a title2', u'selftext': u'punchline_d'},\n",
    "#      {'id':3, u'title': u'this is a title3', u'selftext': u'punchline_c'},\n",
    "#      {'id':4, u'title': u'this is a title4', u'selftext': u'punchline_b'},{'id':5, u'title': u'this is a title5', u'selftext': u'punchline_a'}]\n",
    "\n",
    "j = jokes\n",
    "\n",
    "#here, we will assign an index for each joke id. This index will help us access data in numpy matrices.\n",
    "joke_id_to_index = {joke_id:index for index, joke_id in enumerate([d['id'] for d in j])}\n",
    "\n",
    "#we will also need a dictionary mapping joke titles to joke ids\n",
    "joke_title_to_id = {name:jid for name, jid in zip([d['title'] for d in j],\n",
    "                                                     [d['id'] for d in j])}\n",
    "joke_id_to_title = {v:k for k,v in joke_title_to_id.iteritems()}\n",
    "\n",
    "#and because it might be useful...\n",
    "joke_title_to_index = {title:joke_id_to_index[joke_title_to_id[title]] for title in [d['title'] for d in j]}\n",
    "joke_index_to_title = {v:k for k,v in joke_title_to_index.iteritems()}\n",
    "\n",
    "# maps joke id to the dictionary representing the joke post\n",
    "joke_id_to_joke = {joke_id:joke for joke_id, joke in [(d['id'], d) for d in j]}\n",
    "\n",
    "\n",
    "#printing\n",
    "# print joke_id_to_index\n",
    "# print joke_title_to_id\n",
    "# print joke_id_to_title\n",
    "# print joke_title_to_index\n",
    "# print joke_index_to_title\n",
    "\n",
    "# I think order of rows in tfidf is same as order of docs in the list j.\n",
    "# I think order of cols in tfidf is same as order of what get_feature_names, which I think is in alpha order.\n",
    "tfidf, feat_names = build_tfidf(j, True, True, n_feats, min_df = 0, max_df = 1)\n",
    "# List of tuples. 0th entry in tuple is the joke_id\n",
    "inv_idx = get_inverted_index(j, True, True)\n",
    "\n",
    "print(tfidf, feat_names)\n",
    "\n",
    "\n",
    "# sims, like tfidf, is a sparse (CSR) matrix\n",
    "tfidf_t = tfidf.transpose()\n",
    "# print tfidf.shape\n",
    "# print tfidf_t.shape\n",
    "\n",
    "row1 = tfidf.getrow(0)\n",
    "row2 =  tfidf.getrow(1)\n",
    "\n",
    "# sims is sparse\n",
    "sims = tfidf * tfidf_t\n",
    "\n",
    "\n",
    "#print a[0].toarray()\n",
    "# print a[1]\n",
    "# print '\\n'\n",
    "# b =  build_tfidf(j, True, False, n_feats, min_df = 0, max_df = 1)\n",
    "# print b[0].toarray()\n",
    "# print b[1]\n",
    "# print '\\n'\n",
    "# c = build_tfidf(j, False, True, n_feats, min_df = 0, max_df = 1)\n",
    "# print c[0].toarray()\n",
    "# print c[1]\n",
    "# print '\\n'\n",
    "# Causes runtime error b/c there is clearly no text to consider at all.\n",
    "#print build_tfidf(j, False, False, n_feats, min_df = 0, max_df = 1) "
   ]
  },
  {
   "cell_type": "code",
   "execution_count": 81,
   "metadata": {
    "collapsed": false,
    "deletable": true,
    "editable": true
   },
   "outputs": [],
   "source": [
    "\n",
    "def get_sim(title1, title2, sims_mat):\n",
    "    \"\"\"\n",
    "    Arguments:\n",
    "        title1: The title of the first joke we are looking for.\n",
    "        title2: The title of the second joke we are looking for.\n",
    "        sims_mat: calculated as XX^T, where x is doc-by-vocab sparse matrix.\n",
    "    Returns:\n",
    "        similarity: Cosine similarity of the two movie transcripts.\n",
    "    \"\"\"\n",
    "    #Code completion 1.2\n",
    "    \n",
    "    # Cannot do a simple np.dot on vectors in sparse matrix.\n",
    "    #return np.dot(doc_by_vocab[movie_name_to_index[mov1],:],\n",
    "                      #doc_by_vocab[movie_name_to_index[mov2],:])\n",
    "    \n",
    "    idx1 = joke_title_to_index[title1]\n",
    "    idx2 = joke_title_to_index[title2]\n",
    "    return sims_mat[idx1, idx2]\n",
    "\n"
   ]
  },
  {
   "cell_type": "code",
   "execution_count": 82,
   "metadata": {
    "collapsed": false,
    "deletable": true,
    "editable": true
   },
   "outputs": [
    {
     "data": {
      "text/plain": [
       "0.0"
      ]
     },
     "execution_count": 82,
     "metadata": {},
     "output_type": "execute_result"
    }
   ],
   "source": [
    "get_sim('What are minorities?', 'I\\'m Trying to Remember The Name of A Song', sims)"
   ]
  },
  {
   "cell_type": "code",
   "execution_count": 83,
   "metadata": {
    "collapsed": true,
    "deletable": true,
    "editable": true
   },
   "outputs": [],
   "source": [
    "# I wanted to buy an Audi.', 15689: u\"I'm Trying to Remember The Name of A Song\", 15690: u'What are minorities?', 15691: u'Did you hear that Donald Trump is technically a plant?', 15692: u'Yo mama is so ugly, when she was born the doctor wrapped the afterbirth in a blanket and threw her in the trash.', 15693: u'i had trouble swallowing a viagra last night', 15694: u'What "
   ]
  },
  {
   "cell_type": "code",
   "execution_count": 84,
   "metadata": {
    "collapsed": false,
    "deletable": true,
    "editable": true
   },
   "outputs": [
    {
     "name": "stdout",
     "output_type": "stream",
     "text": [
      "0.0\n"
     ]
    }
   ],
   "source": [
    "print sims[12,14]"
   ]
  },
  {
   "cell_type": "code",
   "execution_count": 85,
   "metadata": {
    "collapsed": false,
    "deletable": true,
    "editable": true
   },
   "outputs": [
    {
     "name": "stdout",
     "output_type": "stream",
     "text": [
      "(array([   11,    13,    18, ..., 24980, 24981, 24993], dtype=int32), array([   11,    13,    18, ..., 24980, 24981, 24993], dtype=int32))\n"
     ]
    }
   ],
   "source": [
    "print sims.nonzero()"
   ]
  },
  {
   "cell_type": "code",
   "execution_count": 86,
   "metadata": {
    "collapsed": false,
    "deletable": true,
    "editable": true
   },
   "outputs": [
    {
     "name": "stdout",
     "output_type": "stream",
     "text": [
      "3375\n"
     ]
    }
   ],
   "source": [
    "print len(sims.nonzero()[0])"
   ]
  },
  {
   "cell_type": "code",
   "execution_count": 87,
   "metadata": {
    "collapsed": false,
    "deletable": true,
    "editable": true
   },
   "outputs": [],
   "source": [
    "nonzero_elems = zip(sims.nonzero()[0],sims.nonzero()[1])"
   ]
  },
  {
   "cell_type": "code",
   "execution_count": 88,
   "metadata": {
    "collapsed": false,
    "deletable": true,
    "editable": true
   },
   "outputs": [],
   "source": [
    "# print nonzero_elems\n",
    "\n",
    "for elem in nonzero_elems:\n",
    "    if elem[0] != elem[1]:\n",
    "        print '**'"
   ]
  },
  {
   "cell_type": "code",
   "execution_count": 89,
   "metadata": {
    "collapsed": false,
    "deletable": true,
    "editable": true
   },
   "outputs": [
    {
     "data": {
      "text/plain": [
       "0.0"
      ]
     },
     "execution_count": 89,
     "metadata": {},
     "output_type": "execute_result"
    }
   ],
   "source": [
    "\n",
    "\n",
    "\n",
    "\n",
    "get_sim(joke_index_to_title[208], joke_index_to_title[611], sims)"
   ]
  },
  {
   "cell_type": "code",
   "execution_count": 90,
   "metadata": {
    "collapsed": false,
    "deletable": true,
    "editable": true
   },
   "outputs": [
    {
     "name": "stdout",
     "output_type": "stream",
     "text": [
      "(array([   11,    13,    13, ..., 24981, 24981, 24993], dtype=int32), array([4071, 3401, 4649, ..., 3214,  921, 3971], dtype=int32))\n"
     ]
    }
   ],
   "source": [
    "print tfidf.nonzero()"
   ]
  },
  {
   "cell_type": "code",
   "execution_count": 91,
   "metadata": {
    "collapsed": false,
    "deletable": true,
    "editable": true
   },
   "outputs": [
    {
     "name": "stdout",
     "output_type": "stream",
     "text": [
      "  (11, 4071)\t1.0\n",
      "  (13, 3401)\t0.534522483825\n",
      "  (13, 4649)\t0.801783725737\n",
      "  (13, 2165)\t0.267261241912\n",
      "  (18, 3229)\t0.707106781187\n",
      "  (18, 4708)\t0.707106781187\n",
      "  (35, 4730)\t1.0\n",
      "  (40, 3418)\t0.99503719021\n",
      "  (40, 4258)\t0.099503719021\n",
      "  (43, 4639)\t1.0\n",
      "  (55, 837)\t1.0\n",
      "  (56, 1021)\t1.0\n",
      "  (58, 3681)\t1.0\n",
      "  (60, 3072)\t0.707106781187\n",
      "  (60, 1162)\t0.707106781187\n",
      "  (87, 1359)\t1.0\n",
      "  (91, 2610)\t1.0\n",
      "  (92, 1111)\t1.0\n",
      "  (93, 1504)\t0.707106781187\n",
      "  (93, 1552)\t0.707106781187\n",
      "  (95, 3967)\t1.0\n",
      "  (105, 703)\t1.0\n",
      "  (108, 816)\t1.0\n",
      "  (178, 3230)\t0.707106781187\n",
      "  (178, 1129)\t0.707106781187\n",
      "  :\t:\n",
      "  (24866, 3156)\t1.0\n",
      "  (24873, 2363)\t1.0\n",
      "  (24874, 252)\t1.0\n",
      "  (24876, 3212)\t1.0\n",
      "  (24880, 2341)\t1.0\n",
      "  (24882, 2790)\t1.0\n",
      "  (24883, 1596)\t1.0\n",
      "  (24891, 3429)\t1.0\n",
      "  (24896, 1995)\t1.0\n",
      "  (24900, 1417)\t1.0\n",
      "  (24909, 2832)\t1.0\n",
      "  (24917, 688)\t1.0\n",
      "  (24932, 1756)\t1.0\n",
      "  (24933, 1646)\t1.0\n",
      "  (24952, 4591)\t1.0\n",
      "  (24956, 1367)\t1.0\n",
      "  (24965, 1652)\t1.0\n",
      "  (24967, 941)\t1.0\n",
      "  (24971, 2420)\t1.0\n",
      "  (24980, 337)\t0.894427191\n",
      "  (24980, 1415)\t0.4472135955\n",
      "  (24981, 4637)\t0.57735026919\n",
      "  (24981, 3214)\t0.57735026919\n",
      "  (24981, 921)\t0.57735026919\n",
      "  (24993, 3971)\t1.0\n"
     ]
    }
   ],
   "source": [
    "print tfidf"
   ]
  },
  {
   "cell_type": "code",
   "execution_count": 92,
   "metadata": {
    "collapsed": false,
    "deletable": true,
    "editable": true
   },
   "outputs": [
    {
     "data": {
      "text/plain": [
       "u'Julia was organizing a cat show'"
      ]
     },
     "execution_count": 92,
     "metadata": {},
     "output_type": "execute_result"
    }
   ],
   "source": [
    "joke_index_to_title[40]"
   ]
  },
  {
   "cell_type": "code",
   "execution_count": 93,
   "metadata": {
    "collapsed": false,
    "deletable": true,
    "editable": true
   },
   "outputs": [
    {
     "data": {
      "text/plain": [
       "u\"What's the difference between toilet paper and finding someone attractive on Tinder?\""
      ]
     },
     "execution_count": 93,
     "metadata": {},
     "output_type": "execute_result"
    }
   ],
   "source": [
    "joke_index_to_title[3418]"
   ]
  },
  {
   "cell_type": "code",
   "execution_count": 94,
   "metadata": {
    "collapsed": false,
    "deletable": true,
    "editable": true
   },
   "outputs": [
    {
     "name": "stdout",
     "output_type": "stream",
     "text": [
      "<class 'scipy.sparse.csr.csr_matrix'>\n"
     ]
    }
   ],
   "source": [
    "print type(tfidf)"
   ]
  },
  {
   "cell_type": "code",
   "execution_count": 95,
   "metadata": {
    "collapsed": false,
    "deletable": true,
    "editable": true
   },
   "outputs": [],
   "source": [
    "def inv_idx_cats(cats, list_jokes):\n",
    "    cat_idx = defaultdict(list)\n",
    "    for cat in cats:\n",
    "        if cat == 'nsfw':\n",
    "            cat_idx[cat] = [joke['id'] for joke in list_jokes if (joke['over_18'] or joke['domain'].lower() == 'self.meanjokes' or joke['domain'].lower() == 'self.dirtyjokes')]\n",
    "    return cat_idx"
   ]
  },
  {
   "cell_type": "code",
   "execution_count": 96,
   "metadata": {
    "collapsed": false
   },
   "outputs": [
    {
     "data": {
      "text/plain": [
       "defaultdict(list, {'nsfw': []})"
      ]
     },
     "execution_count": 96,
     "metadata": {},
     "output_type": "execute_result"
    }
   ],
   "source": [
    "inv_idx_cats(['nsfw'], [j[1]])"
   ]
  },
  {
   "cell_type": "code",
   "execution_count": 97,
   "metadata": {
    "collapsed": false
   },
   "outputs": [
    {
     "data": {
      "text/plain": [
       "{u'created_utc': 1488987334,\n",
       " u'domain': u'self.Jokes',\n",
       " u'id': u'5y8jyn',\n",
       " u'over_18': False,\n",
       " u'selftext': u'I told her that she smells different than she used to.',\n",
       " u'title': u'My friend got plastic surgery on her nose...'}"
      ]
     },
     "execution_count": 97,
     "metadata": {},
     "output_type": "execute_result"
    }
   ],
   "source": [
    "j[1]"
   ]
  },
  {
   "cell_type": "code",
   "execution_count": 98,
   "metadata": {
    "collapsed": false
   },
   "outputs": [
    {
     "name": "stdout",
     "output_type": "stream",
     "text": [
      "{u'domain': u'self.Jokes', u'title': u\"What's the fastest thing in the universe?\", u'created_utc': 1488985374, u'selftext': u'A woman running away from a mouse', u'over_18': True, u'id': u'5y8d7p'}\n"
     ]
    }
   ],
   "source": [
    "# Artifically make true for testing purposes:\n",
    "j[19]['over_18'] = True\n",
    "print j[19]"
   ]
  },
  {
   "cell_type": "code",
   "execution_count": 99,
   "metadata": {
    "collapsed": false
   },
   "outputs": [
    {
     "data": {
      "text/plain": [
       "defaultdict(list, {'nsfw': [u'5y8d7p']})"
      ]
     },
     "execution_count": 99,
     "metadata": {},
     "output_type": "execute_result"
    }
   ],
   "source": [
    "inv_idx_cats(['nsfw'], [j[1], j[19]])"
   ]
  },
  {
   "cell_type": "code",
   "execution_count": 100,
   "metadata": {
    "collapsed": false
   },
   "outputs": [
    {
     "data": {
      "text/plain": [
       "defaultdict(list,\n",
       "            {'nsfw': [u'5y8d7p',\n",
       "              u'5y7bx1',\n",
       "              u'5y79z5',\n",
       "              u'5y5p1z',\n",
       "              u'5y48hp',\n",
       "              u'5y3aem',\n",
       "              u'5y03w4',\n",
       "              u'5xzaua',\n",
       "              u'5xx6q4',\n",
       "              u'5xwv6h',\n",
       "              u'5xwjl7',\n",
       "              u'5xtv66',\n",
       "              u'5xsg1b',\n",
       "              u'5xqzl2',\n",
       "              u'5xqp3v',\n",
       "              u'5xpuek',\n",
       "              u'5xpc3v',\n",
       "              u'5xp43n',\n",
       "              u'5xnvxl',\n",
       "              u'5xn9ty',\n",
       "              u'5xl2zr',\n",
       "              u'5xhyhw',\n",
       "              u'5xhdyq',\n",
       "              u'5xepdi',\n",
       "              u'5xbpz3',\n",
       "              u'5xbfzx',\n",
       "              u'5xb0xq',\n",
       "              u'5xahaz',\n",
       "              u'5x969i',\n",
       "              u'5x8ymr',\n",
       "              u'5x8pfn',\n",
       "              u'5x578m',\n",
       "              u'5x3z0n',\n",
       "              u'5x3whw',\n",
       "              u'5x3flt',\n",
       "              u'5x3ezb',\n",
       "              u'5x2wwn',\n",
       "              u'5x2wbh',\n",
       "              u'5x2uuk',\n",
       "              u'5x2ibj',\n",
       "              u'5x2h8j',\n",
       "              u'5x2ad1',\n",
       "              u'5x2a0s',\n",
       "              u'5x23h4',\n",
       "              u'5x21py',\n",
       "              u'5x1ul9',\n",
       "              u'5x1po9',\n",
       "              u'5x1o9q',\n",
       "              u'5x1m6n',\n",
       "              u'5x1a2g',\n",
       "              u'5x18fa',\n",
       "              u'5x1824',\n",
       "              u'5x16hq',\n",
       "              u'5x0zj2',\n",
       "              u'5x0qjd',\n",
       "              u'5x0qgp',\n",
       "              u'5x0mbu',\n",
       "              u'5x0ki8',\n",
       "              u'5x0jsf',\n",
       "              u'5x0j4h',\n",
       "              u'5x0j0d',\n",
       "              u'5wzxwb',\n",
       "              u'5wzsaf',\n",
       "              u'5wzr75',\n",
       "              u'5wznbw',\n",
       "              u'5wzevz',\n",
       "              u'5wzep2',\n",
       "              u'5wzb4p',\n",
       "              u'5wz0m6',\n",
       "              u'5wz0an',\n",
       "              u'5wyzg2',\n",
       "              u'5wywa1',\n",
       "              u'5wyrtf',\n",
       "              u'5wym2g',\n",
       "              u'5wygma',\n",
       "              u'5wy59u',\n",
       "              u'5wxwyu',\n",
       "              u'5wx41w',\n",
       "              u'5wx3ym',\n",
       "              u'5wx3ue',\n",
       "              u'5wwx33',\n",
       "              u'5ww646',\n",
       "              u'5wvzda',\n",
       "              u'5wvy13',\n",
       "              u'5wv2k2',\n",
       "              u'5wv1l2',\n",
       "              u'5wuzy3',\n",
       "              u'5wuw68',\n",
       "              u'5wtyuj',\n",
       "              u'5wtyaa',\n",
       "              u'5wsz4n',\n",
       "              u'5ws1bw',\n",
       "              u'5wng05',\n",
       "              u'5wnd3o',\n",
       "              u'5wmmd2',\n",
       "              u'5wjruw',\n",
       "              u'5wjm3q',\n",
       "              u'5wim9z',\n",
       "              u'5whly0',\n",
       "              u'5wgju3',\n",
       "              u'5wf8d0',\n",
       "              u'5wf0ay',\n",
       "              u'5wemhr',\n",
       "              u'5wb4wx',\n",
       "              u'5wb28q',\n",
       "              u'5wakse',\n",
       "              u'5wa3jb',\n",
       "              u'5w98q9',\n",
       "              u'5w7fqa',\n",
       "              u'5w5b8x',\n",
       "              u'5w4v4e',\n",
       "              u'5w43bi',\n",
       "              u'5w2h6c',\n",
       "              u'5vy048',\n",
       "              u'5vxq7m',\n",
       "              u'5vxmar',\n",
       "              u'5vvtfb',\n",
       "              u'5vtnw7',\n",
       "              u'5vs6i3',\n",
       "              u'5vq8i8',\n",
       "              u'5vnfsd',\n",
       "              u'5vncm4',\n",
       "              u'5vnb5o',\n",
       "              u'5vlyul',\n",
       "              u'5vllee',\n",
       "              u'5vljfy',\n",
       "              u'5vewc7',\n",
       "              u'5verco',\n",
       "              u'5vebje',\n",
       "              u'5vdsgh',\n",
       "              u'5vcrb4',\n",
       "              u'5vcqlj',\n",
       "              u'5vclsp',\n",
       "              u'5vcl4p',\n",
       "              u'5vbtsm',\n",
       "              u'5va7wl',\n",
       "              u'5v9t1n',\n",
       "              u'5v9lop',\n",
       "              u'5v958s',\n",
       "              u'5v8hee',\n",
       "              u'5v84ah',\n",
       "              u'5v7uqz',\n",
       "              u'5v6r3b',\n",
       "              u'5v6nw5',\n",
       "              u'5v5gs3',\n",
       "              u'5v3h3g',\n",
       "              u'5v2y70',\n",
       "              u'5uzwlw',\n",
       "              u'5uzlbo',\n",
       "              u'5uyzcg',\n",
       "              u'5uxsv1',\n",
       "              u'5uxntr',\n",
       "              u'5uxibc',\n",
       "              u'5uwvpv',\n",
       "              u'5uwv15',\n",
       "              u'5uwt3j',\n",
       "              u'5uv6r9',\n",
       "              u'5us5sc',\n",
       "              u'5uqy4a',\n",
       "              u'5ue464',\n",
       "              u'5ucabl',\n",
       "              u'5ual7w',\n",
       "              u'5ua6rl',\n",
       "              u'5u9lex',\n",
       "              u'5u8otv',\n",
       "              u'5u4v1i',\n",
       "              u'5u4m2g',\n",
       "              u'5tzvju',\n",
       "              u'5txbgj',\n",
       "              u'5tws6c',\n",
       "              u'5tvkod',\n",
       "              u'5tvjss',\n",
       "              u'5tv7lx',\n",
       "              u'5tv1dn',\n",
       "              u'5ttapp',\n",
       "              u'5tt5qg',\n",
       "              u'5tq4ik',\n",
       "              u'5tpgry',\n",
       "              u'5tmwyz',\n",
       "              u'5tm9vf',\n",
       "              u'5tj22r',\n",
       "              u'5tg6sl',\n",
       "              u'5tg3cx',\n",
       "              u'5tehx6',\n",
       "              u'5td7vf',\n",
       "              u'5tar2l',\n",
       "              u'5ta4n0',\n",
       "              u'5t8fwt',\n",
       "              u'5t4i87',\n",
       "              u'5t3vde',\n",
       "              u'5t3n1y',\n",
       "              u'5t3j3e',\n",
       "              u'5t2zej',\n",
       "              u'5sza3c',\n",
       "              u'5sz9uc',\n",
       "              u'5sy28m',\n",
       "              u'5sw5hr',\n",
       "              u'5so9yw',\n",
       "              u'5so46e',\n",
       "              u'5sn2fj',\n",
       "              u'5sl25c',\n",
       "              u'5shzkp',\n",
       "              u'5shy95',\n",
       "              u'5sgnbq',\n",
       "              u'5s8lxw',\n",
       "              u'5rwtn3',\n",
       "              u'5rwhtf',\n",
       "              u'5rt4br',\n",
       "              u'5rr4e2',\n",
       "              u'5rpl4e',\n",
       "              u'5rozg6',\n",
       "              u'5robwh',\n",
       "              u'5rlw5j',\n",
       "              u'5rl6t0',\n",
       "              u'5rkfkq',\n",
       "              u'5rk7ju',\n",
       "              u'5rjx1t',\n",
       "              u'5rhtwu',\n",
       "              u'5rhco0',\n",
       "              u'5rdlba',\n",
       "              u'5rbtad']})"
      ]
     },
     "execution_count": 100,
     "metadata": {},
     "output_type": "execute_result"
    }
   ],
   "source": [
    "inv_idx_cats(['nsfw'], j)"
   ]
  },
  {
   "cell_type": "code",
   "execution_count": 101,
   "metadata": {
    "collapsed": false
   },
   "outputs": [
    {
     "name": "stdout",
     "output_type": "stream",
     "text": [
      "nsfw joke count: \n",
      "221\n",
      "total joke count: \n",
      "25000\n"
     ]
    }
   ],
   "source": [
    "print 'nsfw joke count: '\n",
    "print len(inv_idx_cats(['nsfw'], j)['nsfw'])\n",
    "print 'total joke count: '\n",
    "print len(j)"
   ]
  },
  {
   "cell_type": "code",
   "execution_count": 102,
   "metadata": {
    "collapsed": false
   },
   "outputs": [
    {
     "data": {
      "text/plain": [
       "u'NSFW Found an old picture of me and my beautiful girlfriend doing it'"
      ]
     },
     "execution_count": 102,
     "metadata": {},
     "output_type": "execute_result"
    }
   ],
   "source": [
    "joke_id_to_title['5u9lex']"
   ]
  },
  {
   "cell_type": "code",
   "execution_count": 104,
   "metadata": {
    "collapsed": false
   },
   "outputs": [
    {
     "data": {
      "text/plain": [
       "{u'created_utc': 1487186346,\n",
       " u'domain': u'self.Jokes',\n",
       " u'id': u'5u9lex',\n",
       " u'over_18': True,\n",
       " u'selftext': u'It was a comely photo',\n",
       " u'title': u'NSFW Found an old picture of me and my beautiful girlfriend doing it'}"
      ]
     },
     "execution_count": 104,
     "metadata": {},
     "output_type": "execute_result"
    }
   ],
   "source": [
    "joke_id_to_joke['5u9lex']"
   ]
  },
  {
   "cell_type": "code",
   "execution_count": 105,
   "metadata": {
    "collapsed": false
   },
   "outputs": [
    {
     "data": {
      "text/plain": [
       "14437"
      ]
     },
     "execution_count": 105,
     "metadata": {},
     "output_type": "execute_result"
    }
   ],
   "source": [
    "joke_id_to_index['5u9lex']"
   ]
  },
  {
   "cell_type": "code",
   "execution_count": 106,
   "metadata": {
    "collapsed": false
   },
   "outputs": [
    {
     "data": {
      "text/plain": [
       "{u'created_utc': 1487186346,\n",
       " u'domain': u'self.Jokes',\n",
       " u'id': u'5u9lex',\n",
       " u'over_18': True,\n",
       " u'selftext': u'It was a comely photo',\n",
       " u'title': u'NSFW Found an old picture of me and my beautiful girlfriend doing it'}"
      ]
     },
     "execution_count": 106,
     "metadata": {},
     "output_type": "execute_result"
    }
   ],
   "source": [
    "j[14437]"
   ]
  },
  {
   "cell_type": "code",
   "execution_count": 114,
   "metadata": {
    "collapsed": false
   },
   "outputs": [
    {
     "data": {
      "text/plain": [
       "{u'created_utc': 1488966579,\n",
       " u'domain': u'self.Jokes',\n",
       " u'id': u'5y72ed',\n",
       " u'over_18': False,\n",
       " u'selftext': u\"More like National Dishwasher's Day\",\n",
       " u'title': u\"National Women's Day......\"}"
      ]
     },
     "execution_count": 114,
     "metadata": {},
     "output_type": "execute_result"
    }
   ],
   "source": [
    "j[135]"
   ]
  },
  {
   "cell_type": "code",
   "execution_count": 115,
   "metadata": {
    "collapsed": true
   },
   "outputs": [],
   "source": [
    "def get(json_input):\n",
    "    query = json.load(json_input)\n",
    "    # IR stuff    \n",
    "    \n",
    "    json_output = [None for i in xrange(len(ranked_list))]\n",
    "    i = 0\n",
    "    # assume entries in ranked_list are just joke ids.\n",
    "    \n",
    "    for jid in ranked_list:\n",
    "        r_joke = joke_id_to_joke[jid]\n",
    "        tmp_dict = {'title':r_joke['title'], 'selftext': r_joke['selftext']}\n",
    "        json_output[i] = json.dumps(tmp_dict)\n",
    "        i += 1\n",
    "    return json_output"
   ]
  },
  {
   "cell_type": "code",
   "execution_count": 116,
   "metadata": {
    "collapsed": false
   },
   "outputs": [
    {
     "data": {
      "text/plain": [
       "['{\"selftext\": \"It was a comely photo\", \"title\": \"NSFW Found an old picture of me and my beautiful girlfriend doing it\"}',\n",
       " '{\"selftext\": \"More like National Dishwasher\\'s Day\", \"title\": \"National Women\\'s Day......\"}']"
      ]
     },
     "execution_count": 116,
     "metadata": {},
     "output_type": "execute_result"
    }
   ],
   "source": [
    "get(None)"
   ]
  },
  {
   "cell_type": "code",
   "execution_count": null,
   "metadata": {
    "collapsed": true
   },
   "outputs": [],
   "source": []
  }
 ],
 "metadata": {
  "kernelspec": {
   "display_name": "Python 2",
   "language": "python",
   "name": "python2"
  },
  "language_info": {
   "codemirror_mode": {
    "name": "ipython",
    "version": 2
   },
   "file_extension": ".py",
   "mimetype": "text/x-python",
   "name": "python",
   "nbconvert_exporter": "python",
   "pygments_lexer": "ipython2",
   "version": "2.7.13"
  }
 },
 "nbformat": 4,
 "nbformat_minor": 2
}

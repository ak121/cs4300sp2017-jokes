{
 "cells": [
  {
   "cell_type": "code",
   "execution_count": 27,
   "metadata": {
    "collapsed": true
   },
   "outputs": [],
   "source": [
    "import scipy as cp\n",
    "import sklearn\n",
    "import spacy\n",
    "\n",
    "import sense2vec"
   ]
  },
  {
   "cell_type": "code",
   "execution_count": 2,
   "metadata": {
    "collapsed": true
   },
   "outputs": [],
   "source": [
    "en_nlp = spacy.load('en')"
   ]
  },
  {
   "cell_type": "code",
   "execution_count": 3,
   "metadata": {
    "collapsed": true
   },
   "outputs": [],
   "source": [
    "# TODO\n",
    "# Learn a little spacy and sense2vec\n",
    "# Make a function to build an inverted index and a tfidf vectorizer given tokenized text."
   ]
  },
  {
   "cell_type": "code",
   "execution_count": null,
   "metadata": {
    "collapsed": true
   },
   "outputs": [],
   "source": [
    "# IMPORTANT!\n",
    "\n",
    "# Part of speech tags\n",
    "# ADJ ADP ADV AUX CONJ DET INTJ NOUN NUM PART PRON PROPN PUNCT SCONJ SYM VERB X\n",
    "\n",
    "# Named entities tags\n",
    "# NORP FACILITY ORG GPE LOC PRODUCT EVENT WORK_OF_ART LANGUAGE"
   ]
  },
  {
   "cell_type": "code",
   "execution_count": 17,
   "metadata": {
    "collapsed": false,
    "scrolled": true
   },
   "outputs": [
    {
     "data": {
      "text/plain": [
       "([u'friend|NOUN',\n",
       "  u'other_friend|NOUN',\n",
       "  u'brother|NOUN',\n",
       "  u'good_friend|NOUN',\n",
       "  u'freind|NOUN'],\n",
       " <MemoryView of 'ndarray' at 0x7fe44bafa590>)"
      ]
     },
     "execution_count": 17,
     "metadata": {},
     "output_type": "execute_result"
    }
   ],
   "source": [
    "# Loading model\n",
    "model_s2v = sense2vec.load('reddit_vectors')"
   ]
  },
  {
   "cell_type": "code",
   "execution_count": null,
   "metadata": {
    "collapsed": true
   },
   "outputs": [],
   "source": [
    "# Finding n most similar word vectors to a particular word vector\n",
    "freq, query_vector = model_s2v[u'friend|NOUN']\n",
    "model_s2v.most_similar(query_vector, n =5)"
   ]
  },
  {
   "cell_type": "code",
   "execution_count": 32,
   "metadata": {
    "collapsed": false,
    "scrolled": true
   },
   "outputs": [
    {
     "name": "stdout",
     "output_type": "stream",
     "text": [
      "0.673017501831\n"
     ]
    }
   ],
   "source": [
    "# Finding how similar two word vectors are each other on a 0 to 1 scale\n",
    "freq1, vector1 = model_s2v[u'foil|NOUN']\n",
    "freq2, vector2 = model_s2v[u'foil|VERB']\n",
    "print model_s2v.data.similarity(vector1, vector2)"
   ]
  },
  {
   "cell_type": "code",
   "execution_count": null,
   "metadata": {
    "collapsed": true
   },
   "outputs": [],
   "source": []
  }
 ],
 "metadata": {
  "kernelspec": {
   "display_name": "Python 2",
   "language": "python",
   "name": "python2"
  },
  "language_info": {
   "codemirror_mode": {
    "name": "ipython",
    "version": 2
   },
   "file_extension": ".py",
   "mimetype": "text/x-python",
   "name": "python",
   "nbconvert_exporter": "python",
   "pygments_lexer": "ipython2",
   "version": "2.7.13"
  }
 },
 "nbformat": 4,
 "nbformat_minor": 2
}

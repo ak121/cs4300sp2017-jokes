{
 "cells": [
  {
   "cell_type": "code",
   "execution_count": 1,
   "metadata": {
    "collapsed": true
   },
   "outputs": [],
   "source": [
    "import scipy as cp\n",
    "import sklearn\n",
    "import spacy\n",
    "import numpy as np\n",
    "\n",
    "import sense2vec"
   ]
  },
  {
   "cell_type": "code",
   "execution_count": 2,
   "metadata": {
    "collapsed": true
   },
   "outputs": [],
   "source": [
    "from spacy.tokens.doc import Doc"
   ]
  },
  {
   "cell_type": "code",
   "execution_count": 3,
   "metadata": {
    "collapsed": true
   },
   "outputs": [],
   "source": [
    "LABELS = {\n",
    "    'ENT': 'ENT',\n",
    "    'PERSON': 'ENT',\n",
    "    'NORP': 'ENT',\n",
    "    'FAC': 'ENT',\n",
    "    'ORG': 'ENT',\n",
    "    'GPE': 'ENT',\n",
    "    'LOC': 'ENT',\n",
    "    'LAW': 'ENT',\n",
    "    'PRODUCT': 'ENT',\n",
    "    'EVENT': 'ENT',\n",
    "    'WORK_OF_ART': 'ENT',\n",
    "    'LANGUAGE': 'ENT',\n",
    "    'DATE': 'DATE',\n",
    "    'TIME': 'TIME',\n",
    "    'PERCENT': 'PERCENT',\n",
    "    'MONEY': 'MONEY',\n",
    "    'QUANTITY': 'QUANTITY',\n",
    "    'ORDINAL': 'ORDINAL',\n",
    "    'CARDINAL': 'CARDINAL'\n",
    "}"
   ]
  },
  {
   "cell_type": "code",
   "execution_count": 4,
   "metadata": {
    "collapsed": true
   },
   "outputs": [],
   "source": [
    "en_nlp = spacy.load('en')"
   ]
  },
  {
   "cell_type": "code",
   "execution_count": 60,
   "metadata": {
    "collapsed": true
   },
   "outputs": [],
   "source": [
    "def transform_texts(texts):\n",
    "    # Load the annotation models\n",
    "    # Stream texts through the models. We accumulate a buffer and release\n",
    "    # the GIL around the parser, for efficient multi-threading.\n",
    "    for doc in en_nlp.pipe(texts, n_threads=4):\n",
    "        # Iterate over base NPs, e.g. \"all their good ideas\"\n",
    "        for np in list(doc.noun_chunks):\n",
    "            # Only keep adjectives and nouns, e.g. \"good ideas\"\n",
    "            while len(np) > 1 and np[0].dep_ not in ('amod', 'compound'):\n",
    "                np = np[1:]\n",
    "            if len(np) > 1:\n",
    "                # Merge the tokens, e.g. good_ideas\n",
    "                np.merge(np.root.tag_, np.text, np.root.ent_type_)\n",
    "            # Iterate over named entities\n",
    "            for ent in doc.ents:\n",
    "                if len(ent) > 1:\n",
    "                    # Merge them into single tokens\n",
    "                    ent.merge(ent.root.tag_, ent.text, ent.label_)\n",
    "        token_strings = []\n",
    "        for token in doc:\n",
    "            text = token.text.replace(' ', '_')\n",
    "            tag = token.ent_type_ or token.pos_\n",
    "            token_strings.append('%s|%s' % (text, tag))\n",
    "        yield ' '.join(token_strings)"
   ]
  },
  {
   "cell_type": "code",
   "execution_count": 72,
   "metadata": {
    "collapsed": false
   },
   "outputs": [
    {
     "name": "stdout",
     "output_type": "stream",
     "text": [
      "[u'I|PRON love|VERB Donald_Trump|PERSON .|PUNCT']\n"
     ]
    }
   ],
   "source": [
    "print list(transform_texts([u\"I love Donald Trump.\"]))"
   ]
  },
  {
   "cell_type": "code",
   "execution_count": 15,
   "metadata": {
    "collapsed": false
   },
   "outputs": [
    {
     "data": {
      "text/plain": [
       "[(2, 4, 15729), (5, 7, 15729), (11, 14, 15729)]"
      ]
     },
     "execution_count": 15,
     "metadata": {},
     "output_type": "execute_result"
    }
   ],
   "source": [
    "list(doc.noun_chunks_iterator(doc))"
   ]
  },
  {
   "cell_type": "code",
   "execution_count": null,
   "metadata": {
    "collapsed": true
   },
   "outputs": [],
   "source": [
    "# IMPORTANT!\n",
    "\n",
    "# Part of speech tags\n",
    "# ADJ ADP ADV AUX CONJ DET INTJ NOUN NUM PART PRON PROPN PUNCT SCONJ SYM VERB X\n",
    "\n",
    "# Named entities tags\n",
    "# NORP FACILITY ORG GPE LOC PRODUCT EVENT WORK_OF_ART LANGUAGE"
   ]
  },
  {
   "cell_type": "code",
   "execution_count": 64,
   "metadata": {
    "collapsed": false,
    "scrolled": true
   },
   "outputs": [],
   "source": [
    "# Loading model\n",
    "model_s2v = sense2vec.load('reddit_vectors')"
   ]
  },
  {
   "cell_type": "code",
   "execution_count": null,
   "metadata": {
    "collapsed": true
   },
   "outputs": [],
   "source": [
    "# Finding n most similar word vectors to a particular word vector\n",
    "freq, query_vector = model_s2v[u'friend|NOUN']\n",
    "model_s2v.most_similar(query_vector, n =5)"
   ]
  },
  {
   "cell_type": "code",
   "execution_count": 70,
   "metadata": {
    "collapsed": false,
    "scrolled": true
   },
   "outputs": [
    {
     "name": "stdout",
     "output_type": "stream",
     "text": [
      "0.424733996391\n"
     ]
    }
   ],
   "source": [
    "# Finding how similar two word vectors are each other on a 0 to 1 scale\n",
    "freq1, vector1 = model_s2v[u'Donald_Trump|PERSON']\n",
    "freq2, vector2 = model_s2v[u'?|PUNCT']\n",
    "print model_s2v.data.similarity(vector1, vector2)"
   ]
  },
  {
   "cell_type": "code",
   "execution_count": null,
   "metadata": {
    "collapsed": true
   },
   "outputs": [],
   "source": []
  }
 ],
 "metadata": {
  "kernelspec": {
   "display_name": "Python 2",
   "language": "python",
   "name": "python2"
  },
  "language_info": {
   "codemirror_mode": {
    "name": "ipython",
    "version": 2
   },
   "file_extension": ".py",
   "mimetype": "text/x-python",
   "name": "python",
   "nbconvert_exporter": "python",
   "pygments_lexer": "ipython2",
   "version": "2.7.12"
  }
 },
 "nbformat": 4,
 "nbformat_minor": 2
}

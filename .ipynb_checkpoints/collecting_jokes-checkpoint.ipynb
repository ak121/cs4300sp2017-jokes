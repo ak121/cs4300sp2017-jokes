{
 "cells": [
  {
   "cell_type": "code",
   "execution_count": 7,
   "metadata": {
    "collapsed": true
   },
   "outputs": [],
   "source": [
    "import praw\n",
    "import pprint\n",
    "import json\n",
    "import datetime"
   ]
  },
  {
   "cell_type": "code",
   "execution_count": 8,
   "metadata": {
    "collapsed": false
   },
   "outputs": [
    {
     "name": "stdout",
     "output_type": "stream",
     "text": [
      "Wow. The neighborhood barber just got arrested for dealing drugs. I've been his customer for years.\n",
      "I saw a sign that made me shit my pants\n",
      "A guy walks into a bar...\n",
      "A little girl was playing in the garden\n",
      "My joke was removed for comparing Trump to Hitler\n"
     ]
    }
   ],
   "source": [
    "reddit = praw.Reddit(user_agent='Comment Extraction (by /u/cs4300)',\n",
    "                     client_id='5Z2o1haAiZ4i5w', client_secret=\"qIDD5claq0zRN-IihNWwTDp8jCU\",\n",
    "                     username='cs4300', password='cs4300')\n",
    "\n",
    "\n",
    "for submission in reddit.subreddit('jokes').hot(limit=5):\n",
    "    print(submission.title)"
   ]
  },
  {
   "cell_type": "code",
   "execution_count": 9,
   "metadata": {
    "collapsed": false
   },
   "outputs": [
    {
     "data": {
      "text/plain": [
       "['MESSAGE_PREFIX',\n",
       " 'STR_FIELD',\n",
       " 'VALID_TIME_FILTERS',\n",
       " '__class__',\n",
       " '__delattr__',\n",
       " '__dict__',\n",
       " '__doc__',\n",
       " '__eq__',\n",
       " '__format__',\n",
       " '__getattr__',\n",
       " '__getattribute__',\n",
       " '__hash__',\n",
       " '__init__',\n",
       " '__module__',\n",
       " '__ne__',\n",
       " '__new__',\n",
       " '__reduce__',\n",
       " '__reduce_ex__',\n",
       " '__repr__',\n",
       " '__setattr__',\n",
       " '__sizeof__',\n",
       " '__str__',\n",
       " '__subclasshook__',\n",
       " '__weakref__',\n",
       " '_banned',\n",
       " '_comments',\n",
       " '_contributor',\n",
       " '_create_or_update',\n",
       " '_fetch',\n",
       " '_fetched',\n",
       " '_filters',\n",
       " '_flair',\n",
       " '_info_path',\n",
       " '_mod',\n",
       " '_moderator',\n",
       " '_muted',\n",
       " '_path',\n",
       " '_quarantine',\n",
       " '_reddit',\n",
       " '_reset_attributes',\n",
       " '_safely_add_arguments',\n",
       " '_stream',\n",
       " '_stylesheet',\n",
       " '_submission_class',\n",
       " '_subreddit_list',\n",
       " '_validate_time_filter',\n",
       " '_wiki',\n",
       " 'banned',\n",
       " 'comments',\n",
       " 'contributor',\n",
       " 'controversial',\n",
       " 'display_name',\n",
       " 'filters',\n",
       " 'flair',\n",
       " 'fullname',\n",
       " 'gilded',\n",
       " 'hot',\n",
       " 'message',\n",
       " 'mod',\n",
       " 'moderator',\n",
       " 'muted',\n",
       " 'new',\n",
       " 'parse',\n",
       " 'quaran',\n",
       " 'random',\n",
       " 'random_rising',\n",
       " 'rising',\n",
       " 'rules',\n",
       " 'search',\n",
       " 'sticky',\n",
       " 'stream',\n",
       " 'stylesheet',\n",
       " 'submissions',\n",
       " 'submit',\n",
       " 'subscribe',\n",
       " 'top',\n",
       " 'traffic',\n",
       " 'unsubscribe',\n",
       " 'wiki']"
      ]
     },
     "execution_count": 9,
     "metadata": {},
     "output_type": "execute_result"
    }
   ],
   "source": [
    "dir(reddit.subreddit('jokes'))"
   ]
  },
  {
   "cell_type": "code",
   "execution_count": 10,
   "metadata": {
    "collapsed": false,
    "scrolled": true
   },
   "outputs": [],
   "source": [
    "lst = reddit.subreddit('jokes').hot(limit=1)\n",
    "for l in lst:\n",
    "    pass\n",
    "#     print(dir(l))\n",
    "    \n",
    "#downs\n",
    "#ups\n",
    "#id\n",
    "#over_18\n",
    "#title\n",
    "#selftext\n",
    "#subreddit\n",
    "#subreddit_id\n"
   ]
  },
  {
   "cell_type": "code",
   "execution_count": 11,
   "metadata": {
    "collapsed": false
   },
   "outputs": [],
   "source": [
    "# for submission in reddit.subreddit('jokes').hot(limit=1):\n",
    "#     print(submission.downs)\n",
    "#     print(submission.ups)\n",
    "#     print(submission.id)\n",
    "#     print(submission.over_18)\n",
    "# #     print(submission.nsfw)\n",
    "#     print(submission.title)\n",
    "#     print(submission.selftext)\n",
    "#     print(submission.subreddit)\n",
    "#     print(num_comments)\n",
    "    \n",
    "#     print(submission.subreddit_id)\n",
    "#     for comment in submission.comments:\n",
    "#         print(dir(comment))\n",
    "# #     print(submission.user_reports)\n",
    "# #     print(submission.subreddit_type)\n",
    "    \n",
    "    "
   ]
  },
  {
   "cell_type": "code",
   "execution_count": 12,
   "metadata": {
    "collapsed": true
   },
   "outputs": [],
   "source": [
    "joke_db = []"
   ]
  },
  {
   "cell_type": "code",
   "execution_count": 13,
   "metadata": {
    "collapsed": true
   },
   "outputs": [],
   "source": [
    "joke_db2 = []"
   ]
  },
  {
   "cell_type": "code",
   "execution_count": 14,
   "metadata": {
    "collapsed": true
   },
   "outputs": [],
   "source": [
    "joke_db3 = []"
   ]
  },
  {
   "cell_type": "code",
   "execution_count": 15,
   "metadata": {
    "collapsed": true
   },
   "outputs": [],
   "source": [
    "dad_jokes = []"
   ]
  },
  {
   "cell_type": "code",
   "execution_count": 16,
   "metadata": {
    "collapsed": true
   },
   "outputs": [],
   "source": [
    "dirty_jokes = []"
   ]
  },
  {
   "cell_type": "code",
   "execution_count": 17,
   "metadata": {
    "collapsed": true
   },
   "outputs": [],
   "source": [
    "dirty_jokes2 = []"
   ]
  },
  {
   "cell_type": "code",
   "execution_count": 18,
   "metadata": {
    "collapsed": true
   },
   "outputs": [],
   "source": [
    "jokes = []"
   ]
  },
  {
   "cell_type": "code",
   "execution_count": 19,
   "metadata": {
    "collapsed": false
   },
   "outputs": [],
   "source": [
    "for submission in reddit.subreddit('jokes').hot(limit=None):\n",
    "\n",
    "    d = {\n",
    "        'num_reports':submission.num_reports,\n",
    "        'domain':submission.domain,\n",
    "        'stickied':submission.stickied,\n",
    "        'archived': submission.archived,\n",
    "        'downvotes': submission.downs,\n",
    "        'upvotes': submission.ups,\n",
    "        'id': submission.id,\n",
    "        'over_18': submission.over_18,\n",
    "        'title': submission.title,\n",
    "        'original_post': submission.selftext,\n",
    "#         'subreddit': submission.subreddit,\n",
    "        'num_comments': submission.num_comments,\n",
    "        'subreddit_id': submission.subreddit_id,\n",
    "        \n",
    "    }\n",
    "    joke_db += [d]\n",
    "# print(joke_db)\n"
   ]
  },
  {
   "cell_type": "code",
   "execution_count": 20,
   "metadata": {
    "collapsed": false
   },
   "outputs": [],
   "source": [
    "for submission in reddit.subreddit('cleanjokes').hot(limit=None):\n",
    "\n",
    "    d = {\n",
    "        'num_reports':submission.num_reports,\n",
    "        'domain':submission.domain,\n",
    "        'stickied':submission.stickied,\n",
    "        'archived': submission.archived,\n",
    "        'downvotes': submission.downs,\n",
    "        'upvotes': submission.ups,\n",
    "        'id': submission.id,\n",
    "        'over_18': submission.over_18,\n",
    "        'title': submission.title,\n",
    "        'original_post': submission.selftext,\n",
    "#         'subreddit': submission.subreddit,\n",
    "        'num_comments': submission.num_comments,\n",
    "        'subreddit_id': submission.subreddit_id,\n",
    "        \n",
    "    }\n",
    "    joke_db2 += [d]\n",
    "# print(joke_db2)\n"
   ]
  },
  {
   "cell_type": "code",
   "execution_count": 21,
   "metadata": {
    "collapsed": false
   },
   "outputs": [
    {
     "data": {
      "text/plain": [
       "990"
      ]
     },
     "execution_count": 21,
     "metadata": {},
     "output_type": "execute_result"
    }
   ],
   "source": [
    "len(joke_db2)"
   ]
  },
  {
   "cell_type": "code",
   "execution_count": 22,
   "metadata": {
    "collapsed": false
   },
   "outputs": [],
   "source": [
    "for submission in reddit.subreddit('jokes').controversial(limit=None):\n",
    "\n",
    "    d = {\n",
    "        'num_reports':submission.num_reports,\n",
    "        'domain':submission.domain,\n",
    "        'stickied':submission.stickied,\n",
    "        'archived': submission.archived,\n",
    "        'downvotes': submission.downs,\n",
    "        'upvotes': submission.ups,\n",
    "        'id': submission.id,\n",
    "        'over_18': submission.over_18,\n",
    "        'title': submission.title,\n",
    "        'original_post': submission.selftext,\n",
    "#         'subreddit': submission.subreddit,\n",
    "        'num_comments': submission.num_comments,\n",
    "        'subreddit_id': submission.subreddit_id,\n",
    "        \n",
    "    }\n",
    "    joke_db3 += [d]\n",
    "# print(joke_db3)\n"
   ]
  },
  {
   "cell_type": "code",
   "execution_count": 23,
   "metadata": {
    "collapsed": false
   },
   "outputs": [
    {
     "data": {
      "text/plain": [
       "2932"
      ]
     },
     "execution_count": 23,
     "metadata": {},
     "output_type": "execute_result"
    }
   ],
   "source": [
    "len(joke_db) + len(joke_db2) + len(joke_db3)"
   ]
  },
  {
   "cell_type": "code",
   "execution_count": 24,
   "metadata": {
    "collapsed": false
   },
   "outputs": [],
   "source": [
    "for submission in reddit.subreddit('dadjokes').hot(limit=None):\n",
    "\n",
    "    d = {\n",
    "        'num_reports':submission.num_reports,\n",
    "        'domain':submission.domain,\n",
    "        'stickied':submission.stickied,\n",
    "        'archived': submission.archived,\n",
    "        'downvotes': submission.downs,\n",
    "        'upvotes': submission.ups,\n",
    "        'id': submission.id,\n",
    "        'over_18': submission.over_18,\n",
    "        'title': submission.title,\n",
    "        'original_post': submission.selftext,\n",
    "#         'subreddit': submission.subreddit,\n",
    "        'num_comments': submission.num_comments,\n",
    "        'subreddit_id': submission.subreddit_id,\n",
    "        \n",
    "    }\n",
    "    dad_jokes += [d]\n",
    "# print(dad_jokes)\n"
   ]
  },
  {
   "cell_type": "code",
   "execution_count": 25,
   "metadata": {
    "collapsed": false
   },
   "outputs": [],
   "source": [
    "for submission in reddit.subreddit('dirtyjokes').top(limit=None):\n",
    "\n",
    "    d = {\n",
    "        'num_reports':submission.num_reports,\n",
    "        'domain':submission.domain,\n",
    "        'stickied':submission.stickied,\n",
    "        'archived': submission.archived,\n",
    "        'downvotes': submission.downs,\n",
    "        'upvotes': submission.ups,\n",
    "        'id': submission.id,\n",
    "        'over_18': submission.over_18,\n",
    "        'title': submission.title,\n",
    "        'original_post': submission.selftext,\n",
    "#         'subreddit': submission.subreddit,\n",
    "        'num_comments': submission.num_comments,\n",
    "        'subreddit_id': submission.subreddit_id,\n",
    "        \n",
    "    }\n",
    "    dirty_jokes += [d]\n",
    "# print(dirty_jokes)"
   ]
  },
  {
   "cell_type": "code",
   "execution_count": 26,
   "metadata": {
    "collapsed": false
   },
   "outputs": [],
   "source": [
    "for submission in reddit.subreddit('dirtyjokes').hot(limit=None):\n",
    "\n",
    "    d = {\n",
    "        'num_reports':submission.num_reports,\n",
    "        'domain':submission.domain,\n",
    "        'stickied':submission.stickied,\n",
    "        'archived': submission.archived,\n",
    "        'downvotes': submission.downs,\n",
    "        'upvotes': submission.ups,\n",
    "        'id': submission.id,\n",
    "        'over_18': submission.over_18,\n",
    "        'title': submission.title,\n",
    "        'original_post': submission.selftext,\n",
    "#         'subreddit': submission.subreddit,\n",
    "        'num_comments': submission.num_comments,\n",
    "        'subreddit_id': submission.subreddit_id,\n",
    "        \n",
    "    }\n",
    "    dirty_jokes2 += [d]\n",
    "# print(dirty_jokes2)"
   ]
  },
  {
   "cell_type": "code",
   "execution_count": 27,
   "metadata": {
    "collapsed": false
   },
   "outputs": [],
   "source": [
    "for submission in reddit.subreddit('jokes').top(limit=None):\n",
    "\n",
    "    d = {\n",
    "        'num_reports':submission.num_reports,\n",
    "        'domain':submission.domain,\n",
    "        'stickied':submission.stickied,\n",
    "        'archived': submission.archived,\n",
    "        'downvotes': submission.downs,\n",
    "        'upvotes': submission.ups,\n",
    "        'id': submission.id,\n",
    "        'over_18': submission.over_18,\n",
    "        'title': submission.title,\n",
    "        'original_post': submission.selftext,\n",
    "#         'subreddit': submission.subreddit,\n",
    "        'num_comments': submission.num_comments,\n",
    "        'subreddit_id': submission.subreddit_id,\n",
    "        \n",
    "    }\n",
    "    jokes += [d]\n",
    "\n",
    "for submission in reddit.subreddit('cleanjokes').top(limit=None):\n",
    "\n",
    "    d = {\n",
    "        'num_reports':submission.num_reports,\n",
    "        'domain':submission.domain,\n",
    "        'stickied':submission.stickied,\n",
    "        'archived': submission.archived,\n",
    "        'downvotes': submission.downs,\n",
    "        'upvotes': submission.ups,\n",
    "        'id': submission.id,\n",
    "        'over_18': submission.over_18,\n",
    "        'title': submission.title,\n",
    "        'original_post': submission.selftext,\n",
    "#         'subreddit': submission.subreddit,\n",
    "        'num_comments': submission.num_comments,\n",
    "        'subreddit_id': submission.subreddit_id,\n",
    "        \n",
    "    }\n",
    "    jokes += [d]\n",
    "    \n",
    "for submission in reddit.subreddit('cleanjokes').controversial(limit=None):\n",
    "\n",
    "    d = {\n",
    "        'num_reports':submission.num_reports,\n",
    "        'domain':submission.domain,\n",
    "        'stickied':submission.stickied,\n",
    "        'archived': submission.archived,\n",
    "        'downvotes': submission.downs,\n",
    "        'upvotes': submission.ups,\n",
    "        'id': submission.id,\n",
    "        'over_18': submission.over_18,\n",
    "        'title': submission.title,\n",
    "        'original_post': submission.selftext,\n",
    "#         'subreddit': submission.subreddit,\n",
    "        'num_comments': submission.num_comments,\n",
    "        'subreddit_id': submission.subreddit_id,\n",
    "        \n",
    "    }\n",
    "    jokes += [d]\n",
    "\n",
    "for submission in reddit.subreddit('dadjokes').top(limit=None):\n",
    "\n",
    "    d = {\n",
    "        'num_reports':submission.num_reports,\n",
    "        'domain':submission.domain,\n",
    "        'stickied':submission.stickied,\n",
    "        'archived': submission.archived,\n",
    "        'downvotes': submission.downs,\n",
    "        'upvotes': submission.ups,\n",
    "        'id': submission.id,\n",
    "        'over_18': submission.over_18,\n",
    "        'title': submission.title,\n",
    "        'original_post': submission.selftext,\n",
    "#         'subreddit': submission.subreddit,\n",
    "        'num_comments': submission.num_comments,\n",
    "        'subreddit_id': submission.subreddit_id,\n",
    "        \n",
    "    }\n",
    "    jokes += [d]\n",
    "\n",
    "for submission in reddit.subreddit('dadjokes').controversial(limit=None):\n",
    "\n",
    "    d = {\n",
    "        'num_reports':submission.num_reports,\n",
    "        'domain':submission.domain,\n",
    "        'stickied':submission.stickied,\n",
    "        'archived': submission.archived,\n",
    "        'downvotes': submission.downs,\n",
    "        'upvotes': submission.ups,\n",
    "        'id': submission.id,\n",
    "        'over_18': submission.over_18,\n",
    "        'title': submission.title,\n",
    "        'original_post': submission.selftext,\n",
    "#         'subreddit': submission.subreddit,\n",
    "        'num_comments': submission.num_comments,\n",
    "        'subreddit_id': submission.subreddit_id,\n",
    "        \n",
    "    }\n",
    "    jokes += [d]\n",
    "\n",
    "    \n",
    "for submission in reddit.subreddit('dirtyjokes').controversial(limit=None):\n",
    "\n",
    "    d = {\n",
    "        'num_reports':submission.num_reports,\n",
    "        'domain':submission.domain,\n",
    "        'stickied':submission.stickied,\n",
    "        'archived': submission.archived,\n",
    "        'downvotes': submission.downs,\n",
    "        'upvotes': submission.ups,\n",
    "        'id': submission.id,\n",
    "        'over_18': submission.over_18,\n",
    "        'title': submission.title,\n",
    "        'original_post': submission.selftext,\n",
    "#         'subreddit': submission.subreddit,\n",
    "        'num_comments': submission.num_comments,\n",
    "        'subreddit_id': submission.subreddit_id,\n",
    "        \n",
    "    }\n",
    "    jokes += [d]\n"
   ]
  },
  {
   "cell_type": "code",
   "execution_count": 28,
   "metadata": {
    "collapsed": true
   },
   "outputs": [],
   "source": [
    "# 1,2,3,dad, dirty\n",
    "curr_count = len(joke_db) + len(joke_db2) + len(joke_db3) + len(dad_jokes) + len(dirty_jokes) + len(dirty_jokes2) + len(jokes)"
   ]
  },
  {
   "cell_type": "code",
   "execution_count": 29,
   "metadata": {
    "collapsed": false
   },
   "outputs": [
    {
     "name": "stdout",
     "output_type": "stream",
     "text": [
      "10655\n"
     ]
    }
   ],
   "source": [
    "print(curr_count)"
   ]
  },
  {
   "cell_type": "code",
   "execution_count": 30,
   "metadata": {
    "collapsed": false
   },
   "outputs": [
    {
     "name": "stdout",
     "output_type": "stream",
     "text": [
      "jokes_3_06_2017_09_05PM.json\n"
     ]
    }
   ],
   "source": [
    "months = {\n",
    "    'January':'1',\n",
    "    'February':'2',\n",
    "    'March':'3',\n",
    "    'April':'4',\n",
    "    'May':'5',\n",
    "    'June':'6',\n",
    "    'July':'7',\n",
    "    'August':'8',\n",
    "    'September':'9',\n",
    "    'October':'10',\n",
    "    'November':'11',\n",
    "    'December':'12',    \n",
    "}\n",
    "\n",
    "date_str = months[datetime.datetime.now().strftime(\"%B\")] + datetime.datetime.now().strftime(\"_%d_%Y_%I_%M%p\")\n",
    "filename = \"jokes_\" + date_str + \".json\"\n",
    "print(filename)"
   ]
  },
  {
   "cell_type": "code",
   "execution_count": 31,
   "metadata": {
    "collapsed": false
   },
   "outputs": [],
   "source": [
    "# Write to json file\n",
    "data = json.dumps(joke_db + joke_db2 + joke_db3 + dad_jokes + dirty_jokes + dirty_jokes2 + jokes, sort_keys=True,indent=4, separators=(',', ': '))\n",
    "with open(filename, 'w') as outfile:\n",
    "    json.dump(data, outfile)"
   ]
  },
  {
   "cell_type": "code",
   "execution_count": 32,
   "metadata": {
    "collapsed": false
   },
   "outputs": [
    {
     "name": "stdout",
     "output_type": "stream",
     "text": [
      "[\n",
      "    {\n",
      "        \"archived\": false,\n",
      "        \"domain\": \"self.Jokes\",\n",
      "        \"downvotes\": 0,\n",
      "        \"\n"
     ]
    }
   ],
   "source": [
    "# Read from json file\n",
    "data_file=open(filename).read()\n",
    "\n",
    "json_data_from_file = json.loads(data_file)\n",
    "print(json_data_from_file[:100])"
   ]
  },
  {
   "cell_type": "code",
   "execution_count": null,
   "metadata": {
    "collapsed": true
   },
   "outputs": [],
   "source": []
  }
 ],
 "metadata": {
  "anaconda-cloud": {},
  "kernelspec": {
   "display_name": "Python 2",
   "language": "python",
   "name": "python2"
  },
  "language_info": {
   "codemirror_mode": {
    "name": "ipython",
    "version": 2
   },
   "file_extension": ".py",
   "mimetype": "text/x-python",
   "name": "python",
   "nbconvert_exporter": "python",
   "pygments_lexer": "ipython2",
   "version": "2.7.12"
  }
 },
 "nbformat": 4,
 "nbformat_minor": 1
}
